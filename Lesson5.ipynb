{
 "cells": [
  {
   "cell_type": "code",
   "execution_count": 1,
   "id": "848dd8e8-44eb-4f04-a0da-11ffb50d8720",
   "metadata": {
    "tags": []
   },
   "outputs": [],
   "source": [
    "import os\n",
    "from pathlib import Path\n",
    "import zipfile, kaggle"
   ]
  },
  {
   "cell_type": "code",
   "execution_count": 2,
   "id": "4744c1a1-1e94-4bf4-ae61-9e1696d351d9",
   "metadata": {
    "tags": []
   },
   "outputs": [],
   "source": [
    "path = Path('titanic')\n",
    "if not path.exists(): #downloading from kaggle api\n",
    "    kaggle.api.competition_download_cli(str(path))\n",
    "    zipfile.ZipFile(f'{path}.zip').extractall(path)"
   ]
  },
  {
   "cell_type": "code",
   "execution_count": 3,
   "id": "750d769f-629f-475d-aa31-122111a84377",
   "metadata": {
    "tags": []
   },
   "outputs": [],
   "source": [
    "import torch, numpy as np, pandas as pd\n",
    "np.set_printoptions(linewidth=140)\n",
    "torch.set_printoptions(linewidth=140, sci_mode=False, edgeitems=7)\n",
    "pd.set_option('display.width', 140)"
   ]
  },
  {
   "cell_type": "code",
   "execution_count": 4,
   "id": "c2f1fc17-20e4-47fd-9dd4-9afafcb95c65",
   "metadata": {
    "tags": []
   },
   "outputs": [
    {
     "data": {
      "text/html": [
       "<div>\n",
       "<style scoped>\n",
       "    .dataframe tbody tr th:only-of-type {\n",
       "        vertical-align: middle;\n",
       "    }\n",
       "\n",
       "    .dataframe tbody tr th {\n",
       "        vertical-align: top;\n",
       "    }\n",
       "\n",
       "    .dataframe thead th {\n",
       "        text-align: right;\n",
       "    }\n",
       "</style>\n",
       "<table border=\"1\" class=\"dataframe\">\n",
       "  <thead>\n",
       "    <tr style=\"text-align: right;\">\n",
       "      <th></th>\n",
       "      <th>PassengerId</th>\n",
       "      <th>Survived</th>\n",
       "      <th>Pclass</th>\n",
       "      <th>Name</th>\n",
       "      <th>Sex</th>\n",
       "      <th>Age</th>\n",
       "      <th>SibSp</th>\n",
       "      <th>Parch</th>\n",
       "      <th>Ticket</th>\n",
       "      <th>Fare</th>\n",
       "      <th>Cabin</th>\n",
       "      <th>Embarked</th>\n",
       "    </tr>\n",
       "  </thead>\n",
       "  <tbody>\n",
       "    <tr>\n",
       "      <th>0</th>\n",
       "      <td>1</td>\n",
       "      <td>0</td>\n",
       "      <td>3</td>\n",
       "      <td>Braund, Mr. Owen Harris</td>\n",
       "      <td>male</td>\n",
       "      <td>22.0</td>\n",
       "      <td>1</td>\n",
       "      <td>0</td>\n",
       "      <td>A/5 21171</td>\n",
       "      <td>7.2500</td>\n",
       "      <td>NaN</td>\n",
       "      <td>S</td>\n",
       "    </tr>\n",
       "    <tr>\n",
       "      <th>1</th>\n",
       "      <td>2</td>\n",
       "      <td>1</td>\n",
       "      <td>1</td>\n",
       "      <td>Cumings, Mrs. John Bradley (Florence Briggs Th...</td>\n",
       "      <td>female</td>\n",
       "      <td>38.0</td>\n",
       "      <td>1</td>\n",
       "      <td>0</td>\n",
       "      <td>PC 17599</td>\n",
       "      <td>71.2833</td>\n",
       "      <td>C85</td>\n",
       "      <td>C</td>\n",
       "    </tr>\n",
       "    <tr>\n",
       "      <th>2</th>\n",
       "      <td>3</td>\n",
       "      <td>1</td>\n",
       "      <td>3</td>\n",
       "      <td>Heikkinen, Miss. Laina</td>\n",
       "      <td>female</td>\n",
       "      <td>26.0</td>\n",
       "      <td>0</td>\n",
       "      <td>0</td>\n",
       "      <td>STON/O2. 3101282</td>\n",
       "      <td>7.9250</td>\n",
       "      <td>NaN</td>\n",
       "      <td>S</td>\n",
       "    </tr>\n",
       "  </tbody>\n",
       "</table>\n",
       "</div>"
      ],
      "text/plain": [
       "   PassengerId  Survived  Pclass                                               Name     Sex   Age  SibSp  Parch            Ticket   \n",
       "0            1         0       3                            Braund, Mr. Owen Harris    male  22.0      1      0         A/5 21171  \\\n",
       "1            2         1       1  Cumings, Mrs. John Bradley (Florence Briggs Th...  female  38.0      1      0          PC 17599   \n",
       "2            3         1       3                             Heikkinen, Miss. Laina  female  26.0      0      0  STON/O2. 3101282   \n",
       "\n",
       "      Fare Cabin Embarked  \n",
       "0   7.2500   NaN        S  \n",
       "1  71.2833   C85        C  \n",
       "2   7.9250   NaN        S  "
      ]
     },
     "execution_count": 4,
     "metadata": {},
     "output_type": "execute_result"
    }
   ],
   "source": [
    "df = pd.read_csv(path/'train.csv')\n",
    "df.head(3)"
   ]
  },
  {
   "cell_type": "code",
   "execution_count": 5,
   "id": "ec082610-f190-449d-9a89-4d53a4d32f61",
   "metadata": {
    "tags": []
   },
   "outputs": [
    {
     "data": {
      "text/plain": [
       "PassengerId      0\n",
       "Survived         0\n",
       "Pclass           0\n",
       "Name             0\n",
       "Sex              0\n",
       "Age            177\n",
       "SibSp            0\n",
       "Parch            0\n",
       "Ticket           0\n",
       "Fare             0\n",
       "Cabin          687\n",
       "Embarked         2\n",
       "dtype: int64"
      ]
     },
     "execution_count": 5,
     "metadata": {},
     "output_type": "execute_result"
    }
   ],
   "source": [
    "df.isna().sum() \n",
    "# We note lots of missing values for age and cabin"
   ]
  },
  {
   "cell_type": "code",
   "execution_count": 6,
   "id": "192d3481-2db6-45c1-8e72-0a325d3053dd",
   "metadata": {
    "tags": []
   },
   "outputs": [
    {
     "data": {
      "text/plain": [
       "PassengerId                      1\n",
       "Survived                       0.0\n",
       "Pclass                         3.0\n",
       "Name           Abbing, Mr. Anthony\n",
       "Sex                           male\n",
       "Age                           24.0\n",
       "SibSp                          0.0\n",
       "Parch                          0.0\n",
       "Ticket                        1601\n",
       "Fare                          8.05\n",
       "Cabin                      B96 B98\n",
       "Embarked                         S\n",
       "Name: 0, dtype: object"
      ]
     },
     "execution_count": 6,
     "metadata": {},
     "output_type": "execute_result"
    }
   ],
   "source": [
    "modes = df.mode().iloc[0]\n",
    "modes"
   ]
  },
  {
   "cell_type": "code",
   "execution_count": 7,
   "id": "38672c5b-c4b3-4648-9292-21930d8a88a8",
   "metadata": {
    "tags": []
   },
   "outputs": [],
   "source": [
    "df.fillna(modes, inplace=True) #Filling in missing values with the mode"
   ]
  },
  {
   "cell_type": "code",
   "execution_count": 8,
   "id": "a039d722-b3ce-451f-aae5-22c29eb58097",
   "metadata": {
    "tags": []
   },
   "outputs": [
    {
     "data": {
      "text/plain": [
       "PassengerId    0\n",
       "Survived       0\n",
       "Pclass         0\n",
       "Name           0\n",
       "Sex            0\n",
       "Age            0\n",
       "SibSp          0\n",
       "Parch          0\n",
       "Ticket         0\n",
       "Fare           0\n",
       "Cabin          0\n",
       "Embarked       0\n",
       "dtype: int64"
      ]
     },
     "execution_count": 8,
     "metadata": {},
     "output_type": "execute_result"
    }
   ],
   "source": [
    "df.isna().sum()"
   ]
  },
  {
   "cell_type": "code",
   "execution_count": 9,
   "id": "332fb0eb-b589-4e24-aadf-4c4811908798",
   "metadata": {
    "tags": []
   },
   "outputs": [
    {
     "data": {
      "text/plain": [
       "<Axes: >"
      ]
     },
     "execution_count": 9,
     "metadata": {},
     "output_type": "execute_result"
    },
    {
     "data": {
      "image/png": "[encoded data removed]",
      "text/plain": [
       "<Figure size 640x480 with 1 Axes>"
      ]
     },
     "metadata": {},
     "output_type": "display_data"
    }
   ],
   "source": [
    "df['Fare'].hist()"
   ]
  },
  {
   "cell_type": "code",
   "execution_count": 10,
   "id": "9919fb5d-bbfa-48be-b77a-0c037ae99884",
   "metadata": {
    "tags": []
   },
   "outputs": [],
   "source": [
    "#transform hist to prevent long postive skew from affecting results\n",
    "df['Logfare'] = np.log(df['Fare'] + 1) #prevents 0 values "
   ]
  },
  {
   "cell_type": "code",
   "execution_count": 11,
   "id": "cf7cff01-1961-45b4-b0c7-7539780d92e2",
   "metadata": {
    "tags": []
   },
   "outputs": [
    {
     "data": {
      "text/plain": [
       "<Axes: >"
      ]
     },
     "execution_count": 11,
     "metadata": {},
     "output_type": "execute_result"
    },
    {
     "data": {
      "image/png": "[encoded data removed]",
      "text/plain": [
       "<Figure size 640x480 with 1 Axes>"
      ]
     },
     "metadata": {},
     "output_type": "display_data"
    }
   ],
   "source": [
    "df['Logfare'].hist()"
   ]
  },
  {
   "cell_type": "code",
   "execution_count": 12,
   "id": "3374ca8d-aff2-4f86-8820-1611d9d17a54",
   "metadata": {
    "tags": []
   },
   "outputs": [
    {
     "data": {
      "text/plain": [
       "Pclass\n",
       "3    491\n",
       "1    216\n",
       "2    184\n",
       "Name: count, dtype: int64"
      ]
     },
     "execution_count": 12,
     "metadata": {},
     "output_type": "execute_result"
    }
   ],
   "source": [
    "df.Pclass.value_counts()"
   ]
  },
  {
   "cell_type": "code",
   "execution_count": 13,
   "id": "bb4aaf6f-33db-40e5-bb32-03aeec470e95",
   "metadata": {
    "tags": []
   },
   "outputs": [
    {
     "data": {
      "text/html": [
       "<div>\n",
       "<style scoped>\n",
       "    .dataframe tbody tr th:only-of-type {\n",
       "        vertical-align: middle;\n",
       "    }\n",
       "\n",
       "    .dataframe tbody tr th {\n",
       "        vertical-align: top;\n",
       "    }\n",
       "\n",
       "    .dataframe thead th {\n",
       "        text-align: right;\n",
       "    }\n",
       "</style>\n",
       "<table border=\"1\" class=\"dataframe\">\n",
       "  <thead>\n",
       "    <tr style=\"text-align: right;\">\n",
       "      <th></th>\n",
       "      <th>Name</th>\n",
       "      <th>Sex</th>\n",
       "      <th>Ticket</th>\n",
       "      <th>Cabin</th>\n",
       "      <th>Embarked</th>\n",
       "    </tr>\n",
       "  </thead>\n",
       "  <tbody>\n",
       "    <tr>\n",
       "      <th>count</th>\n",
       "      <td>891</td>\n",
       "      <td>891</td>\n",
       "      <td>891</td>\n",
       "      <td>891</td>\n",
       "      <td>891</td>\n",
       "    </tr>\n",
       "    <tr>\n",
       "      <th>unique</th>\n",
       "      <td>891</td>\n",
       "      <td>2</td>\n",
       "      <td>681</td>\n",
       "      <td>147</td>\n",
       "      <td>3</td>\n",
       "    </tr>\n",
       "    <tr>\n",
       "      <th>top</th>\n",
       "      <td>Braund, Mr. Owen Harris</td>\n",
       "      <td>male</td>\n",
       "      <td>347082</td>\n",
       "      <td>B96 B98</td>\n",
       "      <td>S</td>\n",
       "    </tr>\n",
       "    <tr>\n",
       "      <th>freq</th>\n",
       "      <td>1</td>\n",
       "      <td>577</td>\n",
       "      <td>7</td>\n",
       "      <td>691</td>\n",
       "      <td>646</td>\n",
       "    </tr>\n",
       "  </tbody>\n",
       "</table>\n",
       "</div>"
      ],
      "text/plain": [
       "                           Name   Sex  Ticket    Cabin Embarked\n",
       "count                       891   891     891      891      891\n",
       "unique                      891     2     681      147        3\n",
       "top     Braund, Mr. Owen Harris  male  347082  B96 B98        S\n",
       "freq                          1   577       7      691      646"
      ]
     },
     "execution_count": 13,
     "metadata": {},
     "output_type": "execute_result"
    }
   ],
   "source": [
    "df.describe(include = [object])"
   ]
  },
  {
   "cell_type": "code",
   "execution_count": 14,
   "id": "02401e41-105b-4c72-846c-811dd1d939b1",
   "metadata": {
    "tags": []
   },
   "outputs": [
    {
     "data": {
      "text/plain": [
       "Index(['PassengerId', 'Survived', 'Name', 'Age', 'SibSp', 'Parch', 'Ticket', 'Fare', 'Cabin', 'Logfare', 'Sex_female', 'Sex_male',\n",
       "       'Pclass_1', 'Pclass_2', 'Pclass_3', 'Embarked_C', 'Embarked_Q', 'Embarked_S'],\n",
       "      dtype='object')"
      ]
     },
     "execution_count": 14,
     "metadata": {},
     "output_type": "execute_result"
    }
   ],
   "source": [
    "df = pd.get_dummies(df, columns = ['Sex', 'Pclass', 'Embarked'], dtype = 'float')\n",
    "df.columns\n",
    "#one - hot encoding"
   ]
  },
  {
   "cell_type": "code",
   "execution_count": 15,
   "id": "c94d8b64-aa54-4d1e-9ea2-d7fd0859d672",
   "metadata": {
    "tags": []
   },
   "outputs": [
    {
     "data": {
      "text/plain": [
       "Index(['PassengerId', 'Survived', 'Name', 'Age', 'SibSp', 'Parch', 'Ticket', 'Fare', 'Cabin', 'Logfare', 'Sex_female', 'Sex_male',\n",
       "       'Pclass_1', 'Pclass_2', 'Pclass_3', 'Embarked_C', 'Embarked_Q', 'Embarked_S'],\n",
       "      dtype='object')"
      ]
     },
     "execution_count": 15,
     "metadata": {},
     "output_type": "execute_result"
    }
   ],
   "source": [
    "df.columns"
   ]
  },
  {
   "cell_type": "code",
   "execution_count": 16,
   "id": "a55f5308-487d-4327-8649-eb90a61c55cc",
   "metadata": {
    "tags": []
   },
   "outputs": [
    {
     "data": {
      "text/html": [
       "<div>\n",
       "<style scoped>\n",
       "    .dataframe tbody tr th:only-of-type {\n",
       "        vertical-align: middle;\n",
       "    }\n",
       "\n",
       "    .dataframe tbody tr th {\n",
       "        vertical-align: top;\n",
       "    }\n",
       "\n",
       "    .dataframe thead th {\n",
       "        text-align: right;\n",
       "    }\n",
       "</style>\n",
       "<table border=\"1\" class=\"dataframe\">\n",
       "  <thead>\n",
       "    <tr style=\"text-align: right;\">\n",
       "      <th></th>\n",
       "      <th>Sex_male</th>\n",
       "      <th>Sex_female</th>\n",
       "      <th>Pclass_1</th>\n",
       "      <th>Pclass_2</th>\n",
       "      <th>Pclass_3</th>\n",
       "      <th>Embarked_C</th>\n",
       "      <th>Embarked_Q</th>\n",
       "      <th>Embarked_S</th>\n",
       "    </tr>\n",
       "  </thead>\n",
       "  <tbody>\n",
       "    <tr>\n",
       "      <th>0</th>\n",
       "      <td>1.0</td>\n",
       "      <td>0.0</td>\n",
       "      <td>0.0</td>\n",
       "      <td>0.0</td>\n",
       "      <td>1.0</td>\n",
       "      <td>0.0</td>\n",
       "      <td>0.0</td>\n",
       "      <td>1.0</td>\n",
       "    </tr>\n",
       "    <tr>\n",
       "      <th>1</th>\n",
       "      <td>0.0</td>\n",
       "      <td>1.0</td>\n",
       "      <td>1.0</td>\n",
       "      <td>0.0</td>\n",
       "      <td>0.0</td>\n",
       "      <td>1.0</td>\n",
       "      <td>0.0</td>\n",
       "      <td>0.0</td>\n",
       "    </tr>\n",
       "    <tr>\n",
       "      <th>2</th>\n",
       "      <td>0.0</td>\n",
       "      <td>1.0</td>\n",
       "      <td>0.0</td>\n",
       "      <td>0.0</td>\n",
       "      <td>1.0</td>\n",
       "      <td>0.0</td>\n",
       "      <td>0.0</td>\n",
       "      <td>1.0</td>\n",
       "    </tr>\n",
       "    <tr>\n",
       "      <th>3</th>\n",
       "      <td>0.0</td>\n",
       "      <td>1.0</td>\n",
       "      <td>1.0</td>\n",
       "      <td>0.0</td>\n",
       "      <td>0.0</td>\n",
       "      <td>0.0</td>\n",
       "      <td>0.0</td>\n",
       "      <td>1.0</td>\n",
       "    </tr>\n",
       "    <tr>\n",
       "      <th>4</th>\n",
       "      <td>1.0</td>\n",
       "      <td>0.0</td>\n",
       "      <td>0.0</td>\n",
       "      <td>0.0</td>\n",
       "      <td>1.0</td>\n",
       "      <td>0.0</td>\n",
       "      <td>0.0</td>\n",
       "      <td>1.0</td>\n",
       "    </tr>\n",
       "    <tr>\n",
       "      <th>5</th>\n",
       "      <td>1.0</td>\n",
       "      <td>0.0</td>\n",
       "      <td>0.0</td>\n",
       "      <td>0.0</td>\n",
       "      <td>1.0</td>\n",
       "      <td>0.0</td>\n",
       "      <td>1.0</td>\n",
       "      <td>0.0</td>\n",
       "    </tr>\n",
       "    <tr>\n",
       "      <th>6</th>\n",
       "      <td>1.0</td>\n",
       "      <td>0.0</td>\n",
       "      <td>1.0</td>\n",
       "      <td>0.0</td>\n",
       "      <td>0.0</td>\n",
       "      <td>0.0</td>\n",
       "      <td>0.0</td>\n",
       "      <td>1.0</td>\n",
       "    </tr>\n",
       "    <tr>\n",
       "      <th>7</th>\n",
       "      <td>1.0</td>\n",
       "      <td>0.0</td>\n",
       "      <td>0.0</td>\n",
       "      <td>0.0</td>\n",
       "      <td>1.0</td>\n",
       "      <td>0.0</td>\n",
       "      <td>0.0</td>\n",
       "      <td>1.0</td>\n",
       "    </tr>\n",
       "    <tr>\n",
       "      <th>8</th>\n",
       "      <td>0.0</td>\n",
       "      <td>1.0</td>\n",
       "      <td>0.0</td>\n",
       "      <td>0.0</td>\n",
       "      <td>1.0</td>\n",
       "      <td>0.0</td>\n",
       "      <td>0.0</td>\n",
       "      <td>1.0</td>\n",
       "    </tr>\n",
       "    <tr>\n",
       "      <th>9</th>\n",
       "      <td>0.0</td>\n",
       "      <td>1.0</td>\n",
       "      <td>0.0</td>\n",
       "      <td>1.0</td>\n",
       "      <td>0.0</td>\n",
       "      <td>1.0</td>\n",
       "      <td>0.0</td>\n",
       "      <td>0.0</td>\n",
       "    </tr>\n",
       "  </tbody>\n",
       "</table>\n",
       "</div>"
      ],
      "text/plain": [
       "   Sex_male  Sex_female  Pclass_1  Pclass_2  Pclass_3  Embarked_C  Embarked_Q  Embarked_S\n",
       "0       1.0         0.0       0.0       0.0       1.0         0.0         0.0         1.0\n",
       "1       0.0         1.0       1.0       0.0       0.0         1.0         0.0         0.0\n",
       "2       0.0         1.0       0.0       0.0       1.0         0.0         0.0         1.0\n",
       "3       0.0         1.0       1.0       0.0       0.0         0.0         0.0         1.0\n",
       "4       1.0         0.0       0.0       0.0       1.0         0.0         0.0         1.0\n",
       "5       1.0         0.0       0.0       0.0       1.0         0.0         1.0         0.0\n",
       "6       1.0         0.0       1.0       0.0       0.0         0.0         0.0         1.0\n",
       "7       1.0         0.0       0.0       0.0       1.0         0.0         0.0         1.0\n",
       "8       0.0         1.0       0.0       0.0       1.0         0.0         0.0         1.0\n",
       "9       0.0         1.0       0.0       1.0       0.0         1.0         0.0         0.0"
      ]
     },
     "execution_count": 16,
     "metadata": {},
     "output_type": "execute_result"
    }
   ],
   "source": [
    "added_cols = ['Sex_male', 'Sex_female', 'Pclass_1', 'Pclass_2', 'Pclass_3', 'Embarked_C', 'Embarked_Q', 'Embarked_S']\n",
    "df[added_cols].head(10)"
   ]
  },
  {
   "cell_type": "code",
   "execution_count": 17,
   "id": "7f498627-41b3-454e-b50f-69bbfe4d6872",
   "metadata": {
    "tags": []
   },
   "outputs": [],
   "source": [
    "from torch import tensor\n",
    "t_dep = tensor(df.Survived)"
   ]
  },
  {
   "cell_type": "code",
   "execution_count": 18,
   "id": "62e89e1e-242e-4fe4-8d95-347b9ee861a4",
   "metadata": {
    "tags": []
   },
   "outputs": [
    {
     "data": {
      "text/plain": [
       "tensor([[22.0000,  1.0000,  0.0000,  2.1102,  1.0000,  0.0000,  0.0000,  0.0000,  1.0000,  0.0000,  0.0000,  1.0000],\n",
       "        [38.0000,  1.0000,  0.0000,  4.2806,  0.0000,  1.0000,  1.0000,  0.0000,  0.0000,  1.0000,  0.0000,  0.0000],\n",
       "        [26.0000,  0.0000,  0.0000,  2.1889,  0.0000,  1.0000,  0.0000,  0.0000,  1.0000,  0.0000,  0.0000,  1.0000],\n",
       "        [35.0000,  1.0000,  0.0000,  3.9908,  0.0000,  1.0000,  1.0000,  0.0000,  0.0000,  0.0000,  0.0000,  1.0000],\n",
       "        [35.0000,  0.0000,  0.0000,  2.2028,  1.0000,  0.0000,  0.0000,  0.0000,  1.0000,  0.0000,  0.0000,  1.0000],\n",
       "        [24.0000,  0.0000,  0.0000,  2.2469,  1.0000,  0.0000,  0.0000,  0.0000,  1.0000,  0.0000,  1.0000,  0.0000],\n",
       "        [54.0000,  0.0000,  0.0000,  3.9677,  1.0000,  0.0000,  1.0000,  0.0000,  0.0000,  0.0000,  0.0000,  1.0000],\n",
       "        ...,\n",
       "        [25.0000,  0.0000,  0.0000,  2.0857,  1.0000,  0.0000,  0.0000,  0.0000,  1.0000,  0.0000,  0.0000,  1.0000],\n",
       "        [39.0000,  0.0000,  5.0000,  3.4054,  0.0000,  1.0000,  0.0000,  0.0000,  1.0000,  0.0000,  1.0000,  0.0000],\n",
       "        [27.0000,  0.0000,  0.0000,  2.6391,  1.0000,  0.0000,  0.0000,  1.0000,  0.0000,  0.0000,  0.0000,  1.0000],\n",
       "        [19.0000,  0.0000,  0.0000,  3.4340,  0.0000,  1.0000,  1.0000,  0.0000,  0.0000,  0.0000,  0.0000,  1.0000],\n",
       "        [24.0000,  1.0000,  2.0000,  3.1966,  0.0000,  1.0000,  0.0000,  0.0000,  1.0000,  0.0000,  0.0000,  1.0000],\n",
       "        [26.0000,  0.0000,  0.0000,  3.4340,  1.0000,  0.0000,  1.0000,  0.0000,  0.0000,  1.0000,  0.0000,  0.0000],\n",
       "        [32.0000,  0.0000,  0.0000,  2.1691,  1.0000,  0.0000,  0.0000,  0.0000,  1.0000,  0.0000,  1.0000,  0.0000]])"
      ]
     },
     "execution_count": 18,
     "metadata": {},
     "output_type": "execute_result"
    }
   ],
   "source": [
    "indep_cols = ['Age', 'SibSp', 'Parch', 'Logfare'] + added_cols\n",
    "t_indep = tensor(df[indep_cols].values, dtype = torch.float)\n",
    "t_indep"
   ]
  },
  {
   "cell_type": "code",
   "execution_count": 19,
   "id": "307dbd8b-5a02-43f9-8fcd-1c02f206df66",
   "metadata": {
    "tags": []
   },
   "outputs": [
    {
     "data": {
      "text/plain": [
       "torch.Size([891, 12])"
      ]
     },
     "execution_count": 19,
     "metadata": {},
     "output_type": "execute_result"
    }
   ],
   "source": [
    "t_indep.size()"
   ]
  },
  {
   "cell_type": "code",
   "execution_count": 20,
   "id": "86951303-bb2a-4b90-af3e-ac4033c8f611",
   "metadata": {
    "tags": []
   },
   "outputs": [
    {
     "data": {
      "text/plain": [
       "2"
      ]
     },
     "execution_count": 20,
     "metadata": {},
     "output_type": "execute_result"
    }
   ],
   "source": [
    "len(t_indep.shape) # Matrix is rank 2 tensor"
   ]
  },
  {
   "cell_type": "markdown",
   "id": "8ea15030-b4e6-455c-a9f3-df6c0d4c4fb9",
   "metadata": {},
   "source": [
    "# Linear Model"
   ]
  },
  {
   "cell_type": "code",
   "execution_count": 21,
   "id": "2ce16789-ecca-45cd-8ff2-1f635fbb9ec5",
   "metadata": {
    "tags": []
   },
   "outputs": [
    {
     "data": {
      "text/plain": [
       "tensor([-0.0658,  0.0351,  0.3302, -0.3761, -0.4707,  0.0494, -0.1175,  0.0463, -0.0317, -0.4828, -0.4786, -0.1336])"
      ]
     },
     "execution_count": 21,
     "metadata": {},
     "output_type": "execute_result"
    }
   ],
   "source": [
    "#Creating random coefficients, 1 coefficient for 1 column. Don't need a constant?\n",
    "#Re-seed \n",
    "torch.manual_seed(17)\n",
    "\n",
    "n_coeff = t_indep.shape[1]\n",
    "coeffs = (torch.rand(n_coeff) - 0.5) # Centered around 0\n",
    "coeffs"
   ]
  },
  {
   "cell_type": "code",
   "execution_count": 22,
   "id": "9c909231-40e6-4e97-996b-1f40dfea05b5",
   "metadata": {
    "tags": []
   },
   "outputs": [
    {
     "data": {
      "text/plain": [
       "tensor([[-1.4467,  0.0351,  0.0000, -0.7937, -0.4707,  0.0000, -0.0000,  0.0000, -0.0317, -0.0000, -0.0000, -0.1336],\n",
       "        [-2.4988,  0.0351,  0.0000, -1.6101, -0.0000,  0.0494, -0.1175,  0.0000, -0.0000, -0.4828, -0.0000, -0.0000],\n",
       "        [-1.7097,  0.0000,  0.0000, -0.8233, -0.0000,  0.0494, -0.0000,  0.0000, -0.0317, -0.0000, -0.0000, -0.1336],\n",
       "        [-2.3016,  0.0351,  0.0000, -1.5011, -0.0000,  0.0494, -0.1175,  0.0000, -0.0000, -0.0000, -0.0000, -0.1336],\n",
       "        [-2.3016,  0.0000,  0.0000, -0.8285, -0.4707,  0.0000, -0.0000,  0.0000, -0.0317, -0.0000, -0.0000, -0.1336],\n",
       "        [-1.5782,  0.0000,  0.0000, -0.8451, -0.4707,  0.0000, -0.0000,  0.0000, -0.0317, -0.0000, -0.4786, -0.0000],\n",
       "        [-3.5510,  0.0000,  0.0000, -1.4924, -0.4707,  0.0000, -0.1175,  0.0000, -0.0000, -0.0000, -0.0000, -0.1336],\n",
       "        ...,\n",
       "        [-1.6440,  0.0000,  0.0000, -0.7845, -0.4707,  0.0000, -0.0000,  0.0000, -0.0317, -0.0000, -0.0000, -0.1336],\n",
       "        [-2.5646,  0.0000,  1.6510, -1.2809, -0.0000,  0.0494, -0.0000,  0.0000, -0.0317, -0.0000, -0.4786, -0.0000],\n",
       "        [-1.7755,  0.0000,  0.0000, -0.9926, -0.4707,  0.0000, -0.0000,  0.0463, -0.0000, -0.0000, -0.0000, -0.1336],\n",
       "        [-1.2494,  0.0000,  0.0000, -1.2916, -0.0000,  0.0494, -0.1175,  0.0000, -0.0000, -0.0000, -0.0000, -0.1336],\n",
       "        [-1.5782,  0.0351,  0.6604, -1.2024, -0.0000,  0.0494, -0.0000,  0.0000, -0.0317, -0.0000, -0.0000, -0.1336],\n",
       "        [-1.7097,  0.0000,  0.0000, -1.2916, -0.4707,  0.0000, -0.1175,  0.0000, -0.0000, -0.4828, -0.0000, -0.0000],\n",
       "        [-2.1043,  0.0000,  0.0000, -0.8159, -0.4707,  0.0000, -0.0000,  0.0000, -0.0317, -0.0000, -0.4786, -0.0000]])"
      ]
     },
     "execution_count": 22,
     "metadata": {},
     "output_type": "execute_result"
    }
   ],
   "source": [
    "t_indep * coeffs "
   ]
  },
  {
   "cell_type": "code",
   "execution_count": 152,
   "id": "c794baf6-a568-48e8-947a-3abd3781dcf2",
   "metadata": {
    "tags": []
   },
   "outputs": [
    {
     "data": {
      "text/plain": [
       "torch.Size([891, 12])"
      ]
     },
     "execution_count": 152,
     "metadata": {},
     "output_type": "execute_result"
    }
   ],
   "source": [
    "t_indep.shape"
   ]
  },
  {
   "cell_type": "code",
   "execution_count": 24,
   "id": "2654cbd5-5a6d-4b0e-96b6-8d2244441682",
   "metadata": {
    "tags": []
   },
   "outputs": [
    {
     "data": {
      "text/plain": [
       "tensor([80.0000,  8.0000,  6.0000,  6.2409,  1.0000,  1.0000,  1.0000,  1.0000,  1.0000,  1.0000,  1.0000,  1.0000])"
      ]
     },
     "execution_count": 24,
     "metadata": {},
     "output_type": "execute_result"
    }
   ],
   "source": [
    "vals, indices = t_indep.max(dim=0)\n",
    "vals"
   ]
  },
  {
   "cell_type": "code",
   "execution_count": 25,
   "id": "aa77cc30-59e6-4dc0-9e7d-20d3aaf2f25f",
   "metadata": {},
   "outputs": [],
   "source": [
    "t_indep = t_indep/vals #scaling by max value"
   ]
  },
  {
   "cell_type": "code",
   "execution_count": 27,
   "id": "e1b77628-beac-49a9-abc9-6d61986f5125",
   "metadata": {
    "tags": []
   },
   "outputs": [
    {
     "data": {
      "text/plain": [
       "torch.Size([891])"
      ]
     },
     "execution_count": 27,
     "metadata": {},
     "output_type": "execute_result"
    }
   ],
   "source": [
    "preds = (t_indep*coeffs).sum(axis=1)\n",
    "preds.shape"
   ]
  },
  {
   "cell_type": "code",
   "execution_count": 28,
   "id": "d6fd5a87-9082-47ba-b753-7228ba74af23",
   "metadata": {
    "tags": []
   },
   "outputs": [
    {
     "data": {
      "text/plain": [
       "tensor(1.1156)"
      ]
     },
     "execution_count": 28,
     "metadata": {},
     "output_type": "execute_result"
    }
   ],
   "source": [
    "loss = torch.abs(preds - t_dep).mean()\n",
    "loss"
   ]
  },
  {
   "cell_type": "code",
   "execution_count": 29,
   "id": "ed9b625b-c2c3-405d-bc0f-25f681f02531",
   "metadata": {
    "tags": []
   },
   "outputs": [],
   "source": [
    "def calc_preds(coeffs, indep):\n",
    "    return (indep*coeffs).sum(axis=1)\n",
    "def calc_loss(coeffs, indep , dep ):\n",
    "    return torch.abs(calc_preds(coeffs, indep) - dep).mean()\n"
   ]
  },
  {
   "cell_type": "markdown",
   "id": "64101c28-9bd3-4844-8732-fa18dda4f868",
   "metadata": {},
   "source": [
    "## Performing a Gradient Descent Step "
   ]
  },
  {
   "cell_type": "code",
   "execution_count": 30,
   "id": "1d2aa2db-3b89-417f-acf1-be75be2ef5e2",
   "metadata": {
    "tags": []
   },
   "outputs": [
    {
     "data": {
      "text/plain": [
       "tensor([-0.0658,  0.0351,  0.3302, -0.3761, -0.4707,  0.0494, -0.1175,  0.0463, -0.0317, -0.4828, -0.4786, -0.1336], requires_grad=True)"
      ]
     },
     "execution_count": 30,
     "metadata": {},
     "output_type": "execute_result"
    }
   ],
   "source": [
    "coeffs.requires_grad_() # remember an extra _ indicates that change is happening inplace"
   ]
  },
  {
   "cell_type": "code",
   "execution_count": 31,
   "id": "983bd51d-05ac-42c6-addc-7f81ea0102b1",
   "metadata": {
    "tags": []
   },
   "outputs": [
    {
     "data": {
      "text/plain": [
       "tensor(1.1156, grad_fn=<MeanBackward0>)"
      ]
     },
     "execution_count": 31,
     "metadata": {},
     "output_type": "execute_result"
    }
   ],
   "source": [
    "loss = calc_loss(coeffs, t_indep, t_dep)\n",
    "loss"
   ]
  },
  {
   "cell_type": "code",
   "execution_count": 32,
   "id": "b49609f6-c42c-4198-9c1b-2f943c9f9d53",
   "metadata": {
    "tags": []
   },
   "outputs": [],
   "source": [
    "loss.backward()"
   ]
  },
  {
   "cell_type": "code",
   "execution_count": 33,
   "id": "ca207a06-b341-4df2-aa5b-a4be7ec355ba",
   "metadata": {
    "tags": []
   },
   "outputs": [
    {
     "data": {
      "text/plain": [
       "tensor([-0.3571, -0.0654, -0.0636, -0.4746, -0.6476, -0.3524, -0.2424, -0.2065, -0.5511, -0.1886, -0.0864, -0.7250])"
      ]
     },
     "execution_count": 33,
     "metadata": {},
     "output_type": "execute_result"
    }
   ],
   "source": [
    "coeffs.grad"
   ]
  },
  {
   "cell_type": "code",
   "execution_count": 34,
   "id": "e1f12ad2-7be5-464f-acb7-6fa8156ebed3",
   "metadata": {},
   "outputs": [
    {
     "name": "stdout",
     "output_type": "stream",
     "text": [
      "tensor(0.9292)\n"
     ]
    }
   ],
   "source": [
    "learning_rate = 0.1\n",
    "with torch.no_grad():\n",
    "    coeffs.sub_(coeffs.grad*learning_rate)\n",
    "    print(calc_loss(coeffs, t_indep, t_dep))"
   ]
  },
  {
   "cell_type": "markdown",
   "id": "e2f68a13-69dd-4c17-9ab4-1e8eba56a9bf",
   "metadata": {},
   "source": [
    "We note that the loss has gone down after 1 gradient descent step"
   ]
  },
  {
   "cell_type": "markdown",
   "id": "40416c51-06a1-4dba-8ce3-56e3ad2bf6cb",
   "metadata": {},
   "source": [
    "# Training the Linear Model "
   ]
  },
  {
   "cell_type": "code",
   "execution_count": 83,
   "id": "a4c086cf-2799-42df-8e26-7ad9168a722b",
   "metadata": {
    "tags": []
   },
   "outputs": [],
   "source": [
    "from fastai.data.transforms import RandomSplitter\n",
    "\n",
    "trn_split,val_split=RandomSplitter(seed=42)(df)"
   ]
  },
  {
   "cell_type": "code",
   "execution_count": 58,
   "id": "b8a967e8-e86f-48b4-8c80-2fa8ee94d1b8",
   "metadata": {
    "tags": []
   },
   "outputs": [
    {
     "data": {
      "text/plain": [
       "(#713) [788,525,821,253,374,98,215,313,281,305...]"
      ]
     },
     "execution_count": 58,
     "metadata": {},
     "output_type": "execute_result"
    }
   ],
   "source": [
    "trn_split"
   ]
  },
  {
   "cell_type": "code",
   "execution_count": 59,
   "id": "1e2594ea-8cd6-4db5-bdbb-30941b623b1f",
   "metadata": {
    "tags": []
   },
   "outputs": [],
   "source": [
    "trn_indep, val_indep = t_indep[trn_split], t_indep[val_split]"
   ]
  },
  {
   "cell_type": "code",
   "execution_count": 60,
   "id": "f3c8f97e-f4af-4c52-b720-f680b5ec9c23",
   "metadata": {
    "tags": []
   },
   "outputs": [
    {
     "data": {
      "text/plain": [
       "(713, 178)"
      ]
     },
     "execution_count": 60,
     "metadata": {},
     "output_type": "execute_result"
    }
   ],
   "source": [
    "trn_dep, val_dep = t_dep[trn_split], t_dep[val_split]\n",
    "len(trn_indep), len(val_indep)"
   ]
  },
  {
   "cell_type": "markdown",
   "id": "d6123c72-0943-4784-afc1-6a06739fb03d",
   "metadata": {},
   "source": [
    "Moving previous steps into functions"
   ]
  },
  {
   "cell_type": "code",
   "execution_count": 61,
   "id": "d0e53138-3e4b-4f0a-a1f4-779079414f10",
   "metadata": {
    "tags": []
   },
   "outputs": [],
   "source": [
    "def update_coeffs(coeffs, learning_rate):\n",
    "    coeffs.sub_(coeffs.grad*learning_rate)"
   ]
  },
  {
   "cell_type": "code",
   "execution_count": 62,
   "id": "4920ffa5-8a22-42be-b84a-3f58d69b92d1",
   "metadata": {
    "tags": []
   },
   "outputs": [],
   "source": [
    "def one_epoch(coeffs, learning_rate):\n",
    "    loss = calc_loss(coeffs, trn_indep, trn_dep)\n",
    "    loss.backward()\n",
    "    with torch.no_grad(): update_coeffs(coeffs, learning_rate)\n",
    "    print(f\"{loss:.3f}\", end=\"; \")"
   ]
  },
  {
   "cell_type": "code",
   "execution_count": 63,
   "id": "a923a8e5-93fd-4734-ad33-3180fb2370c8",
   "metadata": {
    "tags": []
   },
   "outputs": [],
   "source": [
    "def init_coeffs():\n",
    "    ''' Initialises random coefficients'''\n",
    "    return (torch.rand(n_coeff)-0.5).requires_grad_()"
   ]
  },
  {
   "cell_type": "code",
   "execution_count": 66,
   "id": "637bcce7-2bb5-4f11-b819-fcb451bb85f6",
   "metadata": {
    "tags": []
   },
   "outputs": [],
   "source": [
    "def train_model(epochs=30, lr=0.01):\n",
    "    torch.manual_seed(442)\n",
    "    coeffs = init_coeffs()\n",
    "    for i in range(epochs):\n",
    "        one_epoch(coeffs,lr)\n",
    "    return coeffs"
   ]
  },
  {
   "cell_type": "code",
   "execution_count": 67,
   "id": "dfc164f2-9376-47bc-bb83-5f3566c50ba3",
   "metadata": {
    "tags": []
   },
   "outputs": [
    {
     "name": "stdout",
     "output_type": "stream",
     "text": [
      "0.536; 0.532; 0.525; 0.515; 0.503; 0.489; 0.477; 0.466; 0.449; 0.424; 0.396; 0.373; 0.354; 0.338; 0.321; 0.306; 0.297; 0.295; "
     ]
    }
   ],
   "source": [
    "coeffs = train_model(18,0.02)"
   ]
  },
  {
   "cell_type": "code",
   "execution_count": 68,
   "id": "645d611f-0b52-410e-88c9-3dc1a3de5f91",
   "metadata": {
    "tags": []
   },
   "outputs": [
    {
     "data": {
      "text/plain": [
       "{'Age': tensor(-0.2335, grad_fn=<UnbindBackward0>),\n",
       " 'SibSp': tensor(0.1025, grad_fn=<UnbindBackward0>),\n",
       " 'Parch': tensor(0.2530, grad_fn=<UnbindBackward0>),\n",
       " 'Logfare': tensor(0.1073, grad_fn=<UnbindBackward0>),\n",
       " 'Sex_male': tensor(-0.4166, grad_fn=<UnbindBackward0>),\n",
       " 'Sex_female': tensor(0.3314, grad_fn=<UnbindBackward0>),\n",
       " 'Pclass_1': tensor(0.8639, grad_fn=<UnbindBackward0>),\n",
       " 'Pclass_2': tensor(0.4225, grad_fn=<UnbindBackward0>),\n",
       " 'Pclass_3': tensor(0.2875, grad_fn=<UnbindBackward0>),\n",
       " 'Embarked_C': tensor(0.1840, grad_fn=<UnbindBackward0>),\n",
       " 'Embarked_Q': tensor(0.3267, grad_fn=<UnbindBackward0>),\n",
       " 'Embarked_S': tensor(0.1158, grad_fn=<UnbindBackward0>)}"
      ]
     },
     "execution_count": 68,
     "metadata": {},
     "output_type": "execute_result"
    }
   ],
   "source": [
    "def show_coeffs():\n",
    "    return dict(zip(indep_cols, coeffs))\n",
    "show_coeffs()"
   ]
  },
  {
   "cell_type": "markdown",
   "id": "da03657b-7a8d-4d16-9fdf-e383c1194023",
   "metadata": {},
   "source": [
    "# Measuring Accuracy"
   ]
  },
  {
   "cell_type": "code",
   "execution_count": 80,
   "id": "0114617b-3efd-4195-ba54-cc8e50e5fcd7",
   "metadata": {
    "tags": []
   },
   "outputs": [],
   "source": [
    "preds = calc_preds(coeffs, val_indep)"
   ]
  },
  {
   "cell_type": "code",
   "execution_count": 81,
   "id": "7a5c76d6-164c-4586-bd86-f670b9736486",
   "metadata": {
    "tags": []
   },
   "outputs": [
    {
     "data": {
      "text/plain": [
       "tensor([ True,  True,  True,  True,  True,  True, False, False,  True, False, False, False, False, False,  True, False])"
      ]
     },
     "execution_count": 81,
     "metadata": {},
     "output_type": "execute_result"
    }
   ],
   "source": [
    "results = val_dep.bool() == (preds > 0.5)\n",
    "results[:16]"
   ]
  },
  {
   "cell_type": "code",
   "execution_count": 82,
   "id": "b24ac5df-9cfa-4dc7-b347-80a6489643dd",
   "metadata": {
    "tags": []
   },
   "outputs": [
    {
     "data": {
      "text/plain": [
       "tensor(0.7247)"
      ]
     },
     "execution_count": 82,
     "metadata": {},
     "output_type": "execute_result"
    }
   ],
   "source": [
    "results.float().mean()"
   ]
  },
  {
   "cell_type": "code",
   "execution_count": 48,
   "id": "414139a1-336a-4336-9c41-e7cd0548188c",
   "metadata": {
    "tags": []
   },
   "outputs": [],
   "source": [
    "def acc(coeffs):\n",
    "    preds = calc_preds(coeffs, val_indep)\n",
    "    results = val_dep.bool() == (preds > 0.5)\n",
    "    return results.float().mean()"
   ]
  },
  {
   "cell_type": "markdown",
   "id": "2d41fd2f-94cd-4719-a875-5db1e97564f3",
   "metadata": {},
   "source": [
    "# Using sigmoid"
   ]
  },
  {
   "cell_type": "code",
   "execution_count": 85,
   "id": "c789b888-a688-489b-8c04-fb83c2f6a8c6",
   "metadata": {
    "tags": []
   },
   "outputs": [
    {
     "data": {
      "text/plain": [
       "tensor([0.7357, 0.0094, 0.0068, 0.0178, 0.0184, 0.0160, 0.3043, 0.4738, 0.0042, 0.2496, 0.0029, 0.0068, 0.0042, 0.3214, 0.0029, 0.0270,\n",
       "        0.0213, 0.4813, 0.0148, 0.1284, 0.0032, 0.0237, 0.7488, 0.4075, 0.0034, 0.0088, 0.1789, 0.0221], grad_fn=<SliceBackward0>)"
      ]
     },
     "execution_count": 85,
     "metadata": {},
     "output_type": "execute_result"
    }
   ],
   "source": [
    "preds[:28]"
   ]
  },
  {
   "cell_type": "markdown",
   "id": "cd45fabe-5c15-40c2-ae85-d7eb1fd6ef92",
   "metadata": {},
   "source": [
    "We are getting greater than 1 chance of survival which is impossible. Lets try using a different activation function"
   ]
  },
  {
   "cell_type": "code",
   "execution_count": 70,
   "id": "aeb34ad6-d116-4fc5-8339-4853895adf46",
   "metadata": {
    "tags": []
   },
   "outputs": [
    {
     "data": {
      "image/png": "[encoded data removed]",
      "text/plain": [
       "<Figure size 640x480 with 1 Axes>"
      ]
     },
     "metadata": {},
     "output_type": "display_data"
    }
   ],
   "source": [
    "import sympy\n",
    "sympy.plot(\"1/(1+exp(-x))\", xlim=(-5,5));"
   ]
  },
  {
   "cell_type": "code",
   "execution_count": 72,
   "id": "5a3d6041-f4e6-4766-88b7-4b40ad230821",
   "metadata": {
    "tags": []
   },
   "outputs": [],
   "source": [
    "def calc_preds(coeffs, indeps): return torch.sigmoid((indeps*coeffs).sum(axis=1))"
   ]
  },
  {
   "cell_type": "code",
   "execution_count": 118,
   "id": "3cce33e8-d49f-44c4-b3aa-514c4d9e2cf3",
   "metadata": {
    "tags": []
   },
   "outputs": [
    {
     "name": "stdout",
     "output_type": "stream",
     "text": [
      "0.510; 0.506; 0.497; 0.485; 0.468; 0.448; 0.426; 0.403; 0.382; 0.363; 0.347; 0.333; 0.323; 0.314; 0.307; 0.300; 0.293; 0.287; 0.280; 0.274; 0.267; 0.261; 0.254; 0.248; 0.242; 0.236; 0.231; 0.227; 0.223; 0.219; "
     ]
    }
   ],
   "source": [
    "coeffs = train_model(30,0.2)"
   ]
  },
  {
   "cell_type": "code",
   "execution_count": 119,
   "id": "81a209a3-8732-4265-a7ff-c730d3092f97",
   "metadata": {
    "tags": []
   },
   "outputs": [
    {
     "data": {
      "text/plain": [
       "tensor(0.8315)"
      ]
     },
     "execution_count": 119,
     "metadata": {},
     "output_type": "execute_result"
    }
   ],
   "source": [
    "acc(coeffs)"
   ]
  },
  {
   "cell_type": "code",
   "execution_count": 120,
   "id": "3073b08d-7bdf-4389-b498-da3ed172967a",
   "metadata": {
    "tags": []
   },
   "outputs": [
    {
     "data": {
      "text/plain": [
       "{'Age': tensor(-1.1115, grad_fn=<UnbindBackward0>),\n",
       " 'SibSp': tensor(-0.0437, grad_fn=<UnbindBackward0>),\n",
       " 'Parch': tensor(0.2906, grad_fn=<UnbindBackward0>),\n",
       " 'Logfare': tensor(-0.0867, grad_fn=<UnbindBackward0>),\n",
       " 'Sex_male': tensor(-5.2943, grad_fn=<UnbindBackward0>),\n",
       " 'Sex_female': tensor(3.3101, grad_fn=<UnbindBackward0>),\n",
       " 'Pclass_1': tensor(1.9618, grad_fn=<UnbindBackward0>),\n",
       " 'Pclass_2': tensor(0.7249, grad_fn=<UnbindBackward0>),\n",
       " 'Pclass_3': tensor(-3.0119, grad_fn=<UnbindBackward0>),\n",
       " 'Embarked_C': tensor(0.2366, grad_fn=<UnbindBackward0>),\n",
       " 'Embarked_Q': tensor(0.1023, grad_fn=<UnbindBackward0>),\n",
       " 'Embarked_S': tensor(-1.6115, grad_fn=<UnbindBackward0>)}"
      ]
     },
     "execution_count": 120,
     "metadata": {},
     "output_type": "execute_result"
    }
   ],
   "source": [
    "show_coeffs()"
   ]
  },
  {
   "cell_type": "markdown",
   "id": "6c1ea6c8-29e5-4cd9-8e6d-15a133bbe2f5",
   "metadata": {},
   "source": [
    "# Submitting results to Kaggle"
   ]
  },
  {
   "cell_type": "code",
   "execution_count": 107,
   "id": "8f8871cf-305a-4b55-b03e-72ca45dd9dc0",
   "metadata": {
    "tags": []
   },
   "outputs": [
    {
     "data": {
      "text/html": [
       "<div>\n",
       "<style scoped>\n",
       "    .dataframe tbody tr th:only-of-type {\n",
       "        vertical-align: middle;\n",
       "    }\n",
       "\n",
       "    .dataframe tbody tr th {\n",
       "        vertical-align: top;\n",
       "    }\n",
       "\n",
       "    .dataframe thead th {\n",
       "        text-align: right;\n",
       "    }\n",
       "</style>\n",
       "<table border=\"1\" class=\"dataframe\">\n",
       "  <thead>\n",
       "    <tr style=\"text-align: right;\">\n",
       "      <th></th>\n",
       "      <th>PassengerId</th>\n",
       "      <th>Pclass</th>\n",
       "      <th>Name</th>\n",
       "      <th>Sex</th>\n",
       "      <th>Age</th>\n",
       "      <th>SibSp</th>\n",
       "      <th>Parch</th>\n",
       "      <th>Ticket</th>\n",
       "      <th>Fare</th>\n",
       "      <th>Cabin</th>\n",
       "      <th>Embarked</th>\n",
       "    </tr>\n",
       "  </thead>\n",
       "  <tbody>\n",
       "    <tr>\n",
       "      <th>0</th>\n",
       "      <td>892</td>\n",
       "      <td>3</td>\n",
       "      <td>Kelly, Mr. James</td>\n",
       "      <td>male</td>\n",
       "      <td>34.5</td>\n",
       "      <td>0</td>\n",
       "      <td>0</td>\n",
       "      <td>330911</td>\n",
       "      <td>7.8292</td>\n",
       "      <td>NaN</td>\n",
       "      <td>Q</td>\n",
       "    </tr>\n",
       "    <tr>\n",
       "      <th>1</th>\n",
       "      <td>893</td>\n",
       "      <td>3</td>\n",
       "      <td>Wilkes, Mrs. James (Ellen Needs)</td>\n",
       "      <td>female</td>\n",
       "      <td>47.0</td>\n",
       "      <td>1</td>\n",
       "      <td>0</td>\n",
       "      <td>363272</td>\n",
       "      <td>7.0000</td>\n",
       "      <td>NaN</td>\n",
       "      <td>S</td>\n",
       "    </tr>\n",
       "  </tbody>\n",
       "</table>\n",
       "</div>"
      ],
      "text/plain": [
       "   PassengerId  Pclass                              Name     Sex   Age  SibSp  Parch  Ticket    Fare Cabin Embarked\n",
       "0          892       3                  Kelly, Mr. James    male  34.5      0      0  330911  7.8292   NaN        Q\n",
       "1          893       3  Wilkes, Mrs. James (Ellen Needs)  female  47.0      1      0  363272  7.0000   NaN        S"
      ]
     },
     "execution_count": 107,
     "metadata": {},
     "output_type": "execute_result"
    }
   ],
   "source": [
    "test_df = pd.read_csv(path/\"test.csv\")\n",
    "test_df.head(2)"
   ]
  },
  {
   "cell_type": "code",
   "execution_count": 108,
   "id": "4830771c-6df3-403e-a943-523d16bdad94",
   "metadata": {
    "tags": []
   },
   "outputs": [],
   "source": [
    "#Performing the same data cleaning operations on the test_df\n",
    "test_df['Fare'] = test_df.Fare.fillna(0)\n",
    "test_df.fillna(modes, inplace=True)\n",
    "test_df['Logfare'] = np.log(test_df.Fare + 1)\n",
    "test_df = pd.get_dummies( test_df, columns = ['Sex', 'Embarked', 'Pclass'], dtype= 'float')\n"
   ]
  },
  {
   "cell_type": "code",
   "execution_count": 133,
   "id": "21f37ae7-c8a6-4589-8ed9-172b407daca5",
   "metadata": {
    "tags": []
   },
   "outputs": [],
   "source": [
    "test_indep = tensor(test_df[indep_cols].values, dtype = torch.float)\n",
    "vals, indices = test_indep.max(dim=0)\n",
    "test_indep = test_indep/vals"
   ]
  },
  {
   "cell_type": "code",
   "execution_count": 134,
   "id": "17c0abe3-fa99-468f-85ce-144c679258b7",
   "metadata": {
    "tags": []
   },
   "outputs": [],
   "source": [
    "test_df['Survived'] = (calc_preds(coeffs, test_indep) > 0.5).int()"
   ]
  },
  {
   "cell_type": "code",
   "execution_count": 136,
   "id": "77f9dbdf-5947-4165-875c-70241dd4f816",
   "metadata": {
    "tags": []
   },
   "outputs": [
    {
     "data": {
      "text/html": [
       "<div>\n",
       "<style scoped>\n",
       "    .dataframe tbody tr th:only-of-type {\n",
       "        vertical-align: middle;\n",
       "    }\n",
       "\n",
       "    .dataframe tbody tr th {\n",
       "        vertical-align: top;\n",
       "    }\n",
       "\n",
       "    .dataframe thead th {\n",
       "        text-align: right;\n",
       "    }\n",
       "</style>\n",
       "<table border=\"1\" class=\"dataframe\">\n",
       "  <thead>\n",
       "    <tr style=\"text-align: right;\">\n",
       "      <th></th>\n",
       "      <th>PassengerId</th>\n",
       "      <th>Survived</th>\n",
       "    </tr>\n",
       "  </thead>\n",
       "  <tbody>\n",
       "    <tr>\n",
       "      <th>0</th>\n",
       "      <td>892</td>\n",
       "      <td>0</td>\n",
       "    </tr>\n",
       "    <tr>\n",
       "      <th>1</th>\n",
       "      <td>893</td>\n",
       "      <td>0</td>\n",
       "    </tr>\n",
       "    <tr>\n",
       "      <th>2</th>\n",
       "      <td>894</td>\n",
       "      <td>0</td>\n",
       "    </tr>\n",
       "    <tr>\n",
       "      <th>3</th>\n",
       "      <td>895</td>\n",
       "      <td>0</td>\n",
       "    </tr>\n",
       "    <tr>\n",
       "      <th>4</th>\n",
       "      <td>896</td>\n",
       "      <td>0</td>\n",
       "    </tr>\n",
       "    <tr>\n",
       "      <th>...</th>\n",
       "      <td>...</td>\n",
       "      <td>...</td>\n",
       "    </tr>\n",
       "    <tr>\n",
       "      <th>408</th>\n",
       "      <td>1300</td>\n",
       "      <td>1</td>\n",
       "    </tr>\n",
       "    <tr>\n",
       "      <th>409</th>\n",
       "      <td>1301</td>\n",
       "      <td>0</td>\n",
       "    </tr>\n",
       "    <tr>\n",
       "      <th>410</th>\n",
       "      <td>1302</td>\n",
       "      <td>1</td>\n",
       "    </tr>\n",
       "    <tr>\n",
       "      <th>411</th>\n",
       "      <td>1303</td>\n",
       "      <td>1</td>\n",
       "    </tr>\n",
       "    <tr>\n",
       "      <th>412</th>\n",
       "      <td>1304</td>\n",
       "      <td>0</td>\n",
       "    </tr>\n",
       "  </tbody>\n",
       "</table>\n",
       "<p>413 rows × 2 columns</p>\n",
       "</div>"
      ],
      "text/plain": [
       "     PassengerId  Survived\n",
       "0            892         0\n",
       "1            893         0\n",
       "2            894         0\n",
       "3            895         0\n",
       "4            896         0\n",
       "..           ...       ...\n",
       "408         1300         1\n",
       "409         1301         0\n",
       "410         1302         1\n",
       "411         1303         1\n",
       "412         1304         0\n",
       "\n",
       "[413 rows x 2 columns]"
      ]
     },
     "execution_count": 136,
     "metadata": {},
     "output_type": "execute_result"
    }
   ],
   "source": [
    "sub_df = test_df[['PassengerId', 'Survived']]\n",
    "sub_df.head(-5)"
   ]
  },
  {
   "cell_type": "code",
   "execution_count": 137,
   "id": "f7222251-634b-4c8b-8150-a7bc00230278",
   "metadata": {
    "tags": []
   },
   "outputs": [],
   "source": [
    "# sub_df.to_csv('sub.csv', index = False)"
   ]
  },
  {
   "cell_type": "code",
   "execution_count": 138,
   "id": "375bbfdf-f40b-4679-9db8-6f1d48ec86fe",
   "metadata": {
    "tags": []
   },
   "outputs": [
    {
     "name": "stdout",
     "output_type": "stream",
     "text": [
      "PassengerId,Survived\n",
      "892,0\n",
      "893,0\n",
      "894,0\n",
      "895,0\n",
      "896,0\n",
      "897,0\n",
      "898,0\n",
      "899,0\n",
      "900,1\n"
     ]
    }
   ],
   "source": [
    "# !head sub.csv "
   ]
  },
  {
   "cell_type": "markdown",
   "id": "278c4bcb-4b75-48fe-8bba-d60c95ed52b3",
   "metadata": {},
   "source": [
    "# Matrix Methods"
   ]
  },
  {
   "cell_type": "code",
   "execution_count": 139,
   "id": "8684e414-a5c7-4de9-8a06-bc5dfc0495d9",
   "metadata": {
    "tags": []
   },
   "outputs": [
    {
     "data": {
      "text/plain": [
       "tensor([  3.7678,  -8.5675,  -8.4323,  -6.4909,  -6.5649,  -6.7017,   0.4906,   1.9978,  -9.9159,   0.2005, -10.3928,  -8.3988,  -9.9651,\n",
       "          0.0366, -10.4181,  -5.6154,  -5.8933,   2.0788,  -6.7686,  -1.7756, -10.2816,  -5.7682,   4.9441,   1.7898, -10.2246,  -8.5877,\n",
       "         -1.3190,  -5.8516, -10.1855,   0.0368,   2.2336,  -1.5199, -10.2121, -10.3721,   3.6845,  -1.3144,  -5.6465,   5.1160, -10.2818,\n",
       "         -1.6966,  -6.4788, -10.2818,  -6.6370,   5.0035, -10.2263,  -1.6924, -10.3353, -10.1919,  -8.5662,  -1.6483,  -3.9152, -10.0271,\n",
       "        -10.0161, -10.2941,  -6.5761,  -6.6595,  -8.5676, -10.4624, -10.2401, -10.3532,  -3.5594, -10.1884,  -6.1033, -10.2400,   1.7609,\n",
       "         -5.2480,  -6.5510, -10.5044,  -8.7557,   1.7611, -10.3094,   0.2595,  -6.6456, -10.2839,  -5.3233, -10.1702, -10.2818,  -5.5402,\n",
       "         -6.4816,  -6.8724,  -6.2086,   5.2252, -10.2677, -10.2805,   1.6949,  -4.6408,  -3.4168,   3.4906,   3.8324,  -6.5371, -10.3935,\n",
       "        -10.2818,   5.0267,  -8.5157,   0.5201,  -4.8695,  -6.8658,   0.0117,   0.0646,  -8.4964, -10.1552,   0.0368, -10.3927, -10.3650,\n",
       "         -5.4367,  -6.8011, -10.3673,   1.8594,  -3.5116, -10.3551,   2.0161,  -1.7905,  -5.3252,   4.8475, -10.2818,   4.6092,  -1.8900,\n",
       "         -8.5676, -10.5313,   4.7856, -10.1650,  -3.9475,  -8.5676,  -1.3562,  -8.4323,  -5.3947,  -1.6909,  -1.7049, -10.1727,  -6.8435,\n",
       "          3.3759, -10.2961,   1.8721,   1.9353,   5.1002, -10.2124,  -7.0378, -10.3533,  -4.8375,   1.8943,  -6.6344,   4.7198, -10.5718,\n",
       "         -8.6787,  -1.6603,   2.7188, -10.4773,   0.2544,   3.4351,  -0.0800,  -1.6153,   0.1337,   2.0978,  -8.3359,  -8.5927, -10.2572,\n",
       "        -10.2818,  -1.6298,  -6.6900, -10.2893,   5.1206,  -4.7878, -10.2990,  -5.4195,   4.9156,   3.0369,   2.0714,   1.8033,  -5.7225,\n",
       "         -5.7562,  -1.3074, -10.2198,   3.2906, -10.2839, -10.5595,   3.1976,  -5.3255, -10.0391], grad_fn=<SumBackward1>)"
      ]
     },
     "execution_count": 139,
     "metadata": {},
     "output_type": "execute_result"
    }
   ],
   "source": [
    "#Matrix multiplication can be done element-wise like so:\n",
    "(val_indep*coeffs).sum(axis=1)"
   ]
  },
  {
   "cell_type": "code",
   "execution_count": 140,
   "id": "e493ddec-0405-4256-aed9-78e19876e389",
   "metadata": {
    "tags": []
   },
   "outputs": [
    {
     "data": {
      "text/plain": [
       "tensor([  3.7678,  -8.5676,  -8.4323,  -6.4909,  -6.5649,  -6.7017,   0.4906,   1.9978,  -9.9159,   0.2005, -10.3928,  -8.3988,  -9.9651,\n",
       "          0.0366, -10.4181,  -5.6154,  -5.8933,   2.0788,  -6.7686,  -1.7756, -10.2816,  -5.7682,   4.9441,   1.7898, -10.2246,  -8.5877,\n",
       "         -1.3190,  -5.8516, -10.1855,   0.0368,   2.2336,  -1.5199, -10.2121, -10.3721,   3.6845,  -1.3144,  -5.6465,   5.1160, -10.2818,\n",
       "         -1.6966,  -6.4788, -10.2818,  -6.6370,   5.0035, -10.2263,  -1.6924, -10.3353, -10.1919,  -8.5662,  -1.6483,  -3.9152, -10.0271,\n",
       "        -10.0161, -10.2941,  -6.5761,  -6.6595,  -8.5676, -10.4624, -10.2401, -10.3532,  -3.5594, -10.1884,  -6.1033, -10.2400,   1.7609,\n",
       "         -5.2480,  -6.5510, -10.5044,  -8.7557,   1.7611, -10.3094,   0.2595,  -6.6456, -10.2839,  -5.3233, -10.1702, -10.2818,  -5.5402,\n",
       "         -6.4816,  -6.8724,  -6.2086,   5.2252, -10.2677, -10.2805,   1.6949,  -4.6408,  -3.4168,   3.4906,   3.8324,  -6.5371, -10.3935,\n",
       "        -10.2818,   5.0267,  -8.5157,   0.5201,  -4.8695,  -6.8658,   0.0117,   0.0646,  -8.4964, -10.1552,   0.0368, -10.3927, -10.3650,\n",
       "         -5.4367,  -6.8011, -10.3673,   1.8594,  -3.5116, -10.3551,   2.0161,  -1.7905,  -5.3252,   4.8475, -10.2818,   4.6092,  -1.8900,\n",
       "         -8.5676, -10.5313,   4.7856, -10.1650,  -3.9475,  -8.5676,  -1.3562,  -8.4323,  -5.3947,  -1.6909,  -1.7049, -10.1727,  -6.8435,\n",
       "          3.3759, -10.2961,   1.8721,   1.9353,   5.1002, -10.2124,  -7.0378, -10.3533,  -4.8375,   1.8943,  -6.6344,   4.7198, -10.5718,\n",
       "         -8.6787,  -1.6603,   2.7188, -10.4773,   0.2544,   3.4351,  -0.0800,  -1.6153,   0.1337,   2.0978,  -8.3359,  -8.5927, -10.2572,\n",
       "        -10.2818,  -1.6298,  -6.6900, -10.2893,   5.1206,  -4.7878, -10.2990,  -5.4195,   4.9156,   3.0369,   2.0714,   1.8033,  -5.7225,\n",
       "         -5.7562,  -1.3074, -10.2198,   3.2906, -10.2839, -10.5595,   3.1976,  -5.3255, -10.0391], grad_fn=<MvBackward0>)"
      ]
     },
     "execution_count": 140,
     "metadata": {},
     "output_type": "execute_result"
    }
   ],
   "source": [
    "#Or done using a prebuilt torch method\n",
    "val_indep@coeffs"
   ]
  },
  {
   "cell_type": "code",
   "execution_count": 156,
   "id": "01162c11-61a2-4a50-9f43-0104352cca45",
   "metadata": {
    "tags": []
   },
   "outputs": [],
   "source": [
    "#updating calc_preds to use the new method\n",
    "def calc_preds(coeffs, t_indep): return torch.sigmoid(t_indep@coeffs)"
   ]
  },
  {
   "cell_type": "code",
   "execution_count": 144,
   "id": "e23238ea-4aa9-466c-ba16-989751dc0d06",
   "metadata": {
    "tags": []
   },
   "outputs": [],
   "source": [
    "#updating init coeffs to produce a nx1 matrix instead of a tensor\n",
    "def init_coeffs(): return (torch.rand(n_coeff, 1)*0.1).requires_grad_()"
   ]
  },
  {
   "cell_type": "code",
   "execution_count": 145,
   "id": "9e8c3556-fd68-4556-bf3c-a7bbc144ddeb",
   "metadata": {
    "tags": []
   },
   "outputs": [],
   "source": [
    "trn_dep = trn_dep[:, None] #Indexing into a second dimension creates the second dimension required\n",
    "val_dep = val_dep[:, None]"
   ]
  },
  {
   "cell_type": "code",
   "execution_count": 150,
   "id": "1093aecc-50f8-422f-8ef0-838f46ec756a",
   "metadata": {
    "tags": []
   },
   "outputs": [
    {
     "data": {
      "text/plain": [
       "torch.Size([713, 1])"
      ]
     },
     "execution_count": 150,
     "metadata": {},
     "output_type": "execute_result"
    }
   ],
   "source": [
    "trn_dep.shape #Now theres a trailing dimension"
   ]
  },
  {
   "cell_type": "code",
   "execution_count": 157,
   "id": "0164ee29-22ec-4e01-92f2-ec760b1598a7",
   "metadata": {
    "tags": []
   },
   "outputs": [
    {
     "name": "stdout",
     "output_type": "stream",
     "text": [
      "0.512; 0.508; 0.500; 0.487; 0.469; 0.449; 0.425; 0.401; 0.377; 0.356; 0.339; 0.325; 0.313; 0.304; 0.297; 0.290; 0.285; 0.279; 0.273; 0.268; 0.262; 0.257; 0.251; 0.246; 0.240; 0.235; 0.230; 0.226; 0.222; 0.219; "
     ]
    }
   ],
   "source": [
    "coeffs = train_model(30,0.2)"
   ]
  },
  {
   "cell_type": "code",
   "execution_count": 158,
   "id": "5fbe15e3-d2c0-4122-acce-993eb6854e99",
   "metadata": {
    "tags": []
   },
   "outputs": [
    {
     "data": {
      "text/plain": [
       "tensor(0.8258)"
      ]
     },
     "execution_count": 158,
     "metadata": {},
     "output_type": "execute_result"
    }
   ],
   "source": [
    "acc(coeffs)"
   ]
  },
  {
   "cell_type": "markdown",
   "id": "a0e7e865-9196-4332-a87d-6f805e17832e",
   "metadata": {},
   "source": [
    "# A Neural Network "
   ]
  },
  {
   "cell_type": "markdown",
   "id": "6d5a90ef-5518-45b8-a236-850b39f27053",
   "metadata": {
    "tags": []
   },
   "source": [
    "1. Create hidden layers "
   ]
  },
  {
   "cell_type": "code",
   "execution_count": null,
   "id": "a59eb939-e1b2-42a3-b9d0-0caf45c4f92c",
   "metadata": {},
   "outputs": [],
   "source": [
    "def init_coeffs(n_hidden=20):\n",
    "    layer1 = (torch.rand(n_coeff, n_hidden) - 0.5）/n_hidden)"
   ]
  }
 ],
 "metadata": {
  "kernelspec": {
   "display_name": "Python 3 (ipykernel)",
   "language": "python",
   "name": "python3"
  },
  "language_info": {
   "codemirror_mode": {
    "name": "ipython",
    "version": 3
   },
   "file_extension": ".py",
   "mimetype": "text/x-python",
   "name": "python",
   "nbconvert_exporter": "python",
   "pygments_lexer": "ipython3",
   "version": "3.10.10"
  }
 },
 "nbformat": 4,
 "nbformat_minor": 5
}
