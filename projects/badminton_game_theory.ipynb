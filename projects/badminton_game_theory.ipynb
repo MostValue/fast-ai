{
 "cells": [
  {
   "cell_type": "markdown",
   "id": "afb1bb70-d860-4566-a736-03e7b57573a4",
   "metadata": {},
   "source": [
    "# Investigation into Optimal Badminton Strategy for Men's Singles"
   ]
  },
  {
   "cell_type": "markdown",
   "id": "82a4db98-bab1-49bc-91ae-3c83d76acd2f",
   "metadata": {},
   "source": [
    "Goal:\n",
    "- Match Win Prediction and most important features\n",
    "- Point by point and optimal tactic analysis\n",
    "\n",
    "Areas for future research:\n",
    "- Individual Player statistics and analysis"
   ]
  },
  {
   "cell_type": "code",
   "execution_count": 17,
   "id": "56dcbddf-4b5d-4edd-9d9c-d37164c7bc0a",
   "metadata": {},
   "outputs": [],
   "source": [
    "from fastai import *\n",
    "from kaggle import api\n",
    "from pandas.api.types import is_string_dtype, is_numeric_dtype, is_categorical_dtype\n",
    "import pandas as pd\n",
    "import numpy as np\n",
    "from pathlib import Path\n",
    "import os\n",
    "import matplotlib as plt\n",
    "\n",
    "pd.options.display.max_rows = 20\n",
    "pd.options.display.max_columns = 8\n"
   ]
  },
  {
   "cell_type": "code",
   "execution_count": 6,
   "id": "a1328adb-e229-4cbf-9f8a-d9e3c1f71b58",
   "metadata": {
    "tags": []
   },
   "outputs": [],
   "source": [
    "cred_path = Path('~/.kaggle/kaggle.json').expanduser()\n",
    "if not cred_path.exists():\n",
    "    cred_path.parent.mkdir(exist_ok=True)\n",
    "    cred_path.write_text(creds)\n",
    "    cred_path.chmod(0o600)"
   ]
  },
  {
   "cell_type": "code",
   "execution_count": 16,
   "id": "8877cc7a-a66d-4d10-8426-d47f9f04ef75",
   "metadata": {
    "tags": []
   },
   "outputs": [],
   "source": [
    "path = Path(\"badminton-bwf-world-tour\")\n",
    "\n",
    "if not path.exists():\n",
    "    os.system(f\"kaggle datasets download -d sanderp/badminton-bwf-world-tour -p {path}\")"
   ]
  },
  {
   "cell_type": "code",
   "execution_count": 7,
   "id": "984e9884-cb23-455f-84cb-e3e2cab7a7af",
   "metadata": {
    "tags": []
   },
   "outputs": [],
   "source": []
  },
  {
   "cell_type": "code",
   "execution_count": null,
   "id": "5e6c485e-4ddc-44a2-a5a7-666f9a8b1cc7",
   "metadata": {},
   "outputs": [],
   "source": []
  },
  {
   "cell_type": "code",
   "execution_count": null,
   "id": "d86d07ac-384d-4281-86fb-ed12097b1ae1",
   "metadata": {},
   "outputs": [],
   "source": [
    "\n",
    "Path.BASE_PATH = path\n",
    "\n",
    "\n",
    " if not path.exists():\n",
    "        path.mkdir(parents=true)\n",
    "        api.competition_download_cli(comp, path=path)\n",
    "        shutil.unpack_archive(str(path/f'{comp}.zip'), str(path))\n",
    "\n",
    "        \n",
    "\n",
    "\n",
    "# Things to explore:\n",
    "# Win%\n",
    "# Streak strategy, etc\n",
    "\n",
    "# Service impact"
   ]
  }
 ],
 "metadata": {
  "kernelspec": {
   "display_name": "Python 3 (ipykernel)",
   "language": "python",
   "name": "python3"
  },
  "language_info": {
   "codemirror_mode": {
    "name": "ipython",
    "version": 3
   },
   "file_extension": ".py",
   "mimetype": "text/x-python",
   "name": "python",
   "nbconvert_exporter": "python",
   "pygments_lexer": "ipython3",
   "version": "3.10.10"
  }
 },
 "nbformat": 4,
 "nbformat_minor": 5
}
