{
 "cells": [
  {
   "cell_type": "code",
   "execution_count": 1,
   "id": "04c4c214-7dbc-47ea-b15a-2d767e036737",
   "metadata": {},
   "outputs": [],
   "source": [
    "from fastcore.all import *"
   ]
  },
  {
   "cell_type": "code",
   "execution_count": 5,
   "id": "b698992c-dd9e-4b3f-b0da-7a25eab15df4",
   "metadata": {
    "tags": []
   },
   "outputs": [],
   "source": [
    "from nbdev import nbdev_export"
   ]
  }
 ],
 "metadata": {
  "kernelspec": {
   "display_name": "Python 3 (ipykernel)",
   "language": "python",
   "name": "python3"
  },
  "language_info": {
   "codemirror_mode": {
    "name": "ipython",
    "version": 3
   },
   "file_extension": ".py",
   "mimetype": "text/x-python",
   "name": "python",
   "nbconvert_exporter": "python",
   "pygments_lexer": "ipython3",
   "version": "3.10.10"
  }
 },
 "nbformat": 4,
 "nbformat_minor": 5
}
