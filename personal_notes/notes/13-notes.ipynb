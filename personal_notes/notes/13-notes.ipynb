{
 "cells": [
  {
   "cell_type": "markdown",
   "id": "2eff186e-3e47-4263-962d-a483157d71ac",
   "metadata": {},
   "source": [
    "# MLP from scatch"
   ]
  },
  {
   "cell_type": "code",
   "execution_count": 2,
   "id": "30e16834-28dd-400d-94b1-188a42563fe9",
   "metadata": {
    "tags": []
   },
   "outputs": [],
   "source": [
    "# loading in packages and data\n",
    "import pickle,gzip,math,os,time,shutil,torch,matplotlib as mpl, numpy as np\n",
    "from pathlib import Path\n",
    "from torch import tensor\n",
    "from fastcore.test import test_close\n",
    "torch.manual_seed(42)\n",
    "\n",
    "mpl.rcParams['image.cmap'] = 'gray'\n",
    "torch.set_printoptions(precision=2, linewidth=125, sci_mode=False)\n",
    "np.set_printoptions(precision=2, linewidth=125)\n",
    "\n",
    "path_data = Path('data')\n",
    "path_gz = path_data/'mnist.pkl.gz'\n",
    "with gzip.open(path_gz, 'rb') as f: ((x_train, y_train), (x_valid, y_valid), _) = pickle.load(f, encoding='latin-1')\n",
    "x_train, y_train, x_valid, y_valid = map(tensor, [x_train, y_train, x_valid, y_valid])\n",
    "     "
   ]
  },
  {
   "cell_type": "markdown",
   "id": "09969623-c23c-4c6e-b1de-996c6d711c2b",
   "metadata": {},
   "source": [
    "# Foundations"
   ]
  },
  {
   "cell_type": "markdown",
   "id": "5b545037-1fc0-4663-b675-a6052aed8b0a",
   "metadata": {},
   "source": [
    "## Basic architecture"
   ]
  },
  {
   "cell_type": "code",
   "execution_count": 4,
   "id": "a18a633e-0b7d-4cfb-8083-b38fa89adefb",
   "metadata": {
    "tags": []
   },
   "outputs": [
    {
     "data": {
      "text/plain": [
       "(50000, 784, tensor(10))"
      ]
     },
     "execution_count": 4,
     "metadata": {},
     "output_type": "execute_result"
    }
   ],
   "source": [
    "n, m = x_train.shape\n",
    "c = y_train.max() + 1\n",
    "n, m, c"
   ]
  },
  {
   "cell_type": "code",
   "execution_count": 5,
   "id": "a0465a4b-1cfb-45a4-b4ef-fffb65568433",
   "metadata": {
    "tags": []
   },
   "outputs": [],
   "source": [
    "#num hidden\n",
    "n_hidden = 50"
   ]
  },
  {
   "cell_type": "code",
   "execution_count": 8,
   "id": "fe28cef3-efb0-4479-8f8f-c093a93b967b",
   "metadata": {
    "tags": []
   },
   "outputs": [],
   "source": [
    "w1 = torch.randn(m, n_hidden)\n",
    "b1 = torch.zeros(n_hidden)\n",
    "w2 = torch.randn(n_hidden, 1) # just one ouput, what number it might be from 0-10\n",
    "b2 = torch.zeros(1)"
   ]
  },
  {
   "cell_type": "code",
   "execution_count": 9,
   "id": "4c511e3b-4f4f-497c-81f1-e4a8d465a76d",
   "metadata": {
    "tags": []
   },
   "outputs": [],
   "source": [
    "def lin(x, w, b):\n",
    "    return x@w + b"
   ]
  },
  {
   "cell_type": "code",
   "execution_count": 10,
   "id": "961464fe-b029-4986-854c-3db61daf56b9",
   "metadata": {
    "tags": []
   },
   "outputs": [
    {
     "data": {
      "text/plain": [
       "torch.Size([10000, 784])"
      ]
     },
     "execution_count": 10,
     "metadata": {},
     "output_type": "execute_result"
    }
   ],
   "source": [
    "x_valid.shape"
   ]
  },
  {
   "cell_type": "code",
   "execution_count": 11,
   "id": "8cc825e8-b52d-4bdb-8fcd-b9cb9338864e",
   "metadata": {
    "tags": []
   },
   "outputs": [
    {
     "data": {
      "text/plain": [
       "torch.Size([10000, 50])"
      ]
     },
     "execution_count": 11,
     "metadata": {},
     "output_type": "execute_result"
    }
   ],
   "source": [
    "t = lin(x_valid, w1, b1)\n",
    "t.shape"
   ]
  },
  {
   "cell_type": "code",
   "execution_count": 12,
   "id": "18269072-6530-49cb-9280-7950568b8936",
   "metadata": {
    "tags": []
   },
   "outputs": [],
   "source": [
    "def relu(x):\n",
    "    return x.clamp_min(0.)"
   ]
  },
  {
   "cell_type": "code",
   "execution_count": 13,
   "id": "b10d3b15-9afa-4c67-b981-ca3c19f5c8d3",
   "metadata": {
    "tags": []
   },
   "outputs": [
    {
     "data": {
      "text/plain": [
       "tensor([[  8.84,  -0.79, -14.96,  ...,   3.93,   6.07,  -8.98],\n",
       "        [-12.38, -13.91, -14.78,  ...,   4.87,  11.59,  -7.35],\n",
       "        [-14.00,  -1.00,  -6.35,  ...,   2.09,  10.47,  -7.58],\n",
       "        ...,\n",
       "        [ -0.77, -16.81,  -9.85,  ...,  -6.92,   7.32,  -0.93],\n",
       "        [ -4.44, -11.85,  -7.86,  ...,   6.45,   8.31,  -5.68],\n",
       "        [  8.37,  -8.44,  -2.33,  ...,   9.87,   9.05, -11.56]])"
      ]
     },
     "execution_count": 13,
     "metadata": {},
     "output_type": "execute_result"
    }
   ],
   "source": [
    "t"
   ]
  },
  {
   "cell_type": "code",
   "execution_count": 15,
   "id": "2a0fca32-5928-414e-812b-2efbcc2bfd6e",
   "metadata": {
    "tags": []
   },
   "outputs": [
    {
     "data": {
      "text/plain": [
       "tensor([[ 8.84,  0.00,  0.00,  ...,  3.93,  6.07,  0.00],\n",
       "        [ 0.00,  0.00,  0.00,  ...,  4.87, 11.59,  0.00],\n",
       "        [ 0.00,  0.00,  0.00,  ...,  2.09, 10.47,  0.00],\n",
       "        ...,\n",
       "        [ 0.00,  0.00,  0.00,  ...,  0.00,  7.32,  0.00],\n",
       "        [ 0.00,  0.00,  0.00,  ...,  6.45,  8.31,  0.00],\n",
       "        [ 8.37,  0.00,  0.00,  ...,  9.87,  9.05,  0.00]])"
      ]
     },
     "execution_count": 15,
     "metadata": {},
     "output_type": "execute_result"
    }
   ],
   "source": [
    "t = relu(t)\n",
    "t"
   ]
  },
  {
   "cell_type": "code",
   "execution_count": 16,
   "id": "1c96f6b5-14c4-4d96-9fb3-da634cf730fd",
   "metadata": {
    "tags": []
   },
   "outputs": [],
   "source": [
    "def model(xb):\n",
    "    l1 = lin(xb, w1, b1)\n",
    "    l2 = relu(l1)\n",
    "    return lin(l2, w2, b2)"
   ]
  },
  {
   "cell_type": "code",
   "execution_count": 17,
   "id": "90776fe1-a857-4f52-b73a-a3866f4faa8d",
   "metadata": {
    "tags": []
   },
   "outputs": [
    {
     "data": {
      "text/plain": [
       "torch.Size([10000, 1])"
      ]
     },
     "execution_count": 17,
     "metadata": {},
     "output_type": "execute_result"
    }
   ],
   "source": [
    "res = model(x_valid)\n",
    "res.shape"
   ]
  },
  {
   "cell_type": "markdown",
   "id": "261e7872-57b0-4b17-8a67-c6b90a71da05",
   "metadata": {},
   "source": [
    "Loss function: MSE"
   ]
  },
  {
   "cell_type": "code",
   "execution_count": 18,
   "id": "ca4333df-3306-4f19-b8c0-628f9c3d03bb",
   "metadata": {
    "tags": []
   },
   "outputs": [
    {
     "data": {
      "text/plain": [
       "torch.Size([10000])"
      ]
     },
     "execution_count": 18,
     "metadata": {},
     "output_type": "execute_result"
    }
   ],
   "source": [
    "y_valid.shape"
   ]
  },
  {
   "cell_type": "code",
   "execution_count": 26,
   "id": "190e3e5f-b424-4f3d-b629-15b3e1963b72",
   "metadata": {
    "tags": []
   },
   "outputs": [
    {
     "data": {
      "text/plain": [
       "torch.Size([10000])"
      ]
     },
     "execution_count": 26,
     "metadata": {},
     "output_type": "execute_result"
    }
   ],
   "source": [
    "loss = res.squeeze() - y_valid# all unit dimensions get removed\n",
    "loss.shape"
   ]
  },
  {
   "cell_type": "code",
   "execution_count": 25,
   "id": "4c730039-f598-498c-a9f4-56a29b5ebf03",
   "metadata": {
    "tags": []
   },
   "outputs": [
    {
     "data": {
      "text/plain": [
       "tensor([  3.97,  12.58, -24.16,  ..., -32.30, -21.26, -56.63])"
      ]
     },
     "execution_count": 25,
     "metadata": {},
     "output_type": "execute_result"
    }
   ],
   "source": [
    "loss"
   ]
  },
  {
   "cell_type": "code",
   "execution_count": 28,
   "id": "8fc29c0b-28cc-4c03-8f49-5f60d432faf1",
   "metadata": {
    "tags": []
   },
   "outputs": [],
   "source": [
    "def mse(preds, tgt):\n",
    "    return ((preds.squeeze() - tgt)**2).mean()"
   ]
  },
  {
   "cell_type": "code",
   "execution_count": 31,
   "id": "7d545c39-7c4e-4b69-832c-8bfed011332d",
   "metadata": {
    "tags": []
   },
   "outputs": [],
   "source": [
    "preds = model(x_train)"
   ]
  },
  {
   "cell_type": "code",
   "execution_count": 32,
   "id": "b9950cf6-28f4-42ea-a22f-9b62c27d05fa",
   "metadata": {
    "tags": []
   },
   "outputs": [
    {
     "data": {
      "text/plain": [
       "tensor(744.75)"
      ]
     },
     "execution_count": 32,
     "metadata": {},
     "output_type": "execute_result"
    }
   ],
   "source": [
    "mse(preds, y_train)"
   ]
  },
  {
   "cell_type": "markdown",
   "id": "5414c3b5-ce82-4655-a16c-55facf0c803c",
   "metadata": {},
   "source": [
    "## Gradients and backpropogation"
   ]
  },
  {
   "cell_type": "markdown",
   "id": "d470da22-65e3-46d2-b922-b7fee7c1c1c1",
   "metadata": {},
   "source": [
    "- Using the chainrule to move backwards from the loss, and some computational tricks"
   ]
  },
  {
   "cell_type": "code",
   "execution_count": 1,
   "id": "c2b91ced-ca00-4e8f-bdad-b3688f143a0d",
   "metadata": {
    "tags": []
   },
   "outputs": [],
   "source": [
    "from sympy import symbols, diff"
   ]
  },
  {
   "cell_type": "code",
   "execution_count": 2,
   "id": "0a29f6dd-dcf4-47ad-9132-61582a877446",
   "metadata": {
    "tags": []
   },
   "outputs": [],
   "source": [
    "x, y = symbols('x y')"
   ]
  },
  {
   "cell_type": "code",
   "execution_count": 3,
   "id": "e39cb0eb-4bdf-4a8a-9cce-13751c78e641",
   "metadata": {
    "tags": []
   },
   "outputs": [
    {
     "data": {
      "text/latex": [
       "$\\displaystyle 2 x$"
      ],
      "text/plain": [
       "2*x"
      ]
     },
     "execution_count": 3,
     "metadata": {},
     "output_type": "execute_result"
    }
   ],
   "source": [
    "diff(x**2, x)"
   ]
  },
  {
   "cell_type": "code",
   "execution_count": null,
   "id": "a011e781-0018-4528-a75d-8e3c0d73beb7",
   "metadata": {},
   "outputs": [],
   "source": [
    "diff(3*x**9, x"
   ]
  }
 ],
 "metadata": {
  "kernelspec": {
   "display_name": "Python 3 (ipykernel)",
   "language": "python",
   "name": "python3"
  },
  "language_info": {
   "codemirror_mode": {
    "name": "ipython",
    "version": 3
   },
   "file_extension": ".py",
   "mimetype": "text/x-python",
   "name": "python",
   "nbconvert_exporter": "python",
   "pygments_lexer": "ipython3",
   "version": "3.10.10"
  }
 },
 "nbformat": 4,
 "nbformat_minor": 5
}
