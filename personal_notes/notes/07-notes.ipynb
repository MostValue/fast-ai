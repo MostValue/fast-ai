{
 "cells": [
  {
   "cell_type": "markdown",
   "id": "f1ea1f9b-5b5d-4389-9a60-d8479a821e20",
   "metadata": {},
   "source": [
    "## Lesson  7"
   ]
  },
  {
   "cell_type": "markdown",
   "id": "13c98da1-80b9-4051-ad3e-f9b84d483b2f",
   "metadata": {},
   "source": [
    "- "
   ]
  },
  {
   "cell_type": "code",
   "execution_count": null,
   "id": "874792f7-4990-4ffa-a35c-0371dc98fde3",
   "metadata": {},
   "outputs": [],
   "source": []
  }
 ],
 "metadata": {
  "kernelspec": {
   "display_name": "Python 3 (ipykernel)",
   "language": "python",
   "name": "python3"
  },
  "language_info": {
   "codemirror_mode": {
    "name": "ipython",
    "version": 3
   },
   "file_extension": ".py",
   "mimetype": "text/x-python",
   "name": "python",
   "nbconvert_exporter": "python",
   "pygments_lexer": "ipython3",
   "version": "3.10.10"
  }
 },
 "nbformat": 4,
 "nbformat_minor": 5
}
