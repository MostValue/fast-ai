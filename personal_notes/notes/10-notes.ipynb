{
 "cells": [
  {
   "cell_type": "markdown",
   "id": "ff434166-cab0-4bda-aec5-7ba336d6a7ec",
   "metadata": {},
   "source": [
    "## Distillation and tensors"
   ]
  },
  {
   "cell_type": "markdown",
   "id": "4fab0011-0c22-4486-8fd9-cd6569e8f508",
   "metadata": {},
   "source": [
    "1. The idea of distillation \n",
    "\n",
    "Teacher models:\n",
    "- Teacher model goes from 1,2,3,4\n",
    "- Student model moves from 1 to 4 to 8\n"
   ]
  },
  {
   "cell_type": "markdown",
   "id": "981f7fa3-295b-44e1-ad55-0a629207cccd",
   "metadata": {},
   "source": [
    "The goal is to rebuild everything again from scratch."
   ]
  },
  {
   "cell_type": "markdown",
   "id": "32b7cd67-2312-478e-bfb6-79c60b96f5cc",
   "metadata": {},
   "source": [
    "# Matrix multiplication"
   ]
  },
  {
   "cell_type": "code",
   "execution_count": 1,
   "id": "ae05e31d-8697-4c04-8f8d-1d07fc308405",
   "metadata": {
    "tags": []
   },
   "outputs": [],
   "source": [
    "from pathlib import Path\n",
    "import pickle, gzip, math, os, time, shutil, matplotlib as mpl, matplotlib.pyplot as plt"
   ]
  },
  {
   "cell_type": "code",
   "execution_count": 13,
   "id": "b21f6b0e-4113-4cfa-9dc5-060ac0979fbf",
   "metadata": {
    "tags": []
   },
   "outputs": [],
   "source": [
    "MNIST_URL = \"https://github.com/mnielsen/neural-networks-and-deep-learning/blob/master/data/mnist.pkl.gz?raw=true\""
   ]
  },
  {
   "cell_type": "code",
   "execution_count": 9,
   "id": "b9851a06-0bf6-41bb-bf2e-b942605691d0",
   "metadata": {
    "tags": []
   },
   "outputs": [],
   "source": [
    "path_data = Path('data')\n",
    "path_data.mkdir(exist_ok = True)\n",
    "path_gz = path_data/'mnist.pkl.gz'"
   ]
  },
  {
   "cell_type": "code",
   "execution_count": 14,
   "id": "2a928294-3f20-4972-8843-dfbcef410318",
   "metadata": {
    "tags": []
   },
   "outputs": [],
   "source": [
    "# download the raw data if it doesn't exist\n",
    "from urllib.request import urlretrieve\n",
    "if not path_gz.exists(): urlretrieve(MNIST_URL, path_gz)"
   ]
  },
  {
   "cell_type": "code",
   "execution_count": 15,
   "id": "6d310ebf-2bed-4622-a1a7-285762c12028",
   "metadata": {
    "tags": []
   },
   "outputs": [
    {
     "name": "stdout",
     "output_type": "stream",
     "text": [
      "total 16656\n",
      "-rw-r--r-- 1 kyan kyan 17051982 Apr  1 23:47 mnist.pkl.gz\n"
     ]
    }
   ],
   "source": [
    "!ls -l data"
   ]
  },
  {
   "cell_type": "code",
   "execution_count": 5,
   "id": "94305103-6309-499d-a802-e4ad6c309c4b",
   "metadata": {
    "tags": []
   },
   "outputs": [],
   "source": []
  },
  {
   "cell_type": "code",
   "execution_count": 6,
   "id": "9da8338f-9cee-4e94-93f0-31610cb48d7e",
   "metadata": {},
   "outputs": [
    {
     "ename": "AttributeError",
     "evalue": "'PosixPath' object has no attribute 'path_exists'",
     "output_type": "error",
     "traceback": [
      "\u001b[0;31m---------------------------------------------------------------------------\u001b[0m",
      "\u001b[0;31mAttributeError\u001b[0m                            Traceback (most recent call last)",
      "Cell \u001b[0;32mIn[6], line 4\u001b[0m\n\u001b[1;32m      1\u001b[0m paths \u001b[38;5;241m=\u001b[39m [training_images_path, training_images_labels_path, \n\u001b[1;32m      2\u001b[0m          test_images_path, test_images_labels_path]\n\u001b[1;32m      3\u001b[0m \u001b[38;5;28;01mfor\u001b[39;00m p \u001b[38;5;129;01min\u001b[39;00m paths:\n\u001b[0;32m----> 4\u001b[0m     \u001b[38;5;28;01mif\u001b[39;00m \u001b[38;5;129;01mnot\u001b[39;00m \u001b[43mp\u001b[49m\u001b[38;5;241;43m.\u001b[39;49m\u001b[43mpath_exists\u001b[49m():\n\u001b[1;32m      5\u001b[0m         urlretrieve(\u001b[38;5;28mstr\u001b[39m(p)\u001b[38;5;241m.\u001b[39mupper() \u001b[38;5;241m+\u001b[39m \u001b[38;5;124m\"\u001b[39m\u001b[38;5;124m_IMAGES\u001b[39m\u001b[38;5;124m\"\u001b[39m, training_images_path)\n",
      "\u001b[0;31mAttributeError\u001b[0m: 'PosixPath' object has no attribute 'path_exists'"
     ]
    }
   ],
   "source": [
    "paths = [training_images_path, training_images_labels_path, \n",
    "         test_images_path, test_images_labels_path]\n",
    "for p in paths:\n",
    "    if not p.path_exists():\n",
    "        urlretrieve(str(p).upper() + \"_IMAGES\", training_images_path)"
   ]
  }
 ],
 "metadata": {
  "kernelspec": {
   "display_name": "Python 3 (ipykernel)",
   "language": "python",
   "name": "python3"
  },
  "language_info": {
   "codemirror_mode": {
    "name": "ipython",
    "version": 3
   },
   "file_extension": ".py",
   "mimetype": "text/x-python",
   "name": "python",
   "nbconvert_exporter": "python",
   "pygments_lexer": "ipython3",
   "version": "3.10.10"
  }
 },
 "nbformat": 4,
 "nbformat_minor": 5
}
