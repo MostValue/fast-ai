{
 "cells": [
  {
   "cell_type": "markdown",
   "id": "ff434166-cab0-4bda-aec5-7ba336d6a7ec",
   "metadata": {},
   "source": [
    "## Distillation and tensors"
   ]
  },
  {
   "cell_type": "markdown",
   "id": "4fab0011-0c22-4486-8fd9-cd6569e8f508",
   "metadata": {},
   "source": [
    "1. The idea of distillation \n",
    "\n",
    "Teacher models:\n",
    "- Teacher model goes from 1,2,3,4\n",
    "- Student model moves from 1 to 4 to 8\n"
   ]
  },
  {
   "cell_type": "markdown",
   "id": "981f7fa3-295b-44e1-ad55-0a629207cccd",
   "metadata": {},
   "source": [
    "The goal is to rebuild everything again from scratch."
   ]
  },
  {
   "cell_type": "markdown",
   "id": "32b7cd67-2312-478e-bfb6-79c60b96f5cc",
   "metadata": {},
   "source": [
    "# Matrix multiplication"
   ]
  },
  {
   "cell_type": "code",
   "execution_count": 1,
   "id": "ae05e31d-8697-4c04-8f8d-1d07fc308405",
   "metadata": {
    "tags": []
   },
   "outputs": [],
   "source": [
    "from pathlib import Path\n",
    "import pickle, gzip, math, os, time, shutil, matplotlib as mpl, matplotlib.pyplot as plt"
   ]
  },
  {
   "cell_type": "code",
   "execution_count": 13,
   "id": "b21f6b0e-4113-4cfa-9dc5-060ac0979fbf",
   "metadata": {
    "tags": []
   },
   "outputs": [],
   "source": [
    "MNIST_URL = \"https://github.com/mnielsen/neural-networks-and-deep-learning/blob/master/data/mnist.pkl.gz?raw=true\""
   ]
  },
  {
   "cell_type": "code",
   "execution_count": 9,
   "id": "b9851a06-0bf6-41bb-bf2e-b942605691d0",
   "metadata": {
    "tags": []
   },
   "outputs": [],
   "source": [
    "path_data = Path('data')\n",
    "path_data.mkdir(exist_ok = True)\n",
    "path_gz = path_data/'mnist.pkl.gz'"
   ]
  },
  {
   "cell_type": "code",
   "execution_count": 15,
   "id": "6d310ebf-2bed-4622-a1a7-285762c12028",
   "metadata": {
    "tags": []
   },
   "outputs": [
    {
     "name": "stdout",
     "output_type": "stream",
     "text": [
      "total 16656\n",
      "-rw-r--r-- 1 kyan kyan 17051982 Apr  1 23:47 mnist.pkl.gz\n"
     ]
    }
   ],
   "source": [
    "!ls -l data"
   ]
  },
  {
   "cell_type": "code",
   "execution_count": 16,
   "id": "94305103-6309-499d-a802-e4ad6c309c4b",
   "metadata": {
    "tags": []
   },
   "outputs": [],
   "source": [
    "with gzip.open(path_gz, 'rb') as f:\n",
    "    ((x_train, y_train), (x_valid, y_valid), _) = pickle.load(f, encoding='latin-1')"
   ]
  },
  {
   "cell_type": "code",
   "execution_count": 30,
   "id": "9da8338f-9cee-4e94-93f0-31610cb48d7e",
   "metadata": {},
   "outputs": [],
   "source": [
    "lst1 = list(x_train[0])\n",
    "vals = lst1[200:210]"
   ]
  },
  {
   "cell_type": "code",
   "execution_count": 22,
   "id": "34598ac0-fd64-4219-ae42-47a02597ef9e",
   "metadata": {
    "tags": []
   },
   "outputs": [
    {
     "data": {
      "text/plain": [
       "784"
      ]
     },
     "execution_count": 22,
     "metadata": {},
     "output_type": "execute_result"
    }
   ],
   "source": [
    "len(lst1) # which corresponds to 28x 28 images"
   ]
  },
  {
   "cell_type": "code",
   "execution_count": 23,
   "id": "ace3f7a4-ebe4-45bf-a953-b9eb9feb028f",
   "metadata": {
    "tags": []
   },
   "outputs": [],
   "source": [
    "#We want a function that can turn 784 numbers into 28x28 images\n",
    "def chunks(x, sz):\n",
    "    for i in range(0, len(x), sz):\n",
    "        yield x[i:i+sz] #yield creates an interator, that returns the next thing"
   ]
  },
  {
   "cell_type": "code",
   "execution_count": 43,
   "id": "4c198432-a18a-46c2-bbd5-e3dfbc009568",
   "metadata": {
    "tags": []
   },
   "outputs": [],
   "source": [
    "val_iter = chunks(vals,5)"
   ]
  },
  {
   "cell_type": "code",
   "execution_count": 46,
   "id": "7c5f55c8-c92d-44c4-8d93-9cd73a49825e",
   "metadata": {
    "tags": []
   },
   "outputs": [
    {
     "ename": "StopIteration",
     "evalue": "",
     "output_type": "error",
     "traceback": [
      "\u001b[0;31m---------------------------------------------------------------------------\u001b[0m",
      "\u001b[0;31mStopIteration\u001b[0m                             Traceback (most recent call last)",
      "Cell \u001b[0;32mIn[46], line 1\u001b[0m\n\u001b[0;32m----> 1\u001b[0m \u001b[38;5;28;43mnext\u001b[39;49m\u001b[43m(\u001b[49m\u001b[43mval_iter\u001b[49m\u001b[43m)\u001b[49m\n",
      "\u001b[0;31mStopIteration\u001b[0m: "
     ]
    }
   ],
   "source": [
    "next(val_iter) # iterates through the list"
   ]
  },
  {
   "cell_type": "code",
   "execution_count": 47,
   "id": "f2232245-b68e-4ce6-804c-9dfd0ef51382",
   "metadata": {
    "tags": []
   },
   "outputs": [
    {
     "data": {
      "text/plain": [
       "[[0.0, 0.0, 0.0, 0.19140625, 0.9296875],\n",
       " [0.98828125, 0.98828125, 0.98828125, 0.98828125, 0.98828125]]"
      ]
     },
     "execution_count": 47,
     "metadata": {},
     "output_type": "execute_result"
    }
   ],
   "source": [
    "list(chunks(vals,5)) "
   ]
  },
  {
   "cell_type": "code",
   "execution_count": 49,
   "id": "55ac8518-230d-4de9-a242-076724123840",
   "metadata": {
    "tags": []
   },
   "outputs": [
    {
     "data": {
      "text/plain": [
       "<matplotlib.image.AxesImage at 0x7fd3014df160>"
      ]
     },
     "execution_count": 49,
     "metadata": {},
     "output_type": "execute_result"
    },
    {
     "data": {
      "image/png": "[encoded data removed]",
      "text/plain": [
       "<Figure size 640x480 with 1 Axes>"
      ]
     },
     "metadata": {},
     "output_type": "display_data"
    }
   ],
   "source": [
    "mpl.rcParams['image.cmap'] = 'gray'\n",
    "plt.imshow(list(chunks(lst1,28)))"
   ]
  },
  {
   "cell_type": "markdown",
   "id": "2ecf03bb-dc6d-46b7-bea6-c04467518cf5",
   "metadata": {},
   "source": [
    "## Iterators "
   ]
  },
  {
   "cell_type": "code",
   "execution_count": 50,
   "id": "59f287a3-dffe-474d-8147-42e520302f37",
   "metadata": {
    "tags": []
   },
   "outputs": [],
   "source": [
    "from itertools import islice"
   ]
  },
  {
   "cell_type": "code",
   "execution_count": 53,
   "id": "3e1587a0-ea0f-47a8-aa29-305074aecc6d",
   "metadata": {
    "tags": []
   },
   "outputs": [],
   "source": [
    "it = iter(vals)\n",
    "islice_it = islice(it,5)"
   ]
  },
  {
   "cell_type": "code",
   "execution_count": 54,
   "id": "e7fc644d-a18c-4679-8d93-02e01c75cd0d",
   "metadata": {
    "tags": []
   },
   "outputs": [
    {
     "data": {
      "text/plain": [
       "[0.0, 0.0, 0.0, 0.19140625, 0.9296875]"
      ]
     },
     "execution_count": 54,
     "metadata": {},
     "output_type": "execute_result"
    }
   ],
   "source": [
    "list(islice(it,5)) #grabs the first n things from an iterable"
   ]
  },
  {
   "cell_type": "code",
   "execution_count": 56,
   "id": "4d1a0f99-353b-40f6-a35b-62b275c7a402",
   "metadata": {
    "tags": []
   },
   "outputs": [],
   "source": [
    "# we can continually call this to return the image\n",
    "it = iter(lst1) # we can pass a list or an callable\n",
    "img = list(iter(lambda: list(islice(it, 28)), []))"
   ]
  },
  {
   "cell_type": "code",
   "execution_count": 58,
   "id": "b30ec918-8e8e-458f-9e25-f4be4d749f76",
   "metadata": {
    "tags": []
   },
   "outputs": [
    {
     "data": {
      "text/plain": [
       "<matplotlib.image.AxesImage at 0x7fd2d7ad1840>"
      ]
     },
     "execution_count": 58,
     "metadata": {},
     "output_type": "execute_result"
    },
    {
     "data": {
      "image/png": "[encoded data removed]",
      "text/plain": [
       "<Figure size 640x480 with 1 Axes>"
      ]
     },
     "metadata": {},
     "output_type": "display_data"
    }
   ],
   "source": [
    "plt.imshow(img)"
   ]
  },
  {
   "cell_type": "markdown",
   "id": "83219922-795e-46a5-ad97-dc783761c1f0",
   "metadata": {},
   "source": [
    "## Matrix and Tensor"
   ]
  },
  {
   "cell_type": "code",
   "execution_count": 61,
   "id": "0f61c3d6-0fee-4f17-81da-bac2be1c1f13",
   "metadata": {
    "tags": []
   },
   "outputs": [
    {
     "data": {
      "text/plain": [
       "0.0"
      ]
     },
     "execution_count": 61,
     "metadata": {},
     "output_type": "execute_result"
    }
   ],
   "source": [
    "img[20][19]"
   ]
  },
  {
   "cell_type": "code",
   "execution_count": 62,
   "id": "3cb4a02c-3ecd-4816-8d9c-93d7b106bcd1",
   "metadata": {
    "tags": []
   },
   "outputs": [],
   "source": [
    "class Matrix:\n",
    "    def __init__(self, xs): \n",
    "        self.xs = xs\n",
    "    def __getitem__(self, idxs):\n",
    "        return self.xs[idxs[0]][idxs[1]]"
   ]
  },
  {
   "cell_type": "code",
   "execution_count": 66,
   "id": "116c5901-f0d9-4e89-b0c3-7c81939b5426",
   "metadata": {
    "tags": []
   },
   "outputs": [
    {
     "data": {
      "text/plain": [
       "0.98828125"
      ]
     },
     "execution_count": 66,
     "metadata": {},
     "output_type": "execute_result"
    }
   ],
   "source": [
    "m = Matrix(img)\n",
    "m[20,15] # allows us to index into this"
   ]
  },
  {
   "cell_type": "code",
   "execution_count": 63,
   "id": "1a949373-bea0-4aac-86cf-a59946c54754",
   "metadata": {
    "tags": []
   },
   "outputs": [],
   "source": [
    "import torch"
   ]
  },
  {
   "cell_type": "code",
   "execution_count": 64,
   "id": "fdd5a9c8-6bd3-4e53-9f32-fb498a946150",
   "metadata": {
    "tags": []
   },
   "outputs": [],
   "source": [
    "from torch import tensor"
   ]
  },
  {
   "cell_type": "code",
   "execution_count": 70,
   "id": "a1f3d87f-e488-4f2d-92b3-825e6035dc31",
   "metadata": {
    "tags": []
   },
   "outputs": [
    {
     "data": {
      "text/plain": [
       "tensor(0.9883)"
      ]
     },
     "execution_count": 70,
     "metadata": {},
     "output_type": "execute_result"
    }
   ],
   "source": [
    "tens = tensor(img)\n",
    "tens[20,15]"
   ]
  },
  {
   "cell_type": "markdown",
   "id": "497b6d9a-18c5-41af-98e0-23d6bc9522df",
   "metadata": {},
   "source": [
    "Converting all lists into tensors from our data"
   ]
  },
  {
   "cell_type": "code",
   "execution_count": 71,
   "id": "2c6b17ee-c7eb-45ce-a77f-7ce83796a6ae",
   "metadata": {
    "tags": []
   },
   "outputs": [],
   "source": [
    "x_train, y_train, x_valid, y_valid = map(tensor, (x_train, y_train, x_valid, y_valid))"
   ]
  },
  {
   "cell_type": "code",
   "execution_count": 72,
   "id": "f8bf1e91-eff8-4d32-973d-b4f824200417",
   "metadata": {
    "tags": []
   },
   "outputs": [
    {
     "data": {
      "text/plain": [
       "torch.Size([50000, 784])"
      ]
     },
     "execution_count": 72,
     "metadata": {},
     "output_type": "execute_result"
    }
   ],
   "source": [
    "x_train.shape"
   ]
  },
  {
   "cell_type": "code",
   "execution_count": 73,
   "id": "89f4e969-c419-42ff-9d33-83a22a828ca7",
   "metadata": {
    "tags": []
   },
   "outputs": [
    {
     "data": {
      "text/plain": [
       "<function Tensor.type>"
      ]
     },
     "execution_count": 73,
     "metadata": {},
     "output_type": "execute_result"
    }
   ],
   "source": [
    "x_train.type"
   ]
  },
  {
   "cell_type": "code",
   "execution_count": 81,
   "id": "6a45b1cb-b86d-4c6b-9c80-524fe808a135",
   "metadata": {
    "tags": []
   },
   "outputs": [
    {
     "data": {
      "text/plain": [
       "torch.Size([50000, 28, 28])"
      ]
     },
     "execution_count": 81,
     "metadata": {},
     "output_type": "execute_result"
    }
   ],
   "source": [
    "imgs = x_train.reshape((-1,28,28))  # rank 3 tensor\n",
    "imgs.shape#-1 indicates fill in"
   ]
  },
  {
   "cell_type": "code",
   "execution_count": 79,
   "id": "fc6c4eec-a9e7-4a88-97a1-30acd592fde6",
   "metadata": {
    "tags": []
   },
   "outputs": [
    {
     "data": {
      "text/plain": [
       "<matplotlib.image.AxesImage at 0x7fd2ad240e20>"
      ]
     },
     "execution_count": 79,
     "metadata": {},
     "output_type": "execute_result"
    },
    {
     "data": {
      "image/png": "[encoded data removed]",
      "text/plain": [
       "<Figure size 640x480 with 1 Axes>"
      ]
     },
     "metadata": {},
     "output_type": "display_data"
    }
   ],
   "source": [
    "plt.imshow(imgs[1])"
   ]
  },
  {
   "cell_type": "code",
   "execution_count": 82,
   "id": "66cf2d85-92af-4015-8bbb-3e0d161b75e7",
   "metadata": {
    "tags": []
   },
   "outputs": [
    {
     "data": {
      "text/plain": [
       "(tensor([5, 0, 4,  ..., 8, 4, 8]), torch.Size([50000]))"
      ]
     },
     "execution_count": 82,
     "metadata": {},
     "output_type": "execute_result"
    }
   ],
   "source": [
    "n, c = x_train.shape\n",
    "y_train, y_train.shape"
   ]
  },
  {
   "cell_type": "markdown",
   "id": "6ea48d54-4cbf-4dec-90cb-8e59591e50b2",
   "metadata": {},
   "source": [
    "## Random Number Generator"
   ]
  },
  {
   "cell_type": "markdown",
   "id": "0eb7ad93-5264-4e85-b410-616c02269f2b",
   "metadata": {},
   "source": [
    "Based on the Wichmann Hill algorithm used before Python 2.3"
   ]
  },
  {
   "cell_type": "code",
   "execution_count": 83,
   "id": "dbc5c50a-70df-41c1-b080-08200eb22d36",
   "metadata": {
    "tags": []
   },
   "outputs": [],
   "source": [
    "rnd_state = None\n",
    "def seed(a):\n",
    "    global rnd_state\n",
    "    a, x = divmod(a, 30268)\n",
    "    a, y = divmod(a, 30306)\n",
    "    a, z = divmod(a, 30322)\n",
    "    rnd_state = int(x)+1, int(y)+1, int(z)+1"
   ]
  },
  {
   "cell_type": "code",
   "execution_count": 86,
   "id": "0f196008-f8e3-4a18-a560-ca757cde5b29",
   "metadata": {
    "tags": []
   },
   "outputs": [
    {
     "data": {
      "text/plain": [
       "(17039, 20046, 15950)"
      ]
     },
     "execution_count": 86,
     "metadata": {},
     "output_type": "execute_result"
    }
   ],
   "source": [
    "seed(4242424242424242)\n",
    "rnd_state"
   ]
  },
  {
   "cell_type": "code",
   "execution_count": null,
   "id": "d8316e48-e331-48bf-aa2a-eebf2b0b1d3e",
   "metadata": {},
   "outputs": [],
   "source": [
    "def rand():\n",
    "    global rnd_state\n",
    "    x, y, z = rnd_state\n",
    "## In pytorch and numpy the random is copied in each fork."
   ]
  },
  {
   "cell_type": "code",
   "execution_count": 92,
   "id": "903c93b7-72c2-4aeb-969d-ae73e20e65f8",
   "metadata": {
    "tags": []
   },
   "outputs": [
    {
     "name": "stdout",
     "output_type": "stream",
     "text": [
      "In parent: tensor([0.9485])\n",
      "In child: tensor([0.9485])\n"
     ]
    }
   ],
   "source": [
    "if os.fork():\n",
    "    print(f'In parent: {torch.rand(1)}')\n",
    "else:\n",
    "    print(f'In child: {torch.rand(1)}')\n",
    "    os._exit(os.EX_OK)"
   ]
  },
  {
   "cell_type": "code",
   "execution_count": 94,
   "id": "9417b23c-04d3-4750-9475-c9b6204c793c",
   "metadata": {
    "tags": []
   },
   "outputs": [
    {
     "name": "stdout",
     "output_type": "stream",
     "text": [
      "In parent: 0.10749778844220848\n",
      "In child: 0.6747152251155981\n"
     ]
    }
   ],
   "source": [
    "from random import random\n",
    "if os.fork():\n",
    "    print(f'In parent: {random()}')\n",
    "else:\n",
    "    print(f'In child: {random()}')\n",
    "    os._exit(os.EX_OK)"
   ]
  },
  {
   "cell_type": "markdown",
   "id": "09025c4d-008c-4f4e-a474-57138eaf218d",
   "metadata": {},
   "source": [
    "## Reading Papers"
   ]
  },
  {
   "attachments": {
    "8d863003-6d40-4d72-aca4-6dd744f0bd1b.png": {
     "image/png": "[encoded data removed]"
    }
   },
   "cell_type": "markdown",
   "id": "71487819-9ac1-4c7e-b560-f31e3a32c6ad",
   "metadata": {},
   "source": [
    "Relevant Paper:\n",
    "https://arxiv.org/pdf/2210.11427.pdf\n",
    "\n",
    "\n",
    "Key Ideas:\n",
    "- The goal is not to understand every word, just the basic idea\n",
    "- Match the code w/ the goal and replicate yourself\n",
    "\n",
    "\n",
    "\n",
    "Abstract:\n",
    "- Semantic image editing: edit an image based on a text query \n",
    "- The generated image should be as similar to the image as possible\n",
    "- Their key innovation is to generate a mask\n",
    "\n",
    "Introduction:\n",
    "- conditioning a diffusion model can be done on the image and random noise\n",
    "\n",
    "Related Work:\n",
    "- skim / skip over\n",
    "\n",
    "Background:\n",
    "- Reminder of what you're supposed to know, is often written last\n",
    "\n",
    "![image.png](attachment:8d863003-6d40-4d72-aca4-6dd744f0bd1b.png)\n",
    "\n",
    "$$\n",
    "\\newcommand{\\alphabar}{\\bar{\\alpha}}\n",
    "\\newcommand{\\x}{\\mathbf{x}}\n",
    "\\newcommand{\\y}{\\mathbf{y}}\n",
    "\\newcommand{\\epsi}{{\\epsilon}}\n",
    "\\newcommand{\\gaussian}{\\mathcal{N}(\\mathbf{0}, \\mathbf{I})}\n",
    "\\newcommand{\\ours}{\\textsc{DiffEdit}\\xspace}\n",
    "\\mathcal{L} = \\displaystyle \\mathbb{E}_{\\x_0, t, \\epsi} \\Vert \\epsi - \\epsilon_\\theta(\\x_t, t) \\Vert_2^2,$$\n",
    "\n",
    "This is the l2 norm (root of sum of squares), squared = 0\n",
    "\n",
    "- The Loss is the expected value of the loss minus the loss estimator (in other words, MSE)\n",
    "\n",
    "## TO BE FINISHED Lesson 11"
   ]
  },
  {
   "cell_type": "markdown",
   "id": "e0f42446-30fe-4653-b8fe-f53bb6fc2d60",
   "metadata": {},
   "source": [
    "# Matrix and Tensor"
   ]
  },
  {
   "cell_type": "code",
   "execution_count": 95,
   "id": "2b18a334-dbb5-4c52-993a-9e37c69cf1ac",
   "metadata": {
    "tags": []
   },
   "outputs": [
    {
     "data": {
      "text/plain": [
       "<torch._C.Generator at 0x7fd2d69e7190>"
      ]
     },
     "execution_count": 95,
     "metadata": {},
     "output_type": "execute_result"
    }
   ],
   "source": [
    "torch.manual_seed(42)"
   ]
  },
  {
   "attachments": {
    "dbf7a453-0c85-475a-b268-90771f73eb75.png": {
     "image/png": "[encoded data removed]"
    }
   },
   "cell_type": "markdown",
   "id": "f22721aa-d54d-4860-8a38-f30d75506489",
   "metadata": {},
   "source": [
    "We will create a simple matrix, consisting of 5 x 784, and then we will have 784 x 10 weights:\n",
    "\n",
    "![image.png](attachment:dbf7a453-0c85-475a-b268-90771f73eb75.png)"
   ]
  },
  {
   "cell_type": "code",
   "execution_count": 96,
   "id": "f969c864-25ba-4c7f-92e4-f0a10841407d",
   "metadata": {
    "tags": []
   },
   "outputs": [],
   "source": [
    "weights = torch.randn(784,10)\n",
    "bias = torch.zeros(10)\n",
    "m1 = x_valid[:5]\n",
    "m2 = weights"
   ]
  },
  {
   "cell_type": "code",
   "execution_count": 97,
   "id": "5016212a-a46e-44fd-9636-899d117bcebe",
   "metadata": {
    "tags": []
   },
   "outputs": [
    {
     "data": {
      "text/plain": [
       "(torch.Size([5, 784]), torch.Size([784, 10]))"
      ]
     },
     "execution_count": 97,
     "metadata": {},
     "output_type": "execute_result"
    }
   ],
   "source": [
    "m1.shape, m2.shape"
   ]
  },
  {
   "cell_type": "code",
   "execution_count": 98,
   "id": "e15e2ea4-0077-4bf1-affd-98b849c026e6",
   "metadata": {
    "tags": []
   },
   "outputs": [],
   "source": [
    "a_rows, a_cols = m1.shape\n",
    "b_rows, b_cols = m2.shape\n",
    "\n",
    "t1 = torch.zeros(a_rows, b_cols)\n",
    "t1.shape\n",
    "\n",
    "torch.set_printoptions(precision=2, linewidth=100, sci_mode=False)\n",
    "\n",
    "# Matrix multiplication step\n",
    "\n",
    "for i in range(a_rows): # for every row in a\n",
    "    for j in range(b_cols): # for every column in b\n",
    "        for k in range(a_cols):\n",
    "            t1[i,j] += m1[i,k] * m2[k,j] # we add each element of row a multiplied by column b"
   ]
  },
  {
   "cell_type": "code",
   "execution_count": 109,
   "id": "0a91efbd-0e6e-4564-8a29-b973d63c4cc0",
   "metadata": {
    "tags": []
   },
   "outputs": [
    {
     "data": {
      "text/plain": [
       "tensor([[ -5.28,  10.25,   2.07,   4.31,  -7.91, -10.03,   4.10,   1.87,   2.95,   8.23],\n",
       "        [  3.70,  11.19,   4.88,  -2.83, -12.34,  -5.00,  -4.03,  -0.12,   2.48,   6.84],\n",
       "        [ -0.65,   0.96,  13.61,   0.61,  -3.77,  -7.93,   5.29,   8.89,   3.50,   5.30],\n",
       "        [-18.84,  10.83,   0.32, -10.01,   1.63,  -4.54,  -0.04,  -2.07,   9.84,   8.82],\n",
       "        [ -8.41,   4.87,   0.95,  13.35, -13.55,  -2.51,   8.70,  -4.11,   1.39,  -2.55]])"
      ]
     },
     "execution_count": 109,
     "metadata": {},
     "output_type": "execute_result"
    }
   ],
   "source": [
    "t1"
   ]
  },
  {
   "cell_type": "code",
   "execution_count": 110,
   "id": "4156c9df-c5ec-4473-af87-ec4317c16976",
   "metadata": {
    "tags": []
   },
   "outputs": [],
   "source": [
    "def matrix_multiplication(a,b):\n",
    "    a_rows, a_cols = m1.shape\n",
    "    b_rows, b_cols = m2.shape\n",
    "\n",
    "    t1 = torch.zeros(a_rows, b_cols)\n",
    "    # Matrix multiplication step\n",
    "\n",
    "    for i in range(a_rows): # for every row in a\n",
    "        for j in range(b_cols): # for every column in b\n",
    "            for k in range(a_cols):\n",
    "                t1[i,j] += m1[i,k] * m2[k,j] # we add each element of row a multiplied by column b"
   ]
  },
  {
   "cell_type": "code",
   "execution_count": 112,
   "id": "818a36d2-b7ee-4405-b4e2-4c8d872ce100",
   "metadata": {
    "tags": []
   },
   "outputs": [
    {
     "name": "stdout",
     "output_type": "stream",
     "text": [
      "CPU times: user 687 ms, sys: 0 ns, total: 687 ms\n",
      "Wall time: 686 ms\n"
     ]
    }
   ],
   "source": [
    "%time _ = matrix_multiplication(m1,m2)\n",
    "# very slow in pure python"
   ]
  },
  {
   "cell_type": "markdown",
   "id": "a56e2c46-3bb9-499e-b4de-534b248649d6",
   "metadata": {},
   "source": [
    "## Numba"
   ]
  },
  {
   "cell_type": "code",
   "execution_count": 117,
   "id": "9a8e6057-69d8-4230-8a70-c2d52ab28f1a",
   "metadata": {
    "tags": []
   },
   "outputs": [],
   "source": [
    "from numba import njit\n",
    "# this module allows you to write c in python, allowing for speed improvements"
   ]
  },
  {
   "cell_type": "code",
   "execution_count": 118,
   "id": "88214fd8-83dc-47ca-adfa-d13bfc22129f",
   "metadata": {
    "tags": []
   },
   "outputs": [],
   "source": [
    "@njit\n",
    "def dot(a,b):\n",
    "    res = 0\n",
    "    for i in range(len(a)):\n",
    "        res += a[i]*b[i]\n",
    "    return res"
   ]
  },
  {
   "cell_type": "code",
   "execution_count": 119,
   "id": "490d2c66-5171-4dc9-8a7a-e15612875e8d",
   "metadata": {
    "tags": []
   },
   "outputs": [],
   "source": [
    "from numpy import array"
   ]
  },
  {
   "cell_type": "code",
   "execution_count": 121,
   "id": "406eedb3-9140-4e83-ae40-fab131d3e6bc",
   "metadata": {
    "tags": []
   },
   "outputs": [
    {
     "name": "stdout",
     "output_type": "stream",
     "text": [
      "CPU times: user 1.83 s, sys: 294 ms, total: 2.13 s\n",
      "Wall time: 2.27 s\n"
     ]
    },
    {
     "data": {
      "text/plain": [
       "20"
      ]
     },
     "execution_count": 121,
     "metadata": {},
     "output_type": "execute_result"
    }
   ],
   "source": [
    "%time dot(array([1,2,3]), array([2,3,4]))"
   ]
  },
  {
   "cell_type": "code",
   "execution_count": 123,
   "id": "fa78ca37-bf50-4694-8494-e72d2f2e11fb",
   "metadata": {
    "tags": []
   },
   "outputs": [
    {
     "name": "stdout",
     "output_type": "stream",
     "text": [
      "CPU times: user 59 µs, sys: 24 µs, total: 83 µs\n",
      "Wall time: 85.6 µs\n"
     ]
    },
    {
     "data": {
      "text/plain": [
       "20"
      ]
     },
     "execution_count": 123,
     "metadata": {},
     "output_type": "execute_result"
    }
   ],
   "source": [
    "%time dot(array([1,2,3]), array([2,3,4]))\n",
    "# runs much faster the second time around due to the program being compiled already"
   ]
  },
  {
   "cell_type": "code",
   "execution_count": 127,
   "id": "2dd450d2-3f22-44a7-8563-543b8c77351a",
   "metadata": {
    "tags": []
   },
   "outputs": [],
   "source": [
    "def fast_mm(a,b):\n",
    "    a_rows, a_cols = m1.shape\n",
    "    b_rows, b_cols = m2.shape\n",
    "\n",
    "    t1 = torch.zeros(a_rows, b_cols)\n",
    "    # Matrix multiplication step\n",
    "\n",
    "    for i in range(a_rows): # for every row in a\n",
    "        for j in range(b_cols): # for every column in b\n",
    "            t1[i,j] = dot(a[i,:], b[:,j])"
   ]
  },
  {
   "cell_type": "code",
   "execution_count": 125,
   "id": "23458860-82ef-492b-88a8-c8816184359b",
   "metadata": {
    "tags": []
   },
   "outputs": [],
   "source": [
    "m1a, m2a = m1.numpy(), m2.numpy()"
   ]
  },
  {
   "cell_type": "code",
   "execution_count": 129,
   "id": "4229af06-b7c9-47a4-ba15-d10c0ad28038",
   "metadata": {
    "tags": []
   },
   "outputs": [
    {
     "name": "stdout",
     "output_type": "stream",
     "text": [
      "523 µs ± 141 µs per loop (mean ± std. dev. of 7 runs, 50 loops each)\n"
     ]
    }
   ],
   "source": [
    "%timeit -n 50 fast_mm(m1a, m2a)\n",
    "# 1000 times faster"
   ]
  },
  {
   "cell_type": "markdown",
   "id": "c18b40ea-cb4f-4a4c-833a-97bf53fba5f1",
   "metadata": {},
   "source": [
    "## Elementwise Operations"
   ]
  },
  {
   "cell_type": "code",
   "execution_count": 130,
   "id": "e6eda1a4-a3df-4c88-82a1-5254f5400cb9",
   "metadata": {
    "tags": []
   },
   "outputs": [
    {
     "data": {
      "text/plain": [
       "(tensor([10,  6, -4]), tensor([2, 8, 7]))"
      ]
     },
     "execution_count": 130,
     "metadata": {},
     "output_type": "execute_result"
    }
   ],
   "source": [
    "a = tensor([10, 6, -4])\n",
    "b = tensor([2, 8, 7])\n",
    "a, b"
   ]
  },
  {
   "cell_type": "code",
   "execution_count": 131,
   "id": "5f4c93ea-f8d8-4dac-a641-457b4db56702",
   "metadata": {
    "tags": []
   },
   "outputs": [
    {
     "data": {
      "text/plain": [
       "tensor([False,  True,  True])"
      ]
     },
     "execution_count": 131,
     "metadata": {},
     "output_type": "execute_result"
    }
   ],
   "source": [
    "a < b"
   ]
  },
  {
   "cell_type": "code",
   "execution_count": 133,
   "id": "e8b063b5-7c4f-4d04-bc1a-f0e1636322f0",
   "metadata": {
    "tags": []
   },
   "outputs": [
    {
     "data": {
      "text/plain": [
       "tensor(0.67)"
      ]
     },
     "execution_count": 133,
     "metadata": {},
     "output_type": "execute_result"
    }
   ],
   "source": [
    "(a<b).float().mean()"
   ]
  },
  {
   "cell_type": "code",
   "execution_count": 136,
   "id": "62c1b607-2426-4149-a65b-e6144951b222",
   "metadata": {
    "tags": []
   },
   "outputs": [
    {
     "data": {
      "text/plain": [
       "tensor([[1, 2, 3],\n",
       "        [4, 5, 6],\n",
       "        [7, 8, 9]])"
      ]
     },
     "execution_count": 136,
     "metadata": {},
     "output_type": "execute_result"
    }
   ],
   "source": [
    "m = tensor([[1,2,3],[4,5,6], [7,8,9]])\n",
    "m #dim 3 tensor"
   ]
  },
  {
   "cell_type": "markdown",
   "id": "092a9533-1b1e-420e-bc63-727b94477c4b",
   "metadata": {},
   "source": [
    "### Frobenius norm\n",
    "\n",
    " $$\\|A\\|_{\\rm F} = \\left(\\sum_{i=1}^m \\sum_{j=1}^n |a_{ij}|^2\\right)^{\\frac{1}{2}}$$"
   ]
  },
  {
   "cell_type": "code",
   "execution_count": 138,
   "id": "e9b73acd-1c43-4101-aa13-ca02d2f6dd86",
   "metadata": {
    "tags": []
   },
   "outputs": [
    {
     "data": {
      "text/plain": [
       "tensor(285)"
      ]
     },
     "execution_count": 138,
     "metadata": {},
     "output_type": "execute_result"
    }
   ],
   "source": [
    "sf = (m*m).sum()\n",
    "sf"
   ]
  },
  {
   "cell_type": "code",
   "execution_count": 139,
   "id": "eb2a0d34-b6cd-4d42-9f7a-cc4e426a4f6b",
   "metadata": {
    "tags": []
   },
   "outputs": [
    {
     "data": {
      "text/plain": [
       "tensor(16.88)"
      ]
     },
     "execution_count": 139,
     "metadata": {},
     "output_type": "execute_result"
    }
   ],
   "source": [
    "sf.sqrt()"
   ]
  },
  {
   "cell_type": "markdown",
   "id": "40113667-8ca5-4544-8896-41e0d91b4c46",
   "metadata": {},
   "source": [
    "## Broadcasting"
   ]
  },
  {
   "cell_type": "code",
   "execution_count": 140,
   "id": "469c564f-463f-4d38-9967-6220718cdfad",
   "metadata": {
    "tags": []
   },
   "outputs": [
    {
     "data": {
      "text/plain": [
       "tensor([10,  6, -4])"
      ]
     },
     "execution_count": 140,
     "metadata": {},
     "output_type": "execute_result"
    }
   ],
   "source": [
    "a"
   ]
  },
  {
   "cell_type": "code",
   "execution_count": 141,
   "id": "89fb341c-e195-4fb5-90ee-4950d1146bd2",
   "metadata": {
    "tags": []
   },
   "outputs": [
    {
     "data": {
      "text/plain": [
       "tensor([ True,  True, False])"
      ]
     },
     "execution_count": 141,
     "metadata": {},
     "output_type": "execute_result"
    }
   ],
   "source": [
    "a > 0 "
   ]
  },
  {
   "cell_type": "code",
   "execution_count": 144,
   "id": "1a4d5616-9f72-43e1-9024-d153e3a87d08",
   "metadata": {
    "tags": []
   },
   "outputs": [
    {
     "data": {
      "text/plain": [
       "tensor([ True,  True, False])"
      ]
     },
     "execution_count": 144,
     "metadata": {},
     "output_type": "execute_result"
    }
   ],
   "source": [
    "# identical to \n",
    "a > torch.zeros(3)"
   ]
  },
  {
   "cell_type": "code",
   "execution_count": 146,
   "id": "f09136a1-9bb5-4816-b88b-50ba9de43e12",
   "metadata": {
    "tags": []
   },
   "outputs": [
    {
     "data": {
      "text/plain": [
       "tensor([[ 2,  4,  6],\n",
       "        [ 8, 10, 12],\n",
       "        [14, 16, 18]])"
      ]
     },
     "execution_count": 146,
     "metadata": {},
     "output_type": "execute_result"
    }
   ],
   "source": [
    "m*2 # broadcasting across matrix"
   ]
  },
  {
   "cell_type": "code",
   "execution_count": 147,
   "id": "9ce8d7be-4b79-4491-8af9-fabf42a66f52",
   "metadata": {
    "tags": []
   },
   "outputs": [
    {
     "data": {
      "text/plain": [
       "tensor([[11, 22, 33],\n",
       "        [14, 25, 36],\n",
       "        [17, 28, 39]])"
      ]
     },
     "execution_count": 147,
     "metadata": {},
     "output_type": "execute_result"
    }
   ],
   "source": [
    "c = tensor([10,20,30]) # can broadcast a vector across a matrix\n",
    "m + c"
   ]
  },
  {
   "cell_type": "code",
   "execution_count": 148,
   "id": "ae1fc0df-e0dc-4934-adb9-ea43877ff57c",
   "metadata": {
    "tags": []
   },
   "outputs": [
    {
     "data": {
      "text/plain": [
       "tensor([[10, 20, 30],\n",
       "        [10, 20, 30],\n",
       "        [10, 20, 30]])"
      ]
     },
     "execution_count": 148,
     "metadata": {},
     "output_type": "execute_result"
    }
   ],
   "source": [
    "# identical to (not a copy)\n",
    "t = c.expand_as(m)\n",
    "t"
   ]
  },
  {
   "cell_type": "code",
   "execution_count": 149,
   "id": "c278b0ae-ad46-4d19-b29d-ce7883d24a25",
   "metadata": {
    "tags": []
   },
   "outputs": [
    {
     "data": {
      "text/plain": [
       "tensor([[11, 22, 33],\n",
       "        [14, 25, 36],\n",
       "        [17, 28, 39]])"
      ]
     },
     "execution_count": 149,
     "metadata": {},
     "output_type": "execute_result"
    }
   ],
   "source": [
    "m + t"
   ]
  },
  {
   "cell_type": "code",
   "execution_count": 150,
   "id": "4bbf80a9-7a14-474b-b6cf-026916b2e1f3",
   "metadata": {
    "tags": []
   },
   "outputs": [
    {
     "data": {
      "text/plain": [
       "tensor([[10, 20, 30]])"
      ]
     },
     "execution_count": 150,
     "metadata": {},
     "output_type": "execute_result"
    }
   ],
   "source": [
    "c.unsqueeze(0)"
   ]
  },
  {
   "cell_type": "code",
   "execution_count": 153,
   "id": "dceabe1c-53cd-42ca-ac2e-7d9f468fa484",
   "metadata": {
    "tags": []
   },
   "outputs": [
    {
     "data": {
      "text/plain": [
       "tensor([[10, 20, 30]])"
      ]
     },
     "execution_count": 153,
     "metadata": {},
     "output_type": "execute_result"
    }
   ],
   "source": [
    "c[None, :] #identical"
   ]
  },
  {
   "cell_type": "code",
   "execution_count": 154,
   "id": "e78b29b8-aadf-400c-b7ba-a84de36c46bb",
   "metadata": {
    "tags": []
   },
   "outputs": [
    {
     "data": {
      "text/plain": [
       "tensor([[10],\n",
       "        [20],\n",
       "        [30]])"
      ]
     },
     "execution_count": 154,
     "metadata": {},
     "output_type": "execute_result"
    }
   ],
   "source": [
    "c.unsqueeze(1)"
   ]
  },
  {
   "cell_type": "code",
   "execution_count": 157,
   "id": "cfc5d196-6638-4ce2-9898-fbd25a5fca79",
   "metadata": {
    "tags": []
   },
   "outputs": [
    {
     "data": {
      "text/plain": [
       "tensor([[10],\n",
       "        [20],\n",
       "        [30]])"
      ]
     },
     "execution_count": 157,
     "metadata": {},
     "output_type": "execute_result"
    }
   ],
   "source": [
    "c[: ,None]"
   ]
  },
  {
   "cell_type": "code",
   "execution_count": 159,
   "id": "64c5184e-f78a-4a56-ae4f-d2111a6cb118",
   "metadata": {
    "tags": []
   },
   "outputs": [
    {
     "data": {
      "text/plain": [
       "torch.Size([1, 3])"
      ]
     },
     "execution_count": 159,
     "metadata": {},
     "output_type": "execute_result"
    }
   ],
   "source": [
    "c[None].size()"
   ]
  },
  {
   "cell_type": "code",
   "execution_count": 160,
   "id": "bd1ad675-86ab-4a20-9154-40daf4aebd4c",
   "metadata": {
    "tags": []
   },
   "outputs": [
    {
     "data": {
      "text/plain": [
       "tensor([[10, 10, 10],\n",
       "        [20, 20, 20],\n",
       "        [30, 30, 30]])"
      ]
     },
     "execution_count": 160,
     "metadata": {},
     "output_type": "execute_result"
    }
   ],
   "source": [
    "c[:, None].expand_as(m) "
   ]
  },
  {
   "cell_type": "code",
   "execution_count": 163,
   "id": "fbc80593-dbcf-46c5-bd86-5bdf2729a35d",
   "metadata": {
    "tags": []
   },
   "outputs": [
    {
     "data": {
      "text/plain": [
       "tensor([[11, 22, 33],\n",
       "        [14, 25, 36],\n",
       "        [17, 28, 39]])"
      ]
     },
     "execution_count": 163,
     "metadata": {},
     "output_type": "execute_result"
    }
   ],
   "source": [
    "m + c[None]"
   ]
  },
  {
   "cell_type": "code",
   "execution_count": 162,
   "id": "a977f341-5643-438c-baf2-f75e1977408f",
   "metadata": {
    "tags": []
   },
   "outputs": [
    {
     "data": {
      "text/plain": [
       "tensor([[11, 12, 13],\n",
       "        [24, 25, 26],\n",
       "        [37, 38, 39]])"
      ]
     },
     "execution_count": 162,
     "metadata": {},
     "output_type": "execute_result"
    }
   ],
   "source": [
    "m + c[:,None]"
   ]
  },
  {
   "cell_type": "code",
   "execution_count": 164,
   "id": "5418b942-0270-4cf4-97d9-6d13eefaa965",
   "metadata": {
    "tags": []
   },
   "outputs": [
    {
     "data": {
      "text/plain": [
       "tensor([[100, 200, 300],\n",
       "        [200, 400, 600],\n",
       "        [300, 600, 900]])"
      ]
     },
     "execution_count": 164,
     "metadata": {},
     "output_type": "execute_result"
    }
   ],
   "source": [
    "# Outer product: 3x 1 x 1x3\n",
    "\n",
    "c[None] * c[:, None]"
   ]
  },
  {
   "cell_type": "code",
   "execution_count": 166,
   "id": "3d7cc13c-5880-48fb-bde3-43ecb5206142",
   "metadata": {
    "tags": []
   },
   "outputs": [
    {
     "data": {
      "text/plain": [
       "tensor([[False,  True,  True],\n",
       "        [False, False,  True],\n",
       "        [False, False, False]])"
      ]
     },
     "execution_count": 166,
     "metadata": {},
     "output_type": "execute_result"
    }
   ],
   "source": [
    "c[None] > c[:, None]"
   ]
  },
  {
   "cell_type": "markdown",
   "id": "312c83bd-5562-40ea-947f-152e836cdf09",
   "metadata": {},
   "source": [
    "When operating on two arrays/tensors, Numpy/ Pytorch will compare their shapes element wise. It starts with trailing dimensons and works its way forward. Two dimensons are compatible when:\n",
    "\n",
    "- they are equal or\n",
    "- one of them is 1, in which case that dimension is broadcasted to make it the same size"
   ]
  },
  {
   "cell_type": "markdown",
   "id": "33837f45-565e-4ac0-91d8-6152ea1c9305",
   "metadata": {},
   "source": [
    "## Matmul with broadcasting"
   ]
  },
  {
   "cell_type": "code",
   "execution_count": 167,
   "id": "04ac762d-fe4d-46ab-a0ac-b18018d1c286",
   "metadata": {
    "tags": []
   },
   "outputs": [
    {
     "data": {
      "text/plain": [
       "(torch.Size([784]), torch.Size([784, 10]))"
      ]
     },
     "execution_count": 167,
     "metadata": {},
     "output_type": "execute_result"
    }
   ],
   "source": [
    "digit = m1[0]\n",
    "digit.shape, m2.shape"
   ]
  },
  {
   "cell_type": "code",
   "execution_count": 170,
   "id": "b69ec412-5c72-4e09-b59b-c4c629412751",
   "metadata": {
    "tags": []
   },
   "outputs": [
    {
     "data": {
      "text/plain": [
       "torch.Size([784, 1])"
      ]
     },
     "execution_count": 170,
     "metadata": {},
     "output_type": "execute_result"
    }
   ],
   "source": [
    "digit[:, None].shape"
   ]
  },
  {
   "cell_type": "code",
   "execution_count": 171,
   "id": "14d3f58f-c6ca-4fca-b6a4-ee6cdb15a7d3",
   "metadata": {
    "tags": []
   },
   "outputs": [
    {
     "data": {
      "text/plain": [
       "torch.Size([784, 10])"
      ]
     },
     "execution_count": 171,
     "metadata": {},
     "output_type": "execute_result"
    }
   ],
   "source": [
    "digit[:, None].expand_as(m2).shape"
   ]
  },
  {
   "cell_type": "code",
   "execution_count": 176,
   "id": "6641ea28-6c28-4f93-a89b-e56109e43dd2",
   "metadata": {
    "tags": []
   },
   "outputs": [
    {
     "data": {
      "text/plain": [
       "torch.Size([784, 10])"
      ]
     },
     "execution_count": 176,
     "metadata": {},
     "output_type": "execute_result"
    }
   ],
   "source": [
    "(digit[:, None]*m2).shape"
   ]
  },
  {
   "cell_type": "code",
   "execution_count": 180,
   "id": "3cf99ba6-c795-4a51-80f7-308ee5bd57ac",
   "metadata": {
    "tags": []
   },
   "outputs": [],
   "source": [
    "def new_mat_mul(a,b):\n",
    "    (ar,ac), (br,bc)= a.shape, b.shape\n",
    "    c = torch.zeros(ar,bc)\n",
    "    for i in range(ar):\n",
    "        c[i] = (a[i,:,None] * b).sum(dim = 0)\n",
    "    return c"
   ]
  },
  {
   "cell_type": "code",
   "execution_count": 181,
   "id": "3af77afa-dcbd-49f9-880d-eeefed8b9271",
   "metadata": {
    "tags": []
   },
   "outputs": [
    {
     "name": "stdout",
     "output_type": "stream",
     "text": [
      "284 µs ± 103 µs per loop (mean ± std. dev. of 7 runs, 50 loops each)\n"
     ]
    }
   ],
   "source": [
    "%timeit -n 50 new_mat_mul(m1, m2)"
   ]
  },
  {
   "cell_type": "code",
   "execution_count": 187,
   "id": "a82ff102-4383-4398-826a-3149bd9435b3",
   "metadata": {
    "tags": []
   },
   "outputs": [
    {
     "data": {
      "text/plain": [
       "torch.Size([784])"
      ]
     },
     "execution_count": 187,
     "metadata": {},
     "output_type": "execute_result"
    }
   ],
   "source": [
    "m1[1,:].shape #row of 784 value"
   ]
  },
  {
   "cell_type": "code",
   "execution_count": 183,
   "id": "6d562f09-d96d-42cd-b933-0e9fcbf6c20d",
   "metadata": {
    "tags": []
   },
   "outputs": [
    {
     "data": {
      "text/plain": [
       "torch.Size([784, 1])"
      ]
     },
     "execution_count": 183,
     "metadata": {},
     "output_type": "execute_result"
    }
   ],
   "source": [
    "m1[1,:,None].shape"
   ]
  },
  {
   "cell_type": "code",
   "execution_count": 194,
   "id": "fb6225fb-6b66-4e6b-bcbb-9b8b695eada8",
   "metadata": {
    "tags": []
   },
   "outputs": [
    {
     "data": {
      "text/plain": [
       "torch.Size([784, 10])"
      ]
     },
     "execution_count": 194,
     "metadata": {},
     "output_type": "execute_result"
    }
   ],
   "source": [
    "m1[1,:, None].expand_as(m2).shape"
   ]
  },
  {
   "cell_type": "code",
   "execution_count": 185,
   "id": "26e960e7-3b24-46d0-ad11-70bab3a296a7",
   "metadata": {
    "tags": []
   },
   "outputs": [
    {
     "data": {
      "text/plain": [
       "torch.Size([784, 10])"
      ]
     },
     "execution_count": 185,
     "metadata": {},
     "output_type": "execute_result"
    }
   ],
   "source": [
    "m2.shape"
   ]
  },
  {
   "cell_type": "code",
   "execution_count": 195,
   "id": "8911705d-f9ae-4617-a599-f838070e3f1f",
   "metadata": {
    "tags": []
   },
   "outputs": [
    {
     "data": {
      "text/plain": [
       "torch.Size([784, 10])"
      ]
     },
     "execution_count": 195,
     "metadata": {},
     "output_type": "execute_result"
    }
   ],
   "source": [
    "(m1[1,:,None]*m2).shape\n",
    "\n",
    "# This is element wise multiplication, not matrix multiplication?"
   ]
  }
 ],
 "metadata": {
  "kernelspec": {
   "display_name": "Python 3 (ipykernel)",
   "language": "python",
   "name": "python3"
  },
  "language_info": {
   "codemirror_mode": {
    "name": "ipython",
    "version": 3
   },
   "file_extension": ".py",
   "mimetype": "text/x-python",
   "name": "python",
   "nbconvert_exporter": "python",
   "pygments_lexer": "ipython3",
   "version": "3.10.10"
  }
 },
 "nbformat": 4,
 "nbformat_minor": 5
}
