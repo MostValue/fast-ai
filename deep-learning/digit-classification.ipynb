{
 "cells": [
  {
   "cell_type": "markdown",
   "id": "6ff7dd29-f8d7-4b85-88cf-679db0a54581",
   "metadata": {},
   "source": [
    "## Creating a classifier that can distinguish between 3s and 7s"
   ]
  },
  {
   "cell_type": "markdown",
   "id": "76e27ade-b06e-49e3-8fd7-e96d934f6531",
   "metadata": {},
   "source": [
    "Skills covered in these notes:\n",
    "- PIL and working with tensors"
   ]
  },
  {
   "cell_type": "markdown",
   "id": "9643408c-7d92-4d6a-93ff-cfb19fb9ab79",
   "metadata": {},
   "source": [
    "## Jargon Recap"
   ]
  },
  {
   "cell_type": "markdown",
   "id": "1f4ae68f-79ce-41a1-aac0-93ba7032e637",
   "metadata": {},
   "source": [
    "- Activations: numbers calculated by linear and nonlinear layers\n",
    "- Parameters: weights that are randomly initialised and then optimised by the model\n",
    "\n",
    "These are all stored in tensors, which are matrices with axes / dimensions. \n",
    "- Rank 0 tensor: scalar\n",
    "- Rank 1 tensor: vector\n",
    "- Rank 2 tensor: matrix\n",
    "\n",
    "Generally, neural networks alternate between linear layer and non-linear layer. (activation function)\n",
    "\n",
    "\n",
    "- ReLU : Function that returns 0 for negative numbers and doesn't change positive numbers.\n",
    "- Mini-batch : A small group of inputs and labels gathered together in two arrays. A gradient descent step is updated on this batch (rather than a whole epoch).\n",
    "- Forward pass : Applying the model to some input and computing the predictions.\n",
    "- Loss : A value that represents how well (or badly) our model is doing.\n",
    "- Gradient : The derivative of the loss with respect to some parameter of the model.\n",
    "- Backward pass : Computing the gradients of the loss with respect to all model parameters.\n",
    "- Gradient descent : Taking a step in the directions opposite to the gradients to make the model parameters a little bit better.\n",
    "- Learning rate : The size of the step we take when applying SGD to update the parameters of the model."
   ]
  },
  {
   "cell_type": "markdown",
   "id": "1e2536dc-d48a-42b2-80bc-bd780d327a63",
   "metadata": {
    "tags": []
   },
   "source": [
    "## Creating Tensors from MNIST Data"
   ]
  },
  {
   "cell_type": "code",
   "execution_count": 1,
   "id": "e69c3d4e-0954-43b6-863b-79dee4e464f4",
   "metadata": {
    "tags": []
   },
   "outputs": [],
   "source": [
    "import fastbook\n",
    "from fastai.vision.all import *\n",
    "from fastbook import *\n",
    "\n",
    "matplotlib.rc('image', cmap='Greys')"
   ]
  },
  {
   "cell_type": "code",
   "execution_count": 2,
   "id": "1d574e76-b00b-4718-99b6-594a6d203cc4",
   "metadata": {
    "tags": []
   },
   "outputs": [],
   "source": [
    "path = untar_data(URLs.MNIST_SAMPLE)"
   ]
  },
  {
   "cell_type": "code",
   "execution_count": 3,
   "id": "3d2d3c6f-3a7e-4e06-9089-b1921ee96a03",
   "metadata": {
    "tags": []
   },
   "outputs": [],
   "source": [
    "Path.BASE_PATH = path"
   ]
  },
  {
   "cell_type": "markdown",
   "id": "b292e707-b74e-424c-b813-70a81bae8dd6",
   "metadata": {},
   "source": [
    "Ideas for recognising 3s and 7s\n",
    "1. Recognising linear and curved strokes and how they mesh together\n",
    "\n",
    "Identifying a basline - comparing to the average 3 and the average 7\n",
    "- find a simple, easy to implement model to see if your approach is any good"
   ]
  },
  {
   "cell_type": "code",
   "execution_count": 4,
   "id": "5286c42a-cfc6-4a5e-bba4-d885a7ccc174",
   "metadata": {
    "tags": []
   },
   "outputs": [
    {
     "data": {
      "text/plain": [
       "(#3) [Path('valid'),Path('train'),Path('labels.csv')]"
      ]
     },
     "execution_count": 4,
     "metadata": {},
     "output_type": "execute_result"
    }
   ],
   "source": [
    "path.ls()"
   ]
  },
  {
   "cell_type": "code",
   "execution_count": 5,
   "id": "ced74dbe-aa11-437f-9154-f57993b3bd17",
   "metadata": {
    "tags": []
   },
   "outputs": [
    {
     "data": {
      "text/plain": [
       "(#2) [Path('train/3'),Path('train/7')]"
      ]
     },
     "execution_count": 5,
     "metadata": {},
     "output_type": "execute_result"
    }
   ],
   "source": [
    "(path/'train').ls()"
   ]
  },
  {
   "cell_type": "code",
   "execution_count": 6,
   "id": "77e5e7ca-6080-449f-9416-38b97bb8c82a",
   "metadata": {},
   "outputs": [],
   "source": [
    "threes = (path/'train'/'3').ls().sorted()\n",
    "sevens = (path/'train'/'7').ls().sorted()"
   ]
  },
  {
   "cell_type": "code",
   "execution_count": 7,
   "id": "51042c49-8819-4e13-ac32-516ae397baab",
   "metadata": {
    "tags": []
   },
   "outputs": [
    {
     "data": {
      "image/png": "[encoded data removed]",
      "text/plain": [
       "<PIL.PngImagePlugin.PngImageFile image mode=L size=28x28>"
      ]
     },
     "execution_count": 7,
     "metadata": {},
     "output_type": "execute_result"
    }
   ],
   "source": [
    "im3_path = threes[1]\n",
    "im3 = Image.open(im3_path)\n",
    "im3"
   ]
  },
  {
   "cell_type": "code",
   "execution_count": 8,
   "id": "9e890001-628c-4c05-8640-78d0d9a39d3b",
   "metadata": {
    "tags": []
   },
   "outputs": [
    {
     "data": {
      "text/plain": [
       "array([[  0,   0,   0,   0,   0,   0],\n",
       "       [  0,   0,   0,   0,   0,  29],\n",
       "       [  0,   0,   0,  48, 166, 224],\n",
       "       [  0,  93, 244, 249, 253, 187],\n",
       "       [  0, 107, 253, 253, 230,  48],\n",
       "       [  0,   3,  20,  20,  15,   0]], dtype=uint8)"
      ]
     },
     "execution_count": 8,
     "metadata": {},
     "output_type": "execute_result"
    }
   ],
   "source": [
    "array(im3)[4:10,4:10]"
   ]
  },
  {
   "cell_type": "code",
   "execution_count": 9,
   "id": "2c6eb099-5f7c-4afd-a608-d6a129029882",
   "metadata": {
    "tags": []
   },
   "outputs": [
    {
     "data": {
      "text/plain": [
       "tensor([[  0,   0,   0,   0,   0,   0],\n",
       "        [  0,   0,   0,   0,   0,  29],\n",
       "        [  0,   0,   0,  48, 166, 224],\n",
       "        [  0,  93, 244, 249, 253, 187],\n",
       "        [  0, 107, 253, 253, 230,  48],\n",
       "        [  0,   3,  20,  20,  15,   0]], dtype=torch.uint8)"
      ]
     },
     "execution_count": 9,
     "metadata": {},
     "output_type": "execute_result"
    }
   ],
   "source": [
    "tensor(im3)[4:10,4:10]"
   ]
  },
  {
   "cell_type": "code",
   "execution_count": 10,
   "id": "a0a02ee1-596a-4de2-b45e-f98c885c2c05",
   "metadata": {
    "tags": []
   },
   "outputs": [
    {
     "data": {
      "text/html": [
       "<style type=\"text/css\">\n",
       "#T_11d0b_row0_col0, #T_11d0b_row0_col1, #T_11d0b_row0_col2, #T_11d0b_row0_col3, #T_11d0b_row0_col4, #T_11d0b_row0_col5, #T_11d0b_row0_col6, #T_11d0b_row0_col7, #T_11d0b_row0_col8, #T_11d0b_row0_col9, #T_11d0b_row0_col10, #T_11d0b_row0_col11, #T_11d0b_row0_col12, #T_11d0b_row0_col13, #T_11d0b_row0_col14, #T_11d0b_row0_col15, #T_11d0b_row0_col16, #T_11d0b_row0_col17, #T_11d0b_row1_col0, #T_11d0b_row1_col1, #T_11d0b_row1_col2, #T_11d0b_row1_col3, #T_11d0b_row1_col4, #T_11d0b_row1_col15, #T_11d0b_row1_col16, #T_11d0b_row1_col17, #T_11d0b_row2_col0, #T_11d0b_row2_col1, #T_11d0b_row2_col2, #T_11d0b_row2_col15, #T_11d0b_row2_col16, #T_11d0b_row2_col17, #T_11d0b_row3_col0, #T_11d0b_row3_col15, #T_11d0b_row3_col16, #T_11d0b_row3_col17, #T_11d0b_row4_col0, #T_11d0b_row4_col6, #T_11d0b_row4_col7, #T_11d0b_row4_col8, #T_11d0b_row4_col9, #T_11d0b_row4_col10, #T_11d0b_row4_col15, #T_11d0b_row4_col16, #T_11d0b_row4_col17, #T_11d0b_row5_col0, #T_11d0b_row5_col5, #T_11d0b_row5_col6, #T_11d0b_row5_col7, #T_11d0b_row5_col8, #T_11d0b_row5_col9, #T_11d0b_row5_col15, #T_11d0b_row5_col16, #T_11d0b_row5_col17, #T_11d0b_row6_col0, #T_11d0b_row6_col1, #T_11d0b_row6_col2, #T_11d0b_row6_col3, #T_11d0b_row6_col4, #T_11d0b_row6_col5, #T_11d0b_row6_col6, #T_11d0b_row6_col7, #T_11d0b_row6_col8, #T_11d0b_row6_col9, #T_11d0b_row6_col14, #T_11d0b_row6_col15, #T_11d0b_row6_col16, #T_11d0b_row6_col17, #T_11d0b_row7_col0, #T_11d0b_row7_col1, #T_11d0b_row7_col2, #T_11d0b_row7_col3, #T_11d0b_row7_col4, #T_11d0b_row7_col5, #T_11d0b_row7_col6, #T_11d0b_row7_col13, #T_11d0b_row7_col14, #T_11d0b_row7_col15, #T_11d0b_row7_col16, #T_11d0b_row7_col17, #T_11d0b_row8_col0, #T_11d0b_row8_col1, #T_11d0b_row8_col2, #T_11d0b_row8_col3, #T_11d0b_row8_col4, #T_11d0b_row8_col13, #T_11d0b_row8_col14, #T_11d0b_row8_col15, #T_11d0b_row8_col16, #T_11d0b_row8_col17, #T_11d0b_row9_col0, #T_11d0b_row9_col1, #T_11d0b_row9_col2, #T_11d0b_row9_col3, #T_11d0b_row9_col4, #T_11d0b_row9_col16, #T_11d0b_row9_col17, #T_11d0b_row10_col0, #T_11d0b_row10_col1, #T_11d0b_row10_col2, #T_11d0b_row10_col3, #T_11d0b_row10_col4, #T_11d0b_row10_col5, #T_11d0b_row10_col6, #T_11d0b_row10_col17 {\n",
       "  font-size: 6pt;\n",
       "  background-color: #ffffff;\n",
       "  color: #000000;\n",
       "}\n",
       "#T_11d0b_row1_col5 {\n",
       "  font-size: 6pt;\n",
       "  background-color: #efefef;\n",
       "  color: #000000;\n",
       "}\n",
       "#T_11d0b_row1_col6, #T_11d0b_row1_col13 {\n",
       "  font-size: 6pt;\n",
       "  background-color: #7c7c7c;\n",
       "  color: #f1f1f1;\n",
       "}\n",
       "#T_11d0b_row1_col7 {\n",
       "  font-size: 6pt;\n",
       "  background-color: #4a4a4a;\n",
       "  color: #f1f1f1;\n",
       "}\n",
       "#T_11d0b_row1_col8, #T_11d0b_row1_col9, #T_11d0b_row1_col10, #T_11d0b_row2_col5, #T_11d0b_row2_col6, #T_11d0b_row2_col7, #T_11d0b_row2_col11, #T_11d0b_row2_col12, #T_11d0b_row2_col13, #T_11d0b_row3_col4, #T_11d0b_row3_col12, #T_11d0b_row3_col13, #T_11d0b_row4_col1, #T_11d0b_row4_col2, #T_11d0b_row4_col3, #T_11d0b_row4_col12, #T_11d0b_row4_col13, #T_11d0b_row5_col12, #T_11d0b_row6_col11, #T_11d0b_row9_col11, #T_11d0b_row10_col11, #T_11d0b_row10_col12, #T_11d0b_row10_col13, #T_11d0b_row10_col14, #T_11d0b_row10_col15, #T_11d0b_row10_col16 {\n",
       "  font-size: 6pt;\n",
       "  background-color: #000000;\n",
       "  color: #f1f1f1;\n",
       "}\n",
       "#T_11d0b_row1_col11 {\n",
       "  font-size: 6pt;\n",
       "  background-color: #606060;\n",
       "  color: #f1f1f1;\n",
       "}\n",
       "#T_11d0b_row1_col12 {\n",
       "  font-size: 6pt;\n",
       "  background-color: #4d4d4d;\n",
       "  color: #f1f1f1;\n",
       "}\n",
       "#T_11d0b_row1_col14 {\n",
       "  font-size: 6pt;\n",
       "  background-color: #bbbbbb;\n",
       "  color: #000000;\n",
       "}\n",
       "#T_11d0b_row2_col3 {\n",
       "  font-size: 6pt;\n",
       "  background-color: #e4e4e4;\n",
       "  color: #000000;\n",
       "}\n",
       "#T_11d0b_row2_col4, #T_11d0b_row8_col6 {\n",
       "  font-size: 6pt;\n",
       "  background-color: #6b6b6b;\n",
       "  color: #f1f1f1;\n",
       "}\n",
       "#T_11d0b_row2_col8, #T_11d0b_row2_col14, #T_11d0b_row3_col14 {\n",
       "  font-size: 6pt;\n",
       "  background-color: #171717;\n",
       "  color: #f1f1f1;\n",
       "}\n",
       "#T_11d0b_row2_col9, #T_11d0b_row3_col11 {\n",
       "  font-size: 6pt;\n",
       "  background-color: #4b4b4b;\n",
       "  color: #f1f1f1;\n",
       "}\n",
       "#T_11d0b_row2_col10, #T_11d0b_row7_col10, #T_11d0b_row8_col8, #T_11d0b_row8_col10, #T_11d0b_row9_col8, #T_11d0b_row9_col10 {\n",
       "  font-size: 6pt;\n",
       "  background-color: #010101;\n",
       "  color: #f1f1f1;\n",
       "}\n",
       "#T_11d0b_row3_col1 {\n",
       "  font-size: 6pt;\n",
       "  background-color: #272727;\n",
       "  color: #f1f1f1;\n",
       "}\n",
       "#T_11d0b_row3_col2 {\n",
       "  font-size: 6pt;\n",
       "  background-color: #0a0a0a;\n",
       "  color: #f1f1f1;\n",
       "}\n",
       "#T_11d0b_row3_col3 {\n",
       "  font-size: 6pt;\n",
       "  background-color: #050505;\n",
       "  color: #f1f1f1;\n",
       "}\n",
       "#T_11d0b_row3_col5 {\n",
       "  font-size: 6pt;\n",
       "  background-color: #333333;\n",
       "  color: #f1f1f1;\n",
       "}\n",
       "#T_11d0b_row3_col6 {\n",
       "  font-size: 6pt;\n",
       "  background-color: #e6e6e6;\n",
       "  color: #000000;\n",
       "}\n",
       "#T_11d0b_row3_col7, #T_11d0b_row3_col10 {\n",
       "  font-size: 6pt;\n",
       "  background-color: #fafafa;\n",
       "  color: #000000;\n",
       "}\n",
       "#T_11d0b_row3_col8 {\n",
       "  font-size: 6pt;\n",
       "  background-color: #fbfbfb;\n",
       "  color: #000000;\n",
       "}\n",
       "#T_11d0b_row3_col9 {\n",
       "  font-size: 6pt;\n",
       "  background-color: #fdfdfd;\n",
       "  color: #000000;\n",
       "}\n",
       "#T_11d0b_row4_col4 {\n",
       "  font-size: 6pt;\n",
       "  background-color: #1b1b1b;\n",
       "  color: #f1f1f1;\n",
       "}\n",
       "#T_11d0b_row4_col5 {\n",
       "  font-size: 6pt;\n",
       "  background-color: #e0e0e0;\n",
       "  color: #000000;\n",
       "}\n",
       "#T_11d0b_row4_col11 {\n",
       "  font-size: 6pt;\n",
       "  background-color: #4e4e4e;\n",
       "  color: #f1f1f1;\n",
       "}\n",
       "#T_11d0b_row4_col14 {\n",
       "  font-size: 6pt;\n",
       "  background-color: #767676;\n",
       "  color: #f1f1f1;\n",
       "}\n",
       "#T_11d0b_row5_col1 {\n",
       "  font-size: 6pt;\n",
       "  background-color: #fcfcfc;\n",
       "  color: #000000;\n",
       "}\n",
       "#T_11d0b_row5_col2, #T_11d0b_row5_col3 {\n",
       "  font-size: 6pt;\n",
       "  background-color: #f6f6f6;\n",
       "  color: #000000;\n",
       "}\n",
       "#T_11d0b_row5_col4, #T_11d0b_row7_col7 {\n",
       "  font-size: 6pt;\n",
       "  background-color: #f8f8f8;\n",
       "  color: #000000;\n",
       "}\n",
       "#T_11d0b_row5_col10, #T_11d0b_row10_col7 {\n",
       "  font-size: 6pt;\n",
       "  background-color: #e8e8e8;\n",
       "  color: #000000;\n",
       "}\n",
       "#T_11d0b_row5_col11 {\n",
       "  font-size: 6pt;\n",
       "  background-color: #222222;\n",
       "  color: #f1f1f1;\n",
       "}\n",
       "#T_11d0b_row5_col13, #T_11d0b_row6_col12 {\n",
       "  font-size: 6pt;\n",
       "  background-color: #090909;\n",
       "  color: #f1f1f1;\n",
       "}\n",
       "#T_11d0b_row5_col14 {\n",
       "  font-size: 6pt;\n",
       "  background-color: #d0d0d0;\n",
       "  color: #000000;\n",
       "}\n",
       "#T_11d0b_row6_col10, #T_11d0b_row7_col11, #T_11d0b_row9_col6 {\n",
       "  font-size: 6pt;\n",
       "  background-color: #060606;\n",
       "  color: #f1f1f1;\n",
       "}\n",
       "#T_11d0b_row6_col13 {\n",
       "  font-size: 6pt;\n",
       "  background-color: #979797;\n",
       "  color: #f1f1f1;\n",
       "}\n",
       "#T_11d0b_row7_col8 {\n",
       "  font-size: 6pt;\n",
       "  background-color: #b6b6b6;\n",
       "  color: #000000;\n",
       "}\n",
       "#T_11d0b_row7_col9 {\n",
       "  font-size: 6pt;\n",
       "  background-color: #252525;\n",
       "  color: #f1f1f1;\n",
       "}\n",
       "#T_11d0b_row7_col12 {\n",
       "  font-size: 6pt;\n",
       "  background-color: #999999;\n",
       "  color: #f1f1f1;\n",
       "}\n",
       "#T_11d0b_row8_col5 {\n",
       "  font-size: 6pt;\n",
       "  background-color: #f9f9f9;\n",
       "  color: #000000;\n",
       "}\n",
       "#T_11d0b_row8_col7 {\n",
       "  font-size: 6pt;\n",
       "  background-color: #101010;\n",
       "  color: #f1f1f1;\n",
       "}\n",
       "#T_11d0b_row8_col9, #T_11d0b_row9_col9 {\n",
       "  font-size: 6pt;\n",
       "  background-color: #020202;\n",
       "  color: #f1f1f1;\n",
       "}\n",
       "#T_11d0b_row8_col11 {\n",
       "  font-size: 6pt;\n",
       "  background-color: #545454;\n",
       "  color: #f1f1f1;\n",
       "}\n",
       "#T_11d0b_row8_col12 {\n",
       "  font-size: 6pt;\n",
       "  background-color: #f1f1f1;\n",
       "  color: #000000;\n",
       "}\n",
       "#T_11d0b_row9_col5 {\n",
       "  font-size: 6pt;\n",
       "  background-color: #f7f7f7;\n",
       "  color: #000000;\n",
       "}\n",
       "#T_11d0b_row9_col7 {\n",
       "  font-size: 6pt;\n",
       "  background-color: #030303;\n",
       "  color: #f1f1f1;\n",
       "}\n",
       "#T_11d0b_row9_col12 {\n",
       "  font-size: 6pt;\n",
       "  background-color: #181818;\n",
       "  color: #f1f1f1;\n",
       "}\n",
       "#T_11d0b_row9_col13 {\n",
       "  font-size: 6pt;\n",
       "  background-color: #303030;\n",
       "  color: #f1f1f1;\n",
       "}\n",
       "#T_11d0b_row9_col14 {\n",
       "  font-size: 6pt;\n",
       "  background-color: #a9a9a9;\n",
       "  color: #f1f1f1;\n",
       "}\n",
       "#T_11d0b_row9_col15 {\n",
       "  font-size: 6pt;\n",
       "  background-color: #fefefe;\n",
       "  color: #000000;\n",
       "}\n",
       "#T_11d0b_row10_col8, #T_11d0b_row10_col9 {\n",
       "  font-size: 6pt;\n",
       "  background-color: #bababa;\n",
       "  color: #000000;\n",
       "}\n",
       "#T_11d0b_row10_col10 {\n",
       "  font-size: 6pt;\n",
       "  background-color: #393939;\n",
       "  color: #f1f1f1;\n",
       "}\n",
       "</style>\n",
       "<table id=\"T_11d0b\">\n",
       "  <thead>\n",
       "    <tr>\n",
       "      <th class=\"blank level0\" >&nbsp;</th>\n",
       "      <th id=\"T_11d0b_level0_col0\" class=\"col_heading level0 col0\" >0</th>\n",
       "      <th id=\"T_11d0b_level0_col1\" class=\"col_heading level0 col1\" >1</th>\n",
       "      <th id=\"T_11d0b_level0_col2\" class=\"col_heading level0 col2\" >2</th>\n",
       "      <th id=\"T_11d0b_level0_col3\" class=\"col_heading level0 col3\" >3</th>\n",
       "      <th id=\"T_11d0b_level0_col4\" class=\"col_heading level0 col4\" >4</th>\n",
       "      <th id=\"T_11d0b_level0_col5\" class=\"col_heading level0 col5\" >5</th>\n",
       "      <th id=\"T_11d0b_level0_col6\" class=\"col_heading level0 col6\" >6</th>\n",
       "      <th id=\"T_11d0b_level0_col7\" class=\"col_heading level0 col7\" >7</th>\n",
       "      <th id=\"T_11d0b_level0_col8\" class=\"col_heading level0 col8\" >8</th>\n",
       "      <th id=\"T_11d0b_level0_col9\" class=\"col_heading level0 col9\" >9</th>\n",
       "      <th id=\"T_11d0b_level0_col10\" class=\"col_heading level0 col10\" >10</th>\n",
       "      <th id=\"T_11d0b_level0_col11\" class=\"col_heading level0 col11\" >11</th>\n",
       "      <th id=\"T_11d0b_level0_col12\" class=\"col_heading level0 col12\" >12</th>\n",
       "      <th id=\"T_11d0b_level0_col13\" class=\"col_heading level0 col13\" >13</th>\n",
       "      <th id=\"T_11d0b_level0_col14\" class=\"col_heading level0 col14\" >14</th>\n",
       "      <th id=\"T_11d0b_level0_col15\" class=\"col_heading level0 col15\" >15</th>\n",
       "      <th id=\"T_11d0b_level0_col16\" class=\"col_heading level0 col16\" >16</th>\n",
       "      <th id=\"T_11d0b_level0_col17\" class=\"col_heading level0 col17\" >17</th>\n",
       "    </tr>\n",
       "  </thead>\n",
       "  <tbody>\n",
       "    <tr>\n",
       "      <th id=\"T_11d0b_level0_row0\" class=\"row_heading level0 row0\" >0</th>\n",
       "      <td id=\"T_11d0b_row0_col0\" class=\"data row0 col0\" >0</td>\n",
       "      <td id=\"T_11d0b_row0_col1\" class=\"data row0 col1\" >0</td>\n",
       "      <td id=\"T_11d0b_row0_col2\" class=\"data row0 col2\" >0</td>\n",
       "      <td id=\"T_11d0b_row0_col3\" class=\"data row0 col3\" >0</td>\n",
       "      <td id=\"T_11d0b_row0_col4\" class=\"data row0 col4\" >0</td>\n",
       "      <td id=\"T_11d0b_row0_col5\" class=\"data row0 col5\" >0</td>\n",
       "      <td id=\"T_11d0b_row0_col6\" class=\"data row0 col6\" >0</td>\n",
       "      <td id=\"T_11d0b_row0_col7\" class=\"data row0 col7\" >0</td>\n",
       "      <td id=\"T_11d0b_row0_col8\" class=\"data row0 col8\" >0</td>\n",
       "      <td id=\"T_11d0b_row0_col9\" class=\"data row0 col9\" >0</td>\n",
       "      <td id=\"T_11d0b_row0_col10\" class=\"data row0 col10\" >0</td>\n",
       "      <td id=\"T_11d0b_row0_col11\" class=\"data row0 col11\" >0</td>\n",
       "      <td id=\"T_11d0b_row0_col12\" class=\"data row0 col12\" >0</td>\n",
       "      <td id=\"T_11d0b_row0_col13\" class=\"data row0 col13\" >0</td>\n",
       "      <td id=\"T_11d0b_row0_col14\" class=\"data row0 col14\" >0</td>\n",
       "      <td id=\"T_11d0b_row0_col15\" class=\"data row0 col15\" >0</td>\n",
       "      <td id=\"T_11d0b_row0_col16\" class=\"data row0 col16\" >0</td>\n",
       "      <td id=\"T_11d0b_row0_col17\" class=\"data row0 col17\" >0</td>\n",
       "    </tr>\n",
       "    <tr>\n",
       "      <th id=\"T_11d0b_level0_row1\" class=\"row_heading level0 row1\" >1</th>\n",
       "      <td id=\"T_11d0b_row1_col0\" class=\"data row1 col0\" >0</td>\n",
       "      <td id=\"T_11d0b_row1_col1\" class=\"data row1 col1\" >0</td>\n",
       "      <td id=\"T_11d0b_row1_col2\" class=\"data row1 col2\" >0</td>\n",
       "      <td id=\"T_11d0b_row1_col3\" class=\"data row1 col3\" >0</td>\n",
       "      <td id=\"T_11d0b_row1_col4\" class=\"data row1 col4\" >0</td>\n",
       "      <td id=\"T_11d0b_row1_col5\" class=\"data row1 col5\" >29</td>\n",
       "      <td id=\"T_11d0b_row1_col6\" class=\"data row1 col6\" >150</td>\n",
       "      <td id=\"T_11d0b_row1_col7\" class=\"data row1 col7\" >195</td>\n",
       "      <td id=\"T_11d0b_row1_col8\" class=\"data row1 col8\" >254</td>\n",
       "      <td id=\"T_11d0b_row1_col9\" class=\"data row1 col9\" >255</td>\n",
       "      <td id=\"T_11d0b_row1_col10\" class=\"data row1 col10\" >254</td>\n",
       "      <td id=\"T_11d0b_row1_col11\" class=\"data row1 col11\" >176</td>\n",
       "      <td id=\"T_11d0b_row1_col12\" class=\"data row1 col12\" >193</td>\n",
       "      <td id=\"T_11d0b_row1_col13\" class=\"data row1 col13\" >150</td>\n",
       "      <td id=\"T_11d0b_row1_col14\" class=\"data row1 col14\" >96</td>\n",
       "      <td id=\"T_11d0b_row1_col15\" class=\"data row1 col15\" >0</td>\n",
       "      <td id=\"T_11d0b_row1_col16\" class=\"data row1 col16\" >0</td>\n",
       "      <td id=\"T_11d0b_row1_col17\" class=\"data row1 col17\" >0</td>\n",
       "    </tr>\n",
       "    <tr>\n",
       "      <th id=\"T_11d0b_level0_row2\" class=\"row_heading level0 row2\" >2</th>\n",
       "      <td id=\"T_11d0b_row2_col0\" class=\"data row2 col0\" >0</td>\n",
       "      <td id=\"T_11d0b_row2_col1\" class=\"data row2 col1\" >0</td>\n",
       "      <td id=\"T_11d0b_row2_col2\" class=\"data row2 col2\" >0</td>\n",
       "      <td id=\"T_11d0b_row2_col3\" class=\"data row2 col3\" >48</td>\n",
       "      <td id=\"T_11d0b_row2_col4\" class=\"data row2 col4\" >166</td>\n",
       "      <td id=\"T_11d0b_row2_col5\" class=\"data row2 col5\" >224</td>\n",
       "      <td id=\"T_11d0b_row2_col6\" class=\"data row2 col6\" >253</td>\n",
       "      <td id=\"T_11d0b_row2_col7\" class=\"data row2 col7\" >253</td>\n",
       "      <td id=\"T_11d0b_row2_col8\" class=\"data row2 col8\" >234</td>\n",
       "      <td id=\"T_11d0b_row2_col9\" class=\"data row2 col9\" >196</td>\n",
       "      <td id=\"T_11d0b_row2_col10\" class=\"data row2 col10\" >253</td>\n",
       "      <td id=\"T_11d0b_row2_col11\" class=\"data row2 col11\" >253</td>\n",
       "      <td id=\"T_11d0b_row2_col12\" class=\"data row2 col12\" >253</td>\n",
       "      <td id=\"T_11d0b_row2_col13\" class=\"data row2 col13\" >253</td>\n",
       "      <td id=\"T_11d0b_row2_col14\" class=\"data row2 col14\" >233</td>\n",
       "      <td id=\"T_11d0b_row2_col15\" class=\"data row2 col15\" >0</td>\n",
       "      <td id=\"T_11d0b_row2_col16\" class=\"data row2 col16\" >0</td>\n",
       "      <td id=\"T_11d0b_row2_col17\" class=\"data row2 col17\" >0</td>\n",
       "    </tr>\n",
       "    <tr>\n",
       "      <th id=\"T_11d0b_level0_row3\" class=\"row_heading level0 row3\" >3</th>\n",
       "      <td id=\"T_11d0b_row3_col0\" class=\"data row3 col0\" >0</td>\n",
       "      <td id=\"T_11d0b_row3_col1\" class=\"data row3 col1\" >93</td>\n",
       "      <td id=\"T_11d0b_row3_col2\" class=\"data row3 col2\" >244</td>\n",
       "      <td id=\"T_11d0b_row3_col3\" class=\"data row3 col3\" >249</td>\n",
       "      <td id=\"T_11d0b_row3_col4\" class=\"data row3 col4\" >253</td>\n",
       "      <td id=\"T_11d0b_row3_col5\" class=\"data row3 col5\" >187</td>\n",
       "      <td id=\"T_11d0b_row3_col6\" class=\"data row3 col6\" >46</td>\n",
       "      <td id=\"T_11d0b_row3_col7\" class=\"data row3 col7\" >10</td>\n",
       "      <td id=\"T_11d0b_row3_col8\" class=\"data row3 col8\" >8</td>\n",
       "      <td id=\"T_11d0b_row3_col9\" class=\"data row3 col9\" >4</td>\n",
       "      <td id=\"T_11d0b_row3_col10\" class=\"data row3 col10\" >10</td>\n",
       "      <td id=\"T_11d0b_row3_col11\" class=\"data row3 col11\" >194</td>\n",
       "      <td id=\"T_11d0b_row3_col12\" class=\"data row3 col12\" >253</td>\n",
       "      <td id=\"T_11d0b_row3_col13\" class=\"data row3 col13\" >253</td>\n",
       "      <td id=\"T_11d0b_row3_col14\" class=\"data row3 col14\" >233</td>\n",
       "      <td id=\"T_11d0b_row3_col15\" class=\"data row3 col15\" >0</td>\n",
       "      <td id=\"T_11d0b_row3_col16\" class=\"data row3 col16\" >0</td>\n",
       "      <td id=\"T_11d0b_row3_col17\" class=\"data row3 col17\" >0</td>\n",
       "    </tr>\n",
       "    <tr>\n",
       "      <th id=\"T_11d0b_level0_row4\" class=\"row_heading level0 row4\" >4</th>\n",
       "      <td id=\"T_11d0b_row4_col0\" class=\"data row4 col0\" >0</td>\n",
       "      <td id=\"T_11d0b_row4_col1\" class=\"data row4 col1\" >107</td>\n",
       "      <td id=\"T_11d0b_row4_col2\" class=\"data row4 col2\" >253</td>\n",
       "      <td id=\"T_11d0b_row4_col3\" class=\"data row4 col3\" >253</td>\n",
       "      <td id=\"T_11d0b_row4_col4\" class=\"data row4 col4\" >230</td>\n",
       "      <td id=\"T_11d0b_row4_col5\" class=\"data row4 col5\" >48</td>\n",
       "      <td id=\"T_11d0b_row4_col6\" class=\"data row4 col6\" >0</td>\n",
       "      <td id=\"T_11d0b_row4_col7\" class=\"data row4 col7\" >0</td>\n",
       "      <td id=\"T_11d0b_row4_col8\" class=\"data row4 col8\" >0</td>\n",
       "      <td id=\"T_11d0b_row4_col9\" class=\"data row4 col9\" >0</td>\n",
       "      <td id=\"T_11d0b_row4_col10\" class=\"data row4 col10\" >0</td>\n",
       "      <td id=\"T_11d0b_row4_col11\" class=\"data row4 col11\" >192</td>\n",
       "      <td id=\"T_11d0b_row4_col12\" class=\"data row4 col12\" >253</td>\n",
       "      <td id=\"T_11d0b_row4_col13\" class=\"data row4 col13\" >253</td>\n",
       "      <td id=\"T_11d0b_row4_col14\" class=\"data row4 col14\" >156</td>\n",
       "      <td id=\"T_11d0b_row4_col15\" class=\"data row4 col15\" >0</td>\n",
       "      <td id=\"T_11d0b_row4_col16\" class=\"data row4 col16\" >0</td>\n",
       "      <td id=\"T_11d0b_row4_col17\" class=\"data row4 col17\" >0</td>\n",
       "    </tr>\n",
       "    <tr>\n",
       "      <th id=\"T_11d0b_level0_row5\" class=\"row_heading level0 row5\" >5</th>\n",
       "      <td id=\"T_11d0b_row5_col0\" class=\"data row5 col0\" >0</td>\n",
       "      <td id=\"T_11d0b_row5_col1\" class=\"data row5 col1\" >3</td>\n",
       "      <td id=\"T_11d0b_row5_col2\" class=\"data row5 col2\" >20</td>\n",
       "      <td id=\"T_11d0b_row5_col3\" class=\"data row5 col3\" >20</td>\n",
       "      <td id=\"T_11d0b_row5_col4\" class=\"data row5 col4\" >15</td>\n",
       "      <td id=\"T_11d0b_row5_col5\" class=\"data row5 col5\" >0</td>\n",
       "      <td id=\"T_11d0b_row5_col6\" class=\"data row5 col6\" >0</td>\n",
       "      <td id=\"T_11d0b_row5_col7\" class=\"data row5 col7\" >0</td>\n",
       "      <td id=\"T_11d0b_row5_col8\" class=\"data row5 col8\" >0</td>\n",
       "      <td id=\"T_11d0b_row5_col9\" class=\"data row5 col9\" >0</td>\n",
       "      <td id=\"T_11d0b_row5_col10\" class=\"data row5 col10\" >43</td>\n",
       "      <td id=\"T_11d0b_row5_col11\" class=\"data row5 col11\" >224</td>\n",
       "      <td id=\"T_11d0b_row5_col12\" class=\"data row5 col12\" >253</td>\n",
       "      <td id=\"T_11d0b_row5_col13\" class=\"data row5 col13\" >245</td>\n",
       "      <td id=\"T_11d0b_row5_col14\" class=\"data row5 col14\" >74</td>\n",
       "      <td id=\"T_11d0b_row5_col15\" class=\"data row5 col15\" >0</td>\n",
       "      <td id=\"T_11d0b_row5_col16\" class=\"data row5 col16\" >0</td>\n",
       "      <td id=\"T_11d0b_row5_col17\" class=\"data row5 col17\" >0</td>\n",
       "    </tr>\n",
       "    <tr>\n",
       "      <th id=\"T_11d0b_level0_row6\" class=\"row_heading level0 row6\" >6</th>\n",
       "      <td id=\"T_11d0b_row6_col0\" class=\"data row6 col0\" >0</td>\n",
       "      <td id=\"T_11d0b_row6_col1\" class=\"data row6 col1\" >0</td>\n",
       "      <td id=\"T_11d0b_row6_col2\" class=\"data row6 col2\" >0</td>\n",
       "      <td id=\"T_11d0b_row6_col3\" class=\"data row6 col3\" >0</td>\n",
       "      <td id=\"T_11d0b_row6_col4\" class=\"data row6 col4\" >0</td>\n",
       "      <td id=\"T_11d0b_row6_col5\" class=\"data row6 col5\" >0</td>\n",
       "      <td id=\"T_11d0b_row6_col6\" class=\"data row6 col6\" >0</td>\n",
       "      <td id=\"T_11d0b_row6_col7\" class=\"data row6 col7\" >0</td>\n",
       "      <td id=\"T_11d0b_row6_col8\" class=\"data row6 col8\" >0</td>\n",
       "      <td id=\"T_11d0b_row6_col9\" class=\"data row6 col9\" >0</td>\n",
       "      <td id=\"T_11d0b_row6_col10\" class=\"data row6 col10\" >249</td>\n",
       "      <td id=\"T_11d0b_row6_col11\" class=\"data row6 col11\" >253</td>\n",
       "      <td id=\"T_11d0b_row6_col12\" class=\"data row6 col12\" >245</td>\n",
       "      <td id=\"T_11d0b_row6_col13\" class=\"data row6 col13\" >126</td>\n",
       "      <td id=\"T_11d0b_row6_col14\" class=\"data row6 col14\" >0</td>\n",
       "      <td id=\"T_11d0b_row6_col15\" class=\"data row6 col15\" >0</td>\n",
       "      <td id=\"T_11d0b_row6_col16\" class=\"data row6 col16\" >0</td>\n",
       "      <td id=\"T_11d0b_row6_col17\" class=\"data row6 col17\" >0</td>\n",
       "    </tr>\n",
       "    <tr>\n",
       "      <th id=\"T_11d0b_level0_row7\" class=\"row_heading level0 row7\" >7</th>\n",
       "      <td id=\"T_11d0b_row7_col0\" class=\"data row7 col0\" >0</td>\n",
       "      <td id=\"T_11d0b_row7_col1\" class=\"data row7 col1\" >0</td>\n",
       "      <td id=\"T_11d0b_row7_col2\" class=\"data row7 col2\" >0</td>\n",
       "      <td id=\"T_11d0b_row7_col3\" class=\"data row7 col3\" >0</td>\n",
       "      <td id=\"T_11d0b_row7_col4\" class=\"data row7 col4\" >0</td>\n",
       "      <td id=\"T_11d0b_row7_col5\" class=\"data row7 col5\" >0</td>\n",
       "      <td id=\"T_11d0b_row7_col6\" class=\"data row7 col6\" >0</td>\n",
       "      <td id=\"T_11d0b_row7_col7\" class=\"data row7 col7\" >14</td>\n",
       "      <td id=\"T_11d0b_row7_col8\" class=\"data row7 col8\" >101</td>\n",
       "      <td id=\"T_11d0b_row7_col9\" class=\"data row7 col9\" >223</td>\n",
       "      <td id=\"T_11d0b_row7_col10\" class=\"data row7 col10\" >253</td>\n",
       "      <td id=\"T_11d0b_row7_col11\" class=\"data row7 col11\" >248</td>\n",
       "      <td id=\"T_11d0b_row7_col12\" class=\"data row7 col12\" >124</td>\n",
       "      <td id=\"T_11d0b_row7_col13\" class=\"data row7 col13\" >0</td>\n",
       "      <td id=\"T_11d0b_row7_col14\" class=\"data row7 col14\" >0</td>\n",
       "      <td id=\"T_11d0b_row7_col15\" class=\"data row7 col15\" >0</td>\n",
       "      <td id=\"T_11d0b_row7_col16\" class=\"data row7 col16\" >0</td>\n",
       "      <td id=\"T_11d0b_row7_col17\" class=\"data row7 col17\" >0</td>\n",
       "    </tr>\n",
       "    <tr>\n",
       "      <th id=\"T_11d0b_level0_row8\" class=\"row_heading level0 row8\" >8</th>\n",
       "      <td id=\"T_11d0b_row8_col0\" class=\"data row8 col0\" >0</td>\n",
       "      <td id=\"T_11d0b_row8_col1\" class=\"data row8 col1\" >0</td>\n",
       "      <td id=\"T_11d0b_row8_col2\" class=\"data row8 col2\" >0</td>\n",
       "      <td id=\"T_11d0b_row8_col3\" class=\"data row8 col3\" >0</td>\n",
       "      <td id=\"T_11d0b_row8_col4\" class=\"data row8 col4\" >0</td>\n",
       "      <td id=\"T_11d0b_row8_col5\" class=\"data row8 col5\" >11</td>\n",
       "      <td id=\"T_11d0b_row8_col6\" class=\"data row8 col6\" >166</td>\n",
       "      <td id=\"T_11d0b_row8_col7\" class=\"data row8 col7\" >239</td>\n",
       "      <td id=\"T_11d0b_row8_col8\" class=\"data row8 col8\" >253</td>\n",
       "      <td id=\"T_11d0b_row8_col9\" class=\"data row8 col9\" >253</td>\n",
       "      <td id=\"T_11d0b_row8_col10\" class=\"data row8 col10\" >253</td>\n",
       "      <td id=\"T_11d0b_row8_col11\" class=\"data row8 col11\" >187</td>\n",
       "      <td id=\"T_11d0b_row8_col12\" class=\"data row8 col12\" >30</td>\n",
       "      <td id=\"T_11d0b_row8_col13\" class=\"data row8 col13\" >0</td>\n",
       "      <td id=\"T_11d0b_row8_col14\" class=\"data row8 col14\" >0</td>\n",
       "      <td id=\"T_11d0b_row8_col15\" class=\"data row8 col15\" >0</td>\n",
       "      <td id=\"T_11d0b_row8_col16\" class=\"data row8 col16\" >0</td>\n",
       "      <td id=\"T_11d0b_row8_col17\" class=\"data row8 col17\" >0</td>\n",
       "    </tr>\n",
       "    <tr>\n",
       "      <th id=\"T_11d0b_level0_row9\" class=\"row_heading level0 row9\" >9</th>\n",
       "      <td id=\"T_11d0b_row9_col0\" class=\"data row9 col0\" >0</td>\n",
       "      <td id=\"T_11d0b_row9_col1\" class=\"data row9 col1\" >0</td>\n",
       "      <td id=\"T_11d0b_row9_col2\" class=\"data row9 col2\" >0</td>\n",
       "      <td id=\"T_11d0b_row9_col3\" class=\"data row9 col3\" >0</td>\n",
       "      <td id=\"T_11d0b_row9_col4\" class=\"data row9 col4\" >0</td>\n",
       "      <td id=\"T_11d0b_row9_col5\" class=\"data row9 col5\" >16</td>\n",
       "      <td id=\"T_11d0b_row9_col6\" class=\"data row9 col6\" >248</td>\n",
       "      <td id=\"T_11d0b_row9_col7\" class=\"data row9 col7\" >250</td>\n",
       "      <td id=\"T_11d0b_row9_col8\" class=\"data row9 col8\" >253</td>\n",
       "      <td id=\"T_11d0b_row9_col9\" class=\"data row9 col9\" >253</td>\n",
       "      <td id=\"T_11d0b_row9_col10\" class=\"data row9 col10\" >253</td>\n",
       "      <td id=\"T_11d0b_row9_col11\" class=\"data row9 col11\" >253</td>\n",
       "      <td id=\"T_11d0b_row9_col12\" class=\"data row9 col12\" >232</td>\n",
       "      <td id=\"T_11d0b_row9_col13\" class=\"data row9 col13\" >213</td>\n",
       "      <td id=\"T_11d0b_row9_col14\" class=\"data row9 col14\" >111</td>\n",
       "      <td id=\"T_11d0b_row9_col15\" class=\"data row9 col15\" >2</td>\n",
       "      <td id=\"T_11d0b_row9_col16\" class=\"data row9 col16\" >0</td>\n",
       "      <td id=\"T_11d0b_row9_col17\" class=\"data row9 col17\" >0</td>\n",
       "    </tr>\n",
       "    <tr>\n",
       "      <th id=\"T_11d0b_level0_row10\" class=\"row_heading level0 row10\" >10</th>\n",
       "      <td id=\"T_11d0b_row10_col0\" class=\"data row10 col0\" >0</td>\n",
       "      <td id=\"T_11d0b_row10_col1\" class=\"data row10 col1\" >0</td>\n",
       "      <td id=\"T_11d0b_row10_col2\" class=\"data row10 col2\" >0</td>\n",
       "      <td id=\"T_11d0b_row10_col3\" class=\"data row10 col3\" >0</td>\n",
       "      <td id=\"T_11d0b_row10_col4\" class=\"data row10 col4\" >0</td>\n",
       "      <td id=\"T_11d0b_row10_col5\" class=\"data row10 col5\" >0</td>\n",
       "      <td id=\"T_11d0b_row10_col6\" class=\"data row10 col6\" >0</td>\n",
       "      <td id=\"T_11d0b_row10_col7\" class=\"data row10 col7\" >43</td>\n",
       "      <td id=\"T_11d0b_row10_col8\" class=\"data row10 col8\" >98</td>\n",
       "      <td id=\"T_11d0b_row10_col9\" class=\"data row10 col9\" >98</td>\n",
       "      <td id=\"T_11d0b_row10_col10\" class=\"data row10 col10\" >208</td>\n",
       "      <td id=\"T_11d0b_row10_col11\" class=\"data row10 col11\" >253</td>\n",
       "      <td id=\"T_11d0b_row10_col12\" class=\"data row10 col12\" >253</td>\n",
       "      <td id=\"T_11d0b_row10_col13\" class=\"data row10 col13\" >253</td>\n",
       "      <td id=\"T_11d0b_row10_col14\" class=\"data row10 col14\" >253</td>\n",
       "      <td id=\"T_11d0b_row10_col15\" class=\"data row10 col15\" >187</td>\n",
       "      <td id=\"T_11d0b_row10_col16\" class=\"data row10 col16\" >22</td>\n",
       "      <td id=\"T_11d0b_row10_col17\" class=\"data row10 col17\" >0</td>\n",
       "    </tr>\n",
       "  </tbody>\n",
       "</table>\n"
      ],
      "text/plain": [
       "<pandas.io.formats.style.Styler at 0x7f1ce64ffbb0>"
      ]
     },
     "execution_count": 10,
     "metadata": {},
     "output_type": "execute_result"
    }
   ],
   "source": [
    "im3_t = tensor(im3)\n",
    "df = pd.DataFrame(im3_t[4:15,4:22])\n",
    "df.style.set_properties(**{'font-size':'6pt'}).background_gradient('Greys')"
   ]
  },
  {
   "cell_type": "markdown",
   "id": "24555d36-ac1a-4f83-832b-973e31cb65d1",
   "metadata": {},
   "source": [
    "\n",
    "A tensor's length is its rank:\n",
    "len(stacked_threes.shape) = 3 = tensor.ndim\n",
    "shape = size of each axis of a tensor\n",
    "\n",
    "Calculate the mean of all images by taking the mean along dimension 0 of a stacked, rank 3 tensor.\n",
    "- Stacking over all the images "
   ]
  },
  {
   "cell_type": "markdown",
   "id": "39a908c7-dd7e-4374-8b72-8d2f0fe52d1f",
   "metadata": {
    "jp-MarkdownHeadingCollapsed": true,
    "tags": []
   },
   "source": [
    "## Computing Similarity"
   ]
  },
  {
   "cell_type": "markdown",
   "id": "0126c79f-9001-4063-a2d9-5e317ad71f59",
   "metadata": {},
   "source": [
    "Idea is that we find the average pixel value for each of the 3s and the 7s, and then classify which of the two averages the image is closest to."
   ]
  },
  {
   "cell_type": "code",
   "execution_count": 11,
   "id": "ff99eff2-0f70-4493-9eef-608a143d18a8",
   "metadata": {
    "tags": []
   },
   "outputs": [
    {
     "data": {
      "text/plain": [
       "(6131, 6265)"
      ]
     },
     "execution_count": 11,
     "metadata": {},
     "output_type": "execute_result"
    }
   ],
   "source": [
    "seven_tensors = [tensor(Image.open(o)) for o in sevens]\n",
    "#Using python list comprehension\n",
    "three_tensors = [tensor(Image.open(o)) for o in threes]\n",
    "len(three_tensors),len(seven_tensors)"
   ]
  },
  {
   "cell_type": "code",
   "execution_count": 12,
   "id": "b751a87a-7adf-474b-ad0f-1ae6310b411f",
   "metadata": {
    "tags": []
   },
   "outputs": [
    {
     "data": {
      "text/plain": [
       "torch.Size([28, 28])"
      ]
     },
     "execution_count": 12,
     "metadata": {},
     "output_type": "execute_result"
    }
   ],
   "source": [
    "three_tensors[1].shape\n",
    "#We have 6131 entries of a 28x28 in an array"
   ]
  },
  {
   "cell_type": "code",
   "execution_count": 13,
   "id": "497366e7-0fab-4490-bf93-77d68c1add41",
   "metadata": {
    "tags": []
   },
   "outputs": [
    {
     "data": {
      "text/plain": [
       "torch.Size([6265, 28, 28])"
      ]
     },
     "execution_count": 13,
     "metadata": {},
     "output_type": "execute_result"
    }
   ],
   "source": [
    "stacked_sevens = torch.stack(seven_tensors).float()/255\n",
    "#To typecast in PyTorch, type name of type as method\n",
    "stacked_sevens.shape"
   ]
  },
  {
   "cell_type": "code",
   "execution_count": 14,
   "id": "3e8b6663-0b56-4e6b-a49f-ebd597ade4ab",
   "metadata": {
    "tags": []
   },
   "outputs": [
    {
     "data": {
      "text/plain": [
       "<Axes: >"
      ]
     },
     "execution_count": 14,
     "metadata": {},
     "output_type": "execute_result"
    },
    {
     "data": {
      "image/png": "[encoded data removed]",
      "text/plain": [
       "<Figure size 100x100 with 1 Axes>"
      ]
     },
     "metadata": {},
     "output_type": "display_data"
    }
   ],
   "source": [
    "show_image(seven_tensors[2])"
   ]
  },
  {
   "cell_type": "code",
   "execution_count": 15,
   "id": "b52bc247-b185-45aa-8355-e3c21db9d6f7",
   "metadata": {
    "tags": []
   },
   "outputs": [
    {
     "data": {
      "text/plain": [
       "torch.Size([6131, 28, 28])"
      ]
     },
     "execution_count": 15,
     "metadata": {},
     "output_type": "execute_result"
    }
   ],
   "source": [
    "stacked_threes = torch.stack(three_tensors).float()/255\n",
    "stacked_threes.shape"
   ]
  },
  {
   "cell_type": "markdown",
   "id": "efda0ab1-e52f-43af-839c-c38a509d20c2",
   "metadata": {},
   "source": [
    "This has a rank of 3, consisting of 6131 , 28x28 pixels "
   ]
  },
  {
   "cell_type": "markdown",
   "id": "bde1b981-0247-485a-96d3-9bec80c8c857",
   "metadata": {},
   "source": [
    "*Rank* is the number of axes or dimensions in the tensor. *shape* is the size of each axis in a tensor. Rank can be found by doing ```len(tensor.shape)``` or ```tensor.ndim```"
   ]
  },
  {
   "cell_type": "code",
   "execution_count": 16,
   "id": "f8168644-19c0-4b90-8eab-437c87dafd31",
   "metadata": {
    "tags": []
   },
   "outputs": [
    {
     "data": {
      "text/plain": [
       "2"
      ]
     },
     "execution_count": 16,
     "metadata": {},
     "output_type": "execute_result"
    },
    {
     "data": {
      "image/png": "[encoded data removed]",
      "text/plain": [
       "<Figure size 100x100 with 1 Axes>"
      ]
     },
     "metadata": {},
     "output_type": "display_data"
    }
   ],
   "source": [
    "mean3 = stacked_threes.mean(0)\n",
    "show_image(mean3)\n",
    "mean3.ndim"
   ]
  },
  {
   "cell_type": "code",
   "execution_count": 17,
   "id": "532280eb-4d60-42fd-a5d6-953746956fa2",
   "metadata": {
    "tags": []
   },
   "outputs": [
    {
     "data": {
      "text/plain": [
       "<Axes: >"
      ]
     },
     "execution_count": 17,
     "metadata": {},
     "output_type": "execute_result"
    },
    {
     "data": {
      "image/png": "[encoded data removed]",
      "text/plain": [
       "<Figure size 100x100 with 1 Axes>"
      ]
     },
     "metadata": {},
     "output_type": "display_data"
    }
   ],
   "source": [
    "mean3 = stacked_threes.mean(0)\n",
    "# this computes the mean along the 0th dimension of the tensor\n",
    "show_image(mean3)"
   ]
  },
  {
   "cell_type": "code",
   "execution_count": 18,
   "id": "bf20dca1-3c3c-4784-a879-b780c39b01e9",
   "metadata": {
    "tags": []
   },
   "outputs": [
    {
     "data": {
      "text/plain": [
       "<Axes: >"
      ]
     },
     "execution_count": 18,
     "metadata": {},
     "output_type": "execute_result"
    },
    {
     "data": {
      "image/png": "[encoded data removed]",
      "text/plain": [
       "<Figure size 100x100 with 1 Axes>"
      ]
     },
     "metadata": {},
     "output_type": "display_data"
    }
   ],
   "source": [
    "mean7 = stacked_sevens.mean(0)\n",
    "show_image(mean7)"
   ]
  },
  {
   "cell_type": "markdown",
   "id": "43598066-9284-4608-9d15-462ad00f232f",
   "metadata": {},
   "source": [
    "How to measure how a particlular image is different \n",
    "- compute the MSE values of every pixel?\n",
    "\n",
    "\n",
    "**Mean absolute difference or L1 norm**\n",
    "is the mean of the absolute value of differences\n",
    "(a-b).abs().mean()\n",
    "**MSE**\n",
    "- mean of the squared error, \n",
    "- will punish larger differences more\n",
    "\n",
    "\n",
    "**.backward**\n",
    "- the same as calculate_grad"
   ]
  },
  {
   "cell_type": "markdown",
   "id": "3e6ed993-170e-4aab-b7a4-51a9de486f2f",
   "metadata": {
    "jp-MarkdownHeadingCollapsed": true,
    "tags": []
   },
   "source": [
    "## Using gradient calcs"
   ]
  },
  {
   "cell_type": "code",
   "execution_count": 19,
   "id": "33d30911-5011-49e3-b282-396e7e334ec5",
   "metadata": {
    "tags": []
   },
   "outputs": [],
   "source": [
    "def f(x): return x**2"
   ]
  },
  {
   "cell_type": "code",
   "execution_count": 20,
   "id": "e33c3794-3f5f-4124-852f-54131e2c1380",
   "metadata": {
    "tags": []
   },
   "outputs": [
    {
     "data": {
      "text/plain": [
       "<matplotlib.collections.PathCollection at 0x7f1ce5d29390>"
      ]
     },
     "execution_count": 20,
     "metadata": {},
     "output_type": "execute_result"
    },
    {
     "data": {
      "image/png": "[encoded data removed]",
      "text/plain": [
       "<Figure size 600x400 with 1 Axes>"
      ]
     },
     "metadata": {},
     "output_type": "display_data"
    }
   ],
   "source": [
    "plot_function(f, 'x', 'x**2')\n",
    "plt.scatter(-1.5, f(-1.5), color='red')"
   ]
  },
  {
   "cell_type": "code",
   "execution_count": 21,
   "id": "e8f76a8a-f853-44f3-9f09-ff894e99991f",
   "metadata": {
    "tags": []
   },
   "outputs": [],
   "source": [
    "xt = tensor(3.).requires_grad_()"
   ]
  },
  {
   "cell_type": "code",
   "execution_count": 22,
   "id": "5ce46b97-5414-4d97-9085-bfde04625c8b",
   "metadata": {
    "tags": []
   },
   "outputs": [
    {
     "data": {
      "text/plain": [
       "tensor(9., grad_fn=<PowBackward0>)"
      ]
     },
     "execution_count": 22,
     "metadata": {},
     "output_type": "execute_result"
    }
   ],
   "source": [
    "yt = f(xt)\n",
    "yt"
   ]
  },
  {
   "cell_type": "code",
   "execution_count": 23,
   "id": "f99295cf-f130-49d8-9fa2-1b5141860b90",
   "metadata": {
    "tags": []
   },
   "outputs": [],
   "source": [
    "yt.backward()"
   ]
  },
  {
   "cell_type": "code",
   "execution_count": 24,
   "id": "c1b4ee8f-3eff-440c-a42a-b27235b7b342",
   "metadata": {
    "tags": []
   },
   "outputs": [
    {
     "data": {
      "text/plain": [
       "tensor(6.)"
      ]
     },
     "execution_count": 24,
     "metadata": {},
     "output_type": "execute_result"
    }
   ],
   "source": [
    "xt.grad "
   ]
  },
  {
   "cell_type": "code",
   "execution_count": 25,
   "id": "a80c53db-55c2-4192-829e-2e699f82c4f2",
   "metadata": {
    "tags": []
   },
   "outputs": [],
   "source": [
    "xt = tensor(3.,4.,10.).requires_grad_()"
   ]
  },
  {
   "cell_type": "code",
   "execution_count": 26,
   "id": "867a8e81-ec6b-412b-a6c4-31e1f798c0f4",
   "metadata": {
    "tags": []
   },
   "outputs": [
    {
     "data": {
      "text/plain": [
       "tensor(125., grad_fn=<SumBackward0>)"
      ]
     },
     "execution_count": 26,
     "metadata": {},
     "output_type": "execute_result"
    }
   ],
   "source": [
    "def f(x): return (x**2).sum()\n",
    "\n",
    "yt = f(xt)\n",
    "yt"
   ]
  },
  {
   "cell_type": "code",
   "execution_count": 27,
   "id": "d2f0cf4c-fa1b-411c-affe-9ef1e41a7781",
   "metadata": {
    "tags": []
   },
   "outputs": [
    {
     "data": {
      "text/plain": [
       "tensor([ 6.,  8., 20.])"
      ]
     },
     "execution_count": 27,
     "metadata": {},
     "output_type": "execute_result"
    }
   ],
   "source": [
    "yt.backward()\n",
    "xt.grad"
   ]
  },
  {
   "cell_type": "markdown",
   "id": "af90f1a6-0af0-4005-ae78-86a1959e2a24",
   "metadata": {},
   "source": [
    "Small notes about tensors:\n",
    "- Tensors will automatically change type when needed\n",
    "- functionally identical to numpy arrays."
   ]
  },
  {
   "cell_type": "markdown",
   "id": "6fc6f107-4a4a-4ebf-925d-6278e691012a",
   "metadata": {
    "jp-MarkdownHeadingCollapsed": true,
    "tags": []
   },
   "source": [
    "## Computing metrics using broadcasting"
   ]
  },
  {
   "cell_type": "code",
   "execution_count": 28,
   "id": "88d87c7c-38a2-4549-923f-a23d58dec670",
   "metadata": {},
   "outputs": [
    {
     "data": {
      "text/plain": [
       "torch.Size([1010, 28, 28])"
      ]
     },
     "execution_count": 28,
     "metadata": {},
     "output_type": "execute_result"
    }
   ],
   "source": [
    "valid_3_t = torch.stack([tensor(Image.open(o)) for o in (path/'valid'/'3').ls()])\n",
    "valid_3_t = valid_3_t.float()/255\n",
    "valid_3_t.shape"
   ]
  },
  {
   "cell_type": "code",
   "execution_count": 29,
   "id": "e2d310c1-9c97-4fcc-859e-2862f113339e",
   "metadata": {
    "tags": []
   },
   "outputs": [
    {
     "data": {
      "text/plain": [
       "torch.Size([1028, 28, 28])"
      ]
     },
     "execution_count": 29,
     "metadata": {},
     "output_type": "execute_result"
    }
   ],
   "source": [
    "valid_7_t = torch.stack([tensor(Image.open(o)) for o in (path/'valid'/'7').ls()])\n",
    "valid_7_t = valid_7_t.float()/255\n",
    "valid_7_t.shape"
   ]
  },
  {
   "cell_type": "markdown",
   "id": "5634def8-fe84-4480-95ed-78aa6ec96672",
   "metadata": {},
   "source": [
    "Now begins the magic of broadcasting.\n",
    "PyTorch treats the ideal image tensor, as 1010 copies of the same tensor and allows us to apply the mse function on it. We now get a rank 1 tensor of length 1010."
   ]
  },
  {
   "cell_type": "code",
   "execution_count": 30,
   "id": "b27a6580-d9a1-4fd6-aeb1-aaad3bf8cc6a",
   "metadata": {
    "tags": []
   },
   "outputs": [],
   "source": [
    "def new_mae(a,b): return (a-b).abs().mean((-1,-2))\n",
    "#mean((-1,-2)) indicates that the mean should be taken over the last two axes of the tensor"
   ]
  },
  {
   "cell_type": "code",
   "execution_count": 31,
   "id": "e035a09f-975f-4fe2-a2bc-3712c0be2146",
   "metadata": {
    "tags": []
   },
   "outputs": [
    {
     "data": {
      "text/plain": [
       "tensor(0.1114)"
      ]
     },
     "execution_count": 31,
     "metadata": {},
     "output_type": "execute_result"
    }
   ],
   "source": [
    "new_mae(valid_3_t[1], mean3)"
   ]
  },
  {
   "cell_type": "code",
   "execution_count": 32,
   "id": "31db37d6-9cf4-4113-8042-d0080e9528a6",
   "metadata": {
    "tags": []
   },
   "outputs": [
    {
     "data": {
      "text/plain": [
       "tensor([0.1288, 0.1114, 0.1183,  ..., 0.1406, 0.1047, 0.1095])"
      ]
     },
     "execution_count": 32,
     "metadata": {},
     "output_type": "execute_result"
    }
   ],
   "source": [
    "new_mae(valid_3_t, mean3)"
   ]
  },
  {
   "cell_type": "code",
   "execution_count": 33,
   "id": "cc61d542-85bf-45af-a2bf-0d36ec8cf96c",
   "metadata": {
    "tags": []
   },
   "outputs": [
    {
     "data": {
      "text/plain": [
       "torch.Size([1010])"
      ]
     },
     "execution_count": 33,
     "metadata": {},
     "output_type": "execute_result"
    }
   ],
   "source": [
    "new_mae(valid_3_t, mean3).shape"
   ]
  },
  {
   "cell_type": "code",
   "execution_count": 34,
   "id": "df05165b-4d32-482f-a4e3-091646e23cd8",
   "metadata": {
    "tags": []
   },
   "outputs": [],
   "source": [
    "def is_3(x): return new_mae(x, mean3) < new_mae(x, mean7)"
   ]
  },
  {
   "cell_type": "code",
   "execution_count": 35,
   "id": "ea30e347-d981-48ef-b9a4-e797a85c07eb",
   "metadata": {
    "tags": []
   },
   "outputs": [
    {
     "data": {
      "text/plain": [
       "tensor([ True,  True,  True,  ..., False,  True,  True])"
      ]
     },
     "execution_count": 35,
     "metadata": {},
     "output_type": "execute_result"
    }
   ],
   "source": [
    "is_3(valid_3_t)"
   ]
  },
  {
   "cell_type": "code",
   "execution_count": 36,
   "id": "5deee2b5-1a39-4dcd-aab6-9927b078e517",
   "metadata": {
    "tags": []
   },
   "outputs": [
    {
     "data": {
      "text/plain": [
       "tensor(0.9168)"
      ]
     },
     "execution_count": 36,
     "metadata": {},
     "output_type": "execute_result"
    }
   ],
   "source": [
    "#Checking accuracy for 3s\n",
    "acc_3 = is_3(valid_3_t).float().mean()\n",
    "acc_3"
   ]
  },
  {
   "cell_type": "markdown",
   "id": "019a26ef-3eca-46e0-ac1a-a39ac9c7315a",
   "metadata": {},
   "source": [
    "## Stochastic Gradient Descent (SGD)"
   ]
  },
  {
   "cell_type": "markdown",
   "id": "675b7a61-c863-4ab3-8f5d-f158255b8440",
   "metadata": {},
   "source": [
    "Main idea behind how it works:\n",
    "\n",
    "We want a function:\n",
    "\n",
    "```python\n",
    "def pr_eight(x,w): return (x*w).sum()\n",
    "```\n",
    "\n",
    "Where:\n",
    "- x is the image, represented as a vector\n",
    "- w are the weights, and correspond to how likely a pixel is to be activated in 8\n",
    "\n",
    "Our plan:\n",
    "1. Initialise the weights\n",
    "2. For each image, use the weights to predict whether its a 3 or 7\n",
    "3. For each prediction, calculate the loss\n",
    "4. calculate the gradients for the weights\n",
    "5. *step* the weights\n",
    "6. return to step 2 and repeat the process\n",
    "7. iterate until you want to stop the training process"
   ]
  },
  {
   "cell_type": "markdown",
   "id": "486714e2-5335-42c3-bc8b-3e6cd654e923",
   "metadata": {
    "jp-MarkdownHeadingCollapsed": true,
    "tags": []
   },
   "source": [
    "## End to end SGD Example"
   ]
  },
  {
   "cell_type": "code",
   "execution_count": 37,
   "id": "9ef2c527-a256-433a-b367-694dbad47850",
   "metadata": {
    "tags": []
   },
   "outputs": [
    {
     "data": {
      "text/plain": [
       "tensor([ 0.,  1.,  2.,  3.,  4.,  5.,  6.,  7.,  8.,  9., 10., 11., 12., 13., 14., 15., 16., 17., 18., 19.])"
      ]
     },
     "execution_count": 37,
     "metadata": {},
     "output_type": "execute_result"
    }
   ],
   "source": [
    "time = torch.arange(0,20).float(); time"
   ]
  },
  {
   "cell_type": "code",
   "execution_count": 38,
   "id": "55f33d43-a132-4e6c-a0a1-443a5082b3d0",
   "metadata": {
    "tags": []
   },
   "outputs": [
    {
     "data": {
      "text/plain": [
       "<matplotlib.collections.PathCollection at 0x7f1ce5c7f460>"
      ]
     },
     "execution_count": 38,
     "metadata": {},
     "output_type": "execute_result"
    },
    {
     "data": {
      "image/png": "[encoded data removed]",
      "text/plain": [
       "<Figure size 640x480 with 1 Axes>"
      ]
     },
     "metadata": {},
     "output_type": "display_data"
    }
   ],
   "source": [
    "speed = torch.rand(20)*3 + 0.75*(time-9.5)**2 + 1\n",
    "plt.scatter(time,speed)"
   ]
  },
  {
   "cell_type": "code",
   "execution_count": 39,
   "id": "e134432d-1c0f-45d2-b39f-53561ae86d1e",
   "metadata": {
    "tags": []
   },
   "outputs": [],
   "source": [
    "def f(t, params):\n",
    "    a,b,c = params\n",
    "    return a*(t**2) + (b*t) + c\n",
    "\n",
    "def mse(preds, targets): return ((preds-targets)**2).mean()"
   ]
  },
  {
   "cell_type": "code",
   "execution_count": 40,
   "id": "8219a7ad-0ca7-4bd7-ba9c-077d46148f86",
   "metadata": {
    "tags": []
   },
   "outputs": [],
   "source": [
    "# init weights\n",
    "weights  = torch.randn(3).requires_grad_()\n",
    "orig_params = weights.clone()"
   ]
  },
  {
   "cell_type": "code",
   "execution_count": 41,
   "id": "63aaca3d-ea8b-4811-a706-c3e72ec10ef1",
   "metadata": {
    "tags": []
   },
   "outputs": [],
   "source": [
    "preds = f(time, weights)"
   ]
  },
  {
   "cell_type": "code",
   "execution_count": 42,
   "id": "e0e78604-53cc-4159-b17b-ee494a7357ff",
   "metadata": {
    "tags": []
   },
   "outputs": [],
   "source": [
    "def show_preds(preds, ax=None):\n",
    "    if ax is None: ax= plt.subplots()[1]\n",
    "    ax.scatter(time, speed)\n",
    "    ax.scatter(time, to_np(preds), color='red')\n",
    "    ax.set_ylim(-300,100)"
   ]
  },
  {
   "cell_type": "code",
   "execution_count": 43,
   "id": "8889648f-813d-4d43-98ce-d96dbabea01a",
   "metadata": {
    "tags": []
   },
   "outputs": [
    {
     "data": {
      "image/png": "[encoded data removed]",
      "text/plain": [
       "<Figure size 640x480 with 1 Axes>"
      ]
     },
     "metadata": {},
     "output_type": "display_data"
    }
   ],
   "source": [
    "show_preds(preds)"
   ]
  },
  {
   "cell_type": "markdown",
   "id": "f3550760-26f7-41b6-9dcb-cf484a3895bc",
   "metadata": {},
   "source": [
    "### Improving our predictions"
   ]
  },
  {
   "cell_type": "code",
   "execution_count": 44,
   "id": "58c1341a-5f34-4c06-8b4b-13ffb9990ce6",
   "metadata": {
    "tags": []
   },
   "outputs": [],
   "source": [
    "lr = 1e-5\n",
    "def apply_step(params, prn=True):\n",
    "    preds = f(time, params)\n",
    "    loss = mse(preds, speed)\n",
    "    loss.backward()\n",
    "    params.data -= lr*params.grad.data\n",
    "    params.grad = None\n",
    "    if prn: print(loss.item())\n",
    "    return preds"
   ]
  },
  {
   "cell_type": "code",
   "execution_count": 45,
   "id": "c75733dd-e450-468a-b193-c1748986d8ef",
   "metadata": {
    "tags": []
   },
   "outputs": [
    {
     "name": "stdout",
     "output_type": "stream",
     "text": [
      "6271.15576171875\n",
      "1722.9986572265625\n",
      "862.3447265625\n",
      "699.4794311523438\n",
      "668.6570434570312\n",
      "662.8212890625\n",
      "661.7135620117188\n",
      "661.5006103515625\n",
      "661.4569091796875\n",
      "661.4454345703125\n"
     ]
    }
   ],
   "source": [
    "for i in range(10): apply_step(weights)"
   ]
  },
  {
   "cell_type": "code",
   "execution_count": 46,
   "id": "fe2da589-33e4-4b15-805f-2240aa2eb802",
   "metadata": {
    "tags": []
   },
   "outputs": [],
   "source": [
    "weights = orig_params.detach().requires_grad_()"
   ]
  },
  {
   "cell_type": "code",
   "execution_count": 47,
   "id": "e38f20e3-324c-44d6-83eb-f22dbcbb2e73",
   "metadata": {
    "tags": []
   },
   "outputs": [
    {
     "data": {
      "image/png": "[encoded data removed]",
      "text/plain": [
       "<Figure size 1200x300 with 10 Axes>"
      ]
     },
     "metadata": {},
     "output_type": "display_data"
    }
   ],
   "source": [
    "_,axs = plt.subplots(1,10, figsize = (12,3))\n",
    "for ax in axs: show_preds(apply_step(weights, False), ax)\n",
    "plt.tight_layout()"
   ]
  },
  {
   "cell_type": "markdown",
   "id": "ed0bd2fc-51fe-429e-a86e-8f09f3bd3b9d",
   "metadata": {
    "tags": []
   },
   "source": [
    "## MNIST Loss Function"
   ]
  },
  {
   "cell_type": "markdown",
   "id": "93b5f699-c56f-4b7b-82b0-46259b6f60a3",
   "metadata": {},
   "source": [
    "First, we will concatenate all the training images into a single tensor. This can be done using ```view``` , that changes the shape of a tensor. Providing the argument ```-1``` means to make the axis as large as possible to fit all the data"
   ]
  },
  {
   "cell_type": "code",
   "execution_count": 48,
   "id": "7606ebf4-486b-43c6-a211-44cdb06f21b2",
   "metadata": {
    "tags": []
   },
   "outputs": [],
   "source": [
    "train_x = torch.cat([stacked_threes, stacked_sevens]).view(-1,28*28) \n",
    "# essentially, we are flattening every image into one vector, turning a rank 3 tensor into a rank 2 tensor (a list of vectors)"
   ]
  },
  {
   "cell_type": "code",
   "execution_count": 49,
   "id": "a291ed37-63cd-4354-9dd0-a81aa1757d6f",
   "metadata": {
    "tags": []
   },
   "outputs": [
    {
     "data": {
      "text/plain": [
       "(torch.Size([12396, 784]), torch.Size([12396, 1]))"
      ]
     },
     "execution_count": 49,
     "metadata": {},
     "output_type": "execute_result"
    }
   ],
   "source": [
    "train_y = tensor([1]*len(threes) + [0]*len(sevens)).unsqueeze(1)\n",
    "#providing a label for each image (1 is three, 0 is seven)\n",
    "train_x.shape, train_y.shape\n"
   ]
  },
  {
   "cell_type": "markdown",
   "id": "a29b6ed1-4a4b-45c3-a7be-7c5f96d42ce0",
   "metadata": {},
   "source": [
    "A ```Dataset``` in PyTorch needs to return a tuple of (x,y). This can be done using the python zip function, combined with a list"
   ]
  },
  {
   "cell_type": "code",
   "execution_count": 50,
   "id": "c879fce1-a280-49d0-9bfd-9f23a8ac691e",
   "metadata": {
    "tags": []
   },
   "outputs": [
    {
     "data": {
      "text/plain": [
       "(torch.Size([784]), tensor([1]))"
      ]
     },
     "execution_count": 50,
     "metadata": {},
     "output_type": "execute_result"
    }
   ],
   "source": [
    "dset = list(zip(train_x, train_y))\n",
    "x,y = dset[0]\n",
    "x.shape, y"
   ]
  },
  {
   "cell_type": "code",
   "execution_count": 51,
   "id": "276f7ce3-d630-41c7-8902-7678b68bcbf9",
   "metadata": {
    "tags": []
   },
   "outputs": [],
   "source": [
    "valid_x = torch.cat([valid_3_t, valid_7_t]).view(-1, 28*28)\n",
    "valid_y = tensor([1]*len(valid_3_t) + [0]*len(valid_7_t)).unsqueeze(1)"
   ]
  },
  {
   "cell_type": "code",
   "execution_count": 52,
   "id": "8a8192d2-1398-4481-abd4-1d2135dd1bb5",
   "metadata": {
    "tags": []
   },
   "outputs": [],
   "source": [
    "valid_dset = list(zip(valid_x, valid_y))"
   ]
  },
  {
   "cell_type": "code",
   "execution_count": 53,
   "id": "048658cc-ba5c-4d3f-be6a-8ebefe203355",
   "metadata": {
    "tags": []
   },
   "outputs": [
    {
     "data": {
      "text/plain": [
       "(torch.Size([784]), tensor([1]))"
      ]
     },
     "execution_count": 53,
     "metadata": {},
     "output_type": "execute_result"
    }
   ],
   "source": [
    "x,y = valid_dset[0]\n",
    "x.shape, y"
   ]
  },
  {
   "cell_type": "code",
   "execution_count": 54,
   "id": "d2136872-284f-4b0c-b59a-e97288d5ef10",
   "metadata": {
    "tags": []
   },
   "outputs": [],
   "source": [
    "def init_params(size, std=1.0): return (torch.randn(size)*std).requires_grad_()"
   ]
  },
  {
   "cell_type": "code",
   "execution_count": 55,
   "id": "ff7f2d5c-55a4-4890-86b4-5a17e442a171",
   "metadata": {
    "tags": []
   },
   "outputs": [],
   "source": [
    "weights = init_params((28*28,1))"
   ]
  },
  {
   "cell_type": "code",
   "execution_count": 56,
   "id": "3995e13c-e30a-4c75-b05c-de7f6d5740da",
   "metadata": {
    "tags": []
   },
   "outputs": [],
   "source": [
    "bias = init_params(1)"
   ]
  },
  {
   "cell_type": "markdown",
   "id": "15096bb7-cedd-4cc2-a214-64aeee4e1e38",
   "metadata": {},
   "source": [
    "Prediction for one image:"
   ]
  },
  {
   "cell_type": "code",
   "execution_count": 57,
   "id": "c9460d77-89c5-4b62-9716-bb90ccbc3378",
   "metadata": {
    "tags": []
   },
   "outputs": [
    {
     "data": {
      "text/plain": [
       "tensor([6.0210], grad_fn=<AddBackward0>)"
      ]
     },
     "execution_count": 57,
     "metadata": {},
     "output_type": "execute_result"
    }
   ],
   "source": [
    "(train_x[0]*weights.T).sum() + bias"
   ]
  },
  {
   "cell_type": "markdown",
   "id": "6ee35080-93c5-4bb5-8c76-103356c664e4",
   "metadata": {},
   "source": [
    "In python, we can do matrix multiplication with the @ operator."
   ]
  },
  {
   "cell_type": "code",
   "execution_count": 58,
   "id": "2b5b998c-891a-42cb-9c47-9604c7f8db03",
   "metadata": {
    "tags": []
   },
   "outputs": [],
   "source": [
    "def linear1(xb): return xb@weights + bias"
   ]
  },
  {
   "cell_type": "code",
   "execution_count": 59,
   "id": "e0b07190-7004-4c54-948d-de48ff6cc5a2",
   "metadata": {
    "tags": []
   },
   "outputs": [
    {
     "data": {
      "text/plain": [
       "tensor([[  6.0209],\n",
       "        [ -7.9800],\n",
       "        [-11.1979],\n",
       "        ...,\n",
       "        [-11.9900],\n",
       "        [  7.9160],\n",
       "        [ -1.7560]], grad_fn=<AddBackward0>)"
      ]
     },
     "execution_count": 59,
     "metadata": {},
     "output_type": "execute_result"
    }
   ],
   "source": [
    "preds = linear1(train_x)\n",
    "preds"
   ]
  },
  {
   "cell_type": "code",
   "execution_count": 60,
   "id": "0abb0a0d-7923-4e5f-8b1d-bfac7e9d8e03",
   "metadata": {
    "tags": []
   },
   "outputs": [
    {
     "data": {
      "text/plain": [
       "tensor([[ True],\n",
       "        [False],\n",
       "        [False],\n",
       "        ...,\n",
       "        [ True],\n",
       "        [False],\n",
       "        [ True]])"
      ]
     },
     "execution_count": 60,
     "metadata": {},
     "output_type": "execute_result"
    }
   ],
   "source": [
    "corrects = (preds>0.0).float() == train_y\n",
    "corrects"
   ]
  },
  {
   "cell_type": "code",
   "execution_count": 61,
   "id": "6f6cc162-a968-4f5a-89a9-85cc999d3100",
   "metadata": {
    "tags": []
   },
   "outputs": [
    {
     "data": {
      "text/plain": [
       "0.3568086624145508"
      ]
     },
     "execution_count": 61,
     "metadata": {},
     "output_type": "execute_result"
    }
   ],
   "source": [
    "corrects.float().mean().item()"
   ]
  },
  {
   "cell_type": "markdown",
   "id": "696c2a06-6185-42d0-a60a-024047b797db",
   "metadata": {},
   "source": [
    "# Loss Function"
   ]
  },
  {
   "cell_type": "markdown",
   "id": "a35a887c-71df-45e4-a8f3-ab0be1a63322",
   "metadata": {},
   "source": [
    "We use a loss function because, sometimes small changes in the weights will not affect the accuracy of the model. This is because the accuracy only changes when it switches from a 3 to a 7 for example, and hence accuracy is not a good metric for the machine to learn.\n",
    "\n",
    "Ideally, our loss fucntion must be reaonsably smooth."
   ]
  },
  {
   "cell_type": "code",
   "execution_count": 62,
   "id": "458429b9-1b7c-4ac8-86e3-5d2052c0863d",
   "metadata": {
    "tags": []
   },
   "outputs": [
    {
     "data": {
      "text/plain": [
       "tensor(0.4333)"
      ]
     },
     "execution_count": 62,
     "metadata": {},
     "output_type": "execute_result"
    }
   ],
   "source": [
    "def mnist_loss(preds, tgt):\n",
    "    return torch.where(tgt == 1, 1-preds, preds).mean()\n",
    "\n",
    "trgts  = tensor([1,0,1])\n",
    "prds   = tensor([0.9, 0.4, 0.2])\n",
    "mnist_loss(prds,trgts)\n",
    "#torch.where(a,b,c) runs b[i] if [a], else c[1]. The above line gives how close it is to a 1 if it should be one, else how close it is to 0."
   ]
  },
  {
   "cell_type": "code",
   "execution_count": 63,
   "id": "0e64bd63-f65c-4077-b2ed-9501b4e36813",
   "metadata": {
    "tags": []
   },
   "outputs": [
    {
     "data": {
      "text/plain": [
       "tensor(0.3667)"
      ]
     },
     "execution_count": 63,
     "metadata": {},
     "output_type": "execute_result"
    }
   ],
   "source": [
    "prds   = tensor([0.9, 0.2, 0.2])\n",
    "mnist_loss(prds,trgts)\n",
    "#Now our loss goes down if we make a change"
   ]
  },
  {
   "cell_type": "markdown",
   "id": "a27437b1-bc0d-4f98-9c52-1935d76f1e81",
   "metadata": {},
   "source": [
    "To ensure we always input a value between 0 and 1, we can use the sigmoid function."
   ]
  },
  {
   "cell_type": "code",
   "execution_count": 64,
   "id": "d7f693cc-db17-4d24-983d-ffba9cfdf5aa",
   "metadata": {
    "tags": []
   },
   "outputs": [
    {
     "data": {
      "image/png": "[encoded data removed]",
      "text/plain": [
       "<Figure size 600x400 with 1 Axes>"
      ]
     },
     "metadata": {},
     "output_type": "display_data"
    }
   ],
   "source": [
    "def sigmoid(x): return 1/(1+torch.exp(-x))\n",
    "plot_function(torch.sigmoid, title='Sigmoid', min=-4, max=4)"
   ]
  },
  {
   "cell_type": "code",
   "execution_count": 65,
   "id": "a2e1eb6b-96a5-4251-ae93-6b26900a9cb1",
   "metadata": {
    "tags": []
   },
   "outputs": [],
   "source": [
    "def mnist_loss(predictions, target):\n",
    "    predictions = predictions.sigmoid()\n",
    "    return torch.where(target==1, 1-predictions, predictions).mean()"
   ]
  },
  {
   "cell_type": "markdown",
   "id": "28ef4d75-d6fd-4331-ac18-ecb40a483d7c",
   "metadata": {
    "tags": []
   },
   "source": [
    "## SGD Mini Batching"
   ]
  },
  {
   "cell_type": "markdown",
   "id": "91b05113-83a1-42a6-b4b1-d18874eeb078",
   "metadata": {},
   "source": [
    "We use batching because:\n",
    "- it is not efficient to compute the loss over the entire training dataset for each epoch\n",
    "- using only one data point will not be a stable estimate of the performance of the model\n",
    "- allows the division of work to the GPU which makes it more efficient\n",
    "\n",
    "Considerations:\n",
    "\n",
    "- using too large of a batch "
   ]
  },
  {
   "cell_type": "code",
   "execution_count": 66,
   "id": "fb398ae9-d9ca-4117-abba-cbb9b1412033",
   "metadata": {
    "tags": []
   },
   "outputs": [
    {
     "data": {
      "text/plain": [
       "[tensor([ 3, 12,  8, 10,  2]),\n",
       " tensor([ 9,  4,  7, 14,  5]),\n",
       " tensor([ 1, 13,  0,  6, 11])]"
      ]
     },
     "execution_count": 66,
     "metadata": {},
     "output_type": "execute_result"
    }
   ],
   "source": [
    "# Using a dataloader, which simply turns any python collection into a list of batches to iterate over\n",
    "coll = range(15)\n",
    "dl = DataLoader(coll, batch_size=5, shuffle=True)\n",
    "list(dl)"
   ]
  },
  {
   "cell_type": "markdown",
   "id": "d8c8b1dc-0ab5-476f-965f-6471cac4b1e9",
   "metadata": {
    "tags": []
   },
   "source": [
    "Recall our process:\n",
    "\n",
    "```python\n",
    "\n",
    "for x,y in dl:\n",
    "    pred = model(x)\n",
    "    loss = loss_func(x, y)\n",
    "    loss.backward() #tells us to calculate the gradients \n",
    "    parameters -= parameters.grad*lr #only after we call backward can we call grad.\n",
    "```"
   ]
  },
  {
   "cell_type": "markdown",
   "id": "27b4d1fc-6ca1-4af6-83bd-df7fbebc26ca",
   "metadata": {
    "tags": []
   },
   "source": [
    "### Putting it all together"
   ]
  },
  {
   "cell_type": "code",
   "execution_count": 67,
   "id": "3421a16e-9db5-4dd1-94af-7068e6dbd939",
   "metadata": {
    "tags": []
   },
   "outputs": [],
   "source": [
    "weights = init_params((28*28,1))\n",
    "bias = init_params(1)"
   ]
  },
  {
   "cell_type": "code",
   "execution_count": 68,
   "id": "cd6693bb-5784-4053-94c8-ad264be79331",
   "metadata": {
    "tags": []
   },
   "outputs": [
    {
     "data": {
      "text/plain": [
       "(torch.Size([256, 784]), torch.Size([256, 1]))"
      ]
     },
     "execution_count": 68,
     "metadata": {},
     "output_type": "execute_result"
    }
   ],
   "source": [
    "dl = DataLoader(dset, batch_size=256)\n",
    "xb,yb = first(dl)\n",
    "xb.shape, yb.shape"
   ]
  },
  {
   "cell_type": "code",
   "execution_count": 69,
   "id": "5c8294fa-31bc-4cd9-abaf-736af4b2d325",
   "metadata": {
    "tags": []
   },
   "outputs": [],
   "source": [
    "valid_dl = DataLoader(valid_dset, batch_size=256)"
   ]
  },
  {
   "cell_type": "markdown",
   "id": "8b27b6fc-7c2f-43d6-89e3-d45b425623a8",
   "metadata": {},
   "source": [
    "python operations whose names end in _ modify their objects inplace"
   ]
  },
  {
   "cell_type": "code",
   "execution_count": 70,
   "id": "72828a0c-c26b-41c8-af59-d14519edf3fa",
   "metadata": {
    "tags": []
   },
   "outputs": [
    {
     "data": {
      "text/plain": [
       "tensor([[10.2649],\n",
       "        [ 0.3174],\n",
       "        [-7.0234],\n",
       "        [ 7.4380]], grad_fn=<AddBackward0>)"
      ]
     },
     "execution_count": 70,
     "metadata": {},
     "output_type": "execute_result"
    }
   ],
   "source": [
    "batch = train_x[:4]\n",
    "preds = linear1(batch)\n",
    "preds"
   ]
  },
  {
   "cell_type": "code",
   "execution_count": 71,
   "id": "d284c5d5-e6c2-471b-98b2-85c7135a6ed6",
   "metadata": {
    "tags": []
   },
   "outputs": [
    {
     "data": {
      "text/plain": [
       "tensor(0.3553, grad_fn=<MeanBackward0>)"
      ]
     },
     "execution_count": 71,
     "metadata": {},
     "output_type": "execute_result"
    }
   ],
   "source": [
    "loss = mnist_loss(preds, train_y[:4])\n",
    "loss"
   ]
  },
  {
   "cell_type": "code",
   "execution_count": 72,
   "id": "2ce2438b-8f15-4b2d-aa6b-f73b4af9e656",
   "metadata": {
    "tags": []
   },
   "outputs": [],
   "source": [
    "def calc_grad(xb, yb, model):\n",
    "    preds = model(xb)\n",
    "    loss = mnist_loss(preds, yb)\n",
    "    loss.backward()"
   ]
  },
  {
   "cell_type": "code",
   "execution_count": 73,
   "id": "720de133-8bcb-4c9c-9a42-411f54f49501",
   "metadata": {
    "tags": []
   },
   "outputs": [
    {
     "data": {
      "text/plain": [
       "(tensor(-0.0087), tensor([-0.0613]))"
      ]
     },
     "execution_count": 73,
     "metadata": {},
     "output_type": "execute_result"
    }
   ],
   "source": [
    "calc_grad(batch, train_y[:4], linear1)\n",
    "weights.grad.mean(),bias.grad"
   ]
  },
  {
   "cell_type": "code",
   "execution_count": 74,
   "id": "5ff6bb00-ebee-436f-9772-196cb442ae33",
   "metadata": {
    "tags": []
   },
   "outputs": [
    {
     "data": {
      "text/plain": [
       "(tensor(-0.0175), tensor([-0.1227]))"
      ]
     },
     "execution_count": 74,
     "metadata": {},
     "output_type": "execute_result"
    }
   ],
   "source": [
    "#calling it twice changes the gradients because loss.backward adds the gradients of loss. hence, we need to set current gradients to 0\n",
    "calc_grad(batch, train_y[:4], linear1)\n",
    "weights.grad.mean(),bias.grad"
   ]
  },
  {
   "cell_type": "code",
   "execution_count": 75,
   "id": "e90cb690-f16f-4399-83b9-87c6742d9b2b",
   "metadata": {
    "tags": []
   },
   "outputs": [],
   "source": [
    "def train_epoch(model, lr, params):\n",
    "    for xb, yb in dl:\n",
    "        calc_grad(xb, yb, model)\n",
    "        for p in params:\n",
    "            p.data -= p.grad*lr\n",
    "            p.grad.zero_()"
   ]
  },
  {
   "cell_type": "code",
   "execution_count": 76,
   "id": "42e76a4a-2934-437d-acfe-ca6478cfdbfa",
   "metadata": {
    "tags": []
   },
   "outputs": [],
   "source": [
    "def batch_acc(xb, yb):\n",
    "    preds = xb.sigmoid()\n",
    "    correct = (preds>0.5) == yb\n",
    "    return correct.float().mean()"
   ]
  },
  {
   "cell_type": "code",
   "execution_count": 77,
   "id": "8c93eec8-c9fd-45fa-9631-d18addc93b0a",
   "metadata": {
    "tags": []
   },
   "outputs": [
    {
     "data": {
      "text/plain": [
       "tensor(0.7500)"
      ]
     },
     "execution_count": 77,
     "metadata": {},
     "output_type": "execute_result"
    }
   ],
   "source": [
    "batch_acc(linear1(batch), train_y[:4])"
   ]
  },
  {
   "cell_type": "code",
   "execution_count": 78,
   "id": "8b201b09-4053-4cd1-b2c8-3da911d2d7ae",
   "metadata": {
    "tags": []
   },
   "outputs": [],
   "source": [
    "def validate_epoch(model):\n",
    "    accs = [batch_acc(model(xb), yb) for xb,yb in valid_dl]\n",
    "    return round(torch.stack(accs).mean().item(), 4)"
   ]
  },
  {
   "cell_type": "code",
   "execution_count": 79,
   "id": "72e81ac8-7767-4b55-8b4d-c0e99e782de0",
   "metadata": {
    "tags": []
   },
   "outputs": [
    {
     "data": {
      "text/plain": [
       "0.3512"
      ]
     },
     "execution_count": 79,
     "metadata": {},
     "output_type": "execute_result"
    }
   ],
   "source": [
    "validate_epoch(linear1)"
   ]
  },
  {
   "cell_type": "markdown",
   "id": "1aeeff6a-1917-4c2e-b8e1-e847f11c7f51",
   "metadata": {},
   "source": [
    "Train for one epoch"
   ]
  },
  {
   "cell_type": "code",
   "execution_count": 80,
   "id": "1d9cb7c8-d513-4f60-905b-31d66d9b8d73",
   "metadata": {
    "tags": []
   },
   "outputs": [
    {
     "data": {
      "text/plain": [
       "0.4907"
      ]
     },
     "execution_count": 80,
     "metadata": {},
     "output_type": "execute_result"
    }
   ],
   "source": [
    "lr = 1.\n",
    "params = weights,bias\n",
    "train_epoch(linear1, lr, params)\n",
    "validate_epoch(linear1)"
   ]
  },
  {
   "cell_type": "markdown",
   "id": "4a8f023c-811f-4cf6-b62b-4e1a42be6674",
   "metadata": {},
   "source": [
    "Train for 20 epochs"
   ]
  },
  {
   "cell_type": "code",
   "execution_count": 81,
   "id": "3405c81b-691f-477f-970d-00f78e749052",
   "metadata": {
    "tags": []
   },
   "outputs": [
    {
     "name": "stdout",
     "output_type": "stream",
     "text": [
      "0.4932 0.4941 0.4951 0.4996 0.5328 0.6337 0.8618 0.9277 0.9463 0.9546 0.9585 0.9619 0.9648 0.9668 0.9682 0.9697 0.9712 0.9712 0.9712 0.9726 "
     ]
    }
   ],
   "source": [
    "for i in range(20):\n",
    "    train_epoch(linear1, lr, params)\n",
    "    print(validate_epoch(linear1), end=' ')"
   ]
  },
  {
   "cell_type": "markdown",
   "id": "69b7358e-a5db-475d-932c-816cbb3a049d",
   "metadata": {
    "tags": []
   },
   "source": [
    "## Optimisers"
   ]
  },
  {
   "cell_type": "markdown",
   "id": "f87f781f-95b0-4a9c-9142-bce2887925af",
   "metadata": {},
   "source": [
    "Handles the SGD step"
   ]
  },
  {
   "cell_type": "code",
   "execution_count": 82,
   "id": "bbd0d7a0-31c0-494e-b718-eba472f2b2b4",
   "metadata": {
    "tags": []
   },
   "outputs": [],
   "source": [
    "#inbuilt into pytorch (does the same thing as init_params and linear) together\n",
    "linear_model = nn.Linear(28*28,1)"
   ]
  },
  {
   "cell_type": "code",
   "execution_count": 83,
   "id": "03bc81e2-b581-4dfa-9370-ad6c99e28da9",
   "metadata": {
    "tags": []
   },
   "outputs": [
    {
     "data": {
      "text/plain": [
       "(torch.Size([1, 784]), torch.Size([1]))"
      ]
     },
     "execution_count": 83,
     "metadata": {},
     "output_type": "execute_result"
    }
   ],
   "source": [
    "w,b = linear_model.parameters()\n",
    "w.shape, b.shape"
   ]
  },
  {
   "cell_type": "code",
   "execution_count": 84,
   "id": "1a20db45-a7a0-45e1-823e-013bd3ef5a68",
   "metadata": {
    "tags": []
   },
   "outputs": [],
   "source": [
    "class BasicOptim:\n",
    "    def __init__(self, params, lr):\n",
    "        self.params, self.lr = list(params), lr\n",
    "    def step(self, *args, **kwargs):\n",
    "        for p in self.params: p.data -= p.grad.data*self.lr\n",
    "    \n",
    "    def zero_grad(self, *args, **kwargs):\n",
    "        for p in self.params: p.data = None"
   ]
  },
  {
   "cell_type": "code",
   "execution_count": 85,
   "id": "191047f2-f282-425c-954c-15eaf2f5ccbf",
   "metadata": {
    "tags": []
   },
   "outputs": [],
   "source": [
    "opt = BasicOptim(linear_model.parameters(), lr)"
   ]
  },
  {
   "cell_type": "code",
   "execution_count": 86,
   "id": "f9882dd8-8fac-4516-a144-9ae3d9973a6e",
   "metadata": {
    "tags": []
   },
   "outputs": [],
   "source": [
    "def train_epoch(model):\n",
    "    for xb, yb in dl:\n",
    "        calc_grad(xb, yb, model)\n",
    "        opt.step()\n",
    "        opt.zero_grad()"
   ]
  },
  {
   "cell_type": "code",
   "execution_count": 87,
   "id": "4f32c9f9-c494-4b3e-86c3-a566cd7ba362",
   "metadata": {
    "tags": []
   },
   "outputs": [],
   "source": [
    "def train_model(model, epochs):\n",
    "    for i in range(epochs):\n",
    "        train_epoch(model)\n",
    "        print(validate_epoch(model), end = '')"
   ]
  },
  {
   "cell_type": "code",
   "execution_count": 91,
   "id": "4ab0d935-f3d0-4b8b-b3fa-d9cca8e5b7b9",
   "metadata": {
    "tags": []
   },
   "outputs": [],
   "source": [
    "# train_model(linear_model, 20)"
   ]
  },
  {
   "cell_type": "code",
   "execution_count": 92,
   "id": "6ef57799-c67c-4b78-8251-9e8cec811668",
   "metadata": {
    "tags": []
   },
   "outputs": [],
   "source": [
    "dls = DataLoaders(dl, valid_dl)\n",
    "learn = Learner(dls, nn.Linear(28*28,1), opt_func=SGD,\n",
    "                loss_func=mnist_loss, metrics=batch_acc)"
   ]
  },
  {
   "cell_type": "code",
   "execution_count": 93,
   "id": "4ed24595-4206-4cfa-a933-8485c3f933c3",
   "metadata": {
    "tags": []
   },
   "outputs": [
    {
     "data": {
      "text/html": [
       "\n",
       "<style>\n",
       "    /* Turns off some styling */\n",
       "    progress {\n",
       "        /* gets rid of default border in Firefox and Opera. */\n",
       "        border: none;\n",
       "        /* Needs to be in here for Safari polyfill so background images work as expected. */\n",
       "        background-size: auto;\n",
       "    }\n",
       "    progress:not([value]), progress:not([value])::-webkit-progress-bar {\n",
       "        background: repeating-linear-gradient(45deg, #7e7e7e, #7e7e7e 10px, #5c5c5c 10px, #5c5c5c 20px);\n",
       "    }\n",
       "    .progress-bar-interrupted, .progress-bar-interrupted::-webkit-progress-bar {\n",
       "        background: #F44336;\n",
       "    }\n",
       "</style>\n"
      ],
      "text/plain": [
       "<IPython.core.display.HTML object>"
      ]
     },
     "metadata": {},
     "output_type": "display_data"
    },
    {
     "data": {
      "text/html": [
       "<table border=\"1\" class=\"dataframe\">\n",
       "  <thead>\n",
       "    <tr style=\"text-align: left;\">\n",
       "      <th>epoch</th>\n",
       "      <th>train_loss</th>\n",
       "      <th>valid_loss</th>\n",
       "      <th>batch_acc</th>\n",
       "      <th>time</th>\n",
       "    </tr>\n",
       "  </thead>\n",
       "  <tbody>\n",
       "    <tr>\n",
       "      <td>0</td>\n",
       "      <td>0.636752</td>\n",
       "      <td>0.503143</td>\n",
       "      <td>0.495584</td>\n",
       "      <td>00:00</td>\n",
       "    </tr>\n",
       "    <tr>\n",
       "      <td>1</td>\n",
       "      <td>0.428643</td>\n",
       "      <td>0.249334</td>\n",
       "      <td>0.773307</td>\n",
       "      <td>00:00</td>\n",
       "    </tr>\n",
       "    <tr>\n",
       "      <td>2</td>\n",
       "      <td>0.161172</td>\n",
       "      <td>0.155130</td>\n",
       "      <td>0.862120</td>\n",
       "      <td>00:00</td>\n",
       "    </tr>\n",
       "    <tr>\n",
       "      <td>3</td>\n",
       "      <td>0.072708</td>\n",
       "      <td>0.097665</td>\n",
       "      <td>0.917076</td>\n",
       "      <td>00:00</td>\n",
       "    </tr>\n",
       "    <tr>\n",
       "      <td>4</td>\n",
       "      <td>0.039996</td>\n",
       "      <td>0.073267</td>\n",
       "      <td>0.935721</td>\n",
       "      <td>00:00</td>\n",
       "    </tr>\n",
       "    <tr>\n",
       "      <td>5</td>\n",
       "      <td>0.027143</td>\n",
       "      <td>0.059542</td>\n",
       "      <td>0.949951</td>\n",
       "      <td>00:00</td>\n",
       "    </tr>\n",
       "    <tr>\n",
       "      <td>6</td>\n",
       "      <td>0.021813</td>\n",
       "      <td>0.050842</td>\n",
       "      <td>0.958292</td>\n",
       "      <td>00:00</td>\n",
       "    </tr>\n",
       "    <tr>\n",
       "      <td>7</td>\n",
       "      <td>0.019401</td>\n",
       "      <td>0.044985</td>\n",
       "      <td>0.963199</td>\n",
       "      <td>00:00</td>\n",
       "    </tr>\n",
       "    <tr>\n",
       "      <td>8</td>\n",
       "      <td>0.018145</td>\n",
       "      <td>0.040830</td>\n",
       "      <td>0.965653</td>\n",
       "      <td>00:00</td>\n",
       "    </tr>\n",
       "    <tr>\n",
       "      <td>9</td>\n",
       "      <td>0.017365</td>\n",
       "      <td>0.037744</td>\n",
       "      <td>0.968106</td>\n",
       "      <td>00:00</td>\n",
       "    </tr>\n",
       "    <tr>\n",
       "      <td>10</td>\n",
       "      <td>0.016799</td>\n",
       "      <td>0.035358</td>\n",
       "      <td>0.970069</td>\n",
       "      <td>00:00</td>\n",
       "    </tr>\n",
       "    <tr>\n",
       "      <td>11</td>\n",
       "      <td>0.016343</td>\n",
       "      <td>0.033448</td>\n",
       "      <td>0.972522</td>\n",
       "      <td>00:00</td>\n",
       "    </tr>\n",
       "    <tr>\n",
       "      <td>12</td>\n",
       "      <td>0.015959</td>\n",
       "      <td>0.031877</td>\n",
       "      <td>0.973503</td>\n",
       "      <td>00:00</td>\n",
       "    </tr>\n",
       "    <tr>\n",
       "      <td>13</td>\n",
       "      <td>0.015629</td>\n",
       "      <td>0.030558</td>\n",
       "      <td>0.974485</td>\n",
       "      <td>00:00</td>\n",
       "    </tr>\n",
       "    <tr>\n",
       "      <td>14</td>\n",
       "      <td>0.015345</td>\n",
       "      <td>0.029436</td>\n",
       "      <td>0.975957</td>\n",
       "      <td>00:00</td>\n",
       "    </tr>\n",
       "    <tr>\n",
       "      <td>15</td>\n",
       "      <td>0.015098</td>\n",
       "      <td>0.028470</td>\n",
       "      <td>0.976448</td>\n",
       "      <td>00:00</td>\n",
       "    </tr>\n",
       "    <tr>\n",
       "      <td>16</td>\n",
       "      <td>0.014882</td>\n",
       "      <td>0.027632</td>\n",
       "      <td>0.977429</td>\n",
       "      <td>00:00</td>\n",
       "    </tr>\n",
       "    <tr>\n",
       "      <td>17</td>\n",
       "      <td>0.014691</td>\n",
       "      <td>0.026899</td>\n",
       "      <td>0.978410</td>\n",
       "      <td>00:00</td>\n",
       "    </tr>\n",
       "    <tr>\n",
       "      <td>18</td>\n",
       "      <td>0.014519</td>\n",
       "      <td>0.026253</td>\n",
       "      <td>0.978410</td>\n",
       "      <td>00:00</td>\n",
       "    </tr>\n",
       "    <tr>\n",
       "      <td>19</td>\n",
       "      <td>0.014364</td>\n",
       "      <td>0.025681</td>\n",
       "      <td>0.978901</td>\n",
       "      <td>00:00</td>\n",
       "    </tr>\n",
       "  </tbody>\n",
       "</table>"
      ],
      "text/plain": [
       "<IPython.core.display.HTML object>"
      ]
     },
     "metadata": {},
     "output_type": "display_data"
    }
   ],
   "source": [
    "learn.fit(20, lr=lr)"
   ]
  },
  {
   "cell_type": "markdown",
   "id": "94cb469b-0ac4-4d81-89e1-409882f6ed80",
   "metadata": {},
   "source": [
    "## Non-linearity"
   ]
  },
  {
   "cell_type": "markdown",
   "id": "f1d06cd9-6396-4833-be65-76ebbaf14430",
   "metadata": {},
   "source": [
    "If we add non-linearity, or a non-linear function between the two layers, this allows them to work independently of each other and do useful work."
   ]
  },
  {
   "cell_type": "code",
   "execution_count": 94,
   "id": "2492a0a5-1010-414c-b64a-d55358225b8b",
   "metadata": {
    "tags": []
   },
   "outputs": [],
   "source": [
    "w1 = init_params((28*28,30))\n",
    "b1 = init_params(30)\n",
    "w2 = init_params((30,1))\n",
    "b2 = init_params(1)"
   ]
  },
  {
   "cell_type": "code",
   "execution_count": 95,
   "id": "ed4b1597-dcbb-404c-a54a-0fb1ca731b49",
   "metadata": {
    "tags": []
   },
   "outputs": [],
   "source": [
    "def simple_net(xb):\n",
    "    res = xb@w1 + b1\n",
    "    res = res.max(tensor(0.0))\n",
    "    res = res@w2 + b2\n",
    "    return res"
   ]
  },
  {
   "cell_type": "code",
   "execution_count": 96,
   "id": "0f72377c-c982-4e2d-ae48-4974ce4b20a8",
   "metadata": {
    "tags": []
   },
   "outputs": [],
   "source": [
    "#This can be done using pytorch in only a few short lines of code\n",
    "simple_net = nn.Sequential( \n",
    "    nn.Linear(28*28, 30), \n",
    "    nn.ReLU(),\n",
    "    nn.Linear(30,1)\n",
    "    )#the second layer must have 30 input layers and one output layer"
   ]
  },
  {
   "cell_type": "markdown",
   "id": "638a487d-7aac-4023-a1d6-943662aadcb0",
   "metadata": {},
   "source": [
    "nn.Sequential creates a module that calls each of the listed layers or fuinctions in turn.\n"
   ]
  },
  {
   "cell_type": "code",
   "execution_count": 99,
   "id": "92275ac1-47aa-4956-8131-7885180e3370",
   "metadata": {
    "tags": []
   },
   "outputs": [
    {
     "data": {
      "text/html": [
       "\n",
       "<style>\n",
       "    /* Turns off some styling */\n",
       "    progress {\n",
       "        /* gets rid of default border in Firefox and Opera. */\n",
       "        border: none;\n",
       "        /* Needs to be in here for Safari polyfill so background images work as expected. */\n",
       "        background-size: auto;\n",
       "    }\n",
       "    progress:not([value]), progress:not([value])::-webkit-progress-bar {\n",
       "        background: repeating-linear-gradient(45deg, #7e7e7e, #7e7e7e 10px, #5c5c5c 10px, #5c5c5c 20px);\n",
       "    }\n",
       "    .progress-bar-interrupted, .progress-bar-interrupted::-webkit-progress-bar {\n",
       "        background: #F44336;\n",
       "    }\n",
       "</style>\n"
      ],
      "text/plain": [
       "<IPython.core.display.HTML object>"
      ]
     },
     "metadata": {},
     "output_type": "display_data"
    },
    {
     "data": {
      "text/html": [
       "<table border=\"1\" class=\"dataframe\">\n",
       "  <thead>\n",
       "    <tr style=\"text-align: left;\">\n",
       "      <th>epoch</th>\n",
       "      <th>train_loss</th>\n",
       "      <th>valid_loss</th>\n",
       "      <th>batch_acc</th>\n",
       "      <th>time</th>\n",
       "    </tr>\n",
       "  </thead>\n",
       "  <tbody>\n",
       "    <tr>\n",
       "      <td>0</td>\n",
       "      <td>0.315758</td>\n",
       "      <td>0.396935</td>\n",
       "      <td>0.511776</td>\n",
       "      <td>00:00</td>\n",
       "    </tr>\n",
       "    <tr>\n",
       "      <td>1</td>\n",
       "      <td>0.146455</td>\n",
       "      <td>0.229519</td>\n",
       "      <td>0.804220</td>\n",
       "      <td>00:00</td>\n",
       "    </tr>\n",
       "    <tr>\n",
       "      <td>2</td>\n",
       "      <td>0.081179</td>\n",
       "      <td>0.115720</td>\n",
       "      <td>0.916585</td>\n",
       "      <td>00:00</td>\n",
       "    </tr>\n",
       "    <tr>\n",
       "      <td>3</td>\n",
       "      <td>0.053299</td>\n",
       "      <td>0.078208</td>\n",
       "      <td>0.940628</td>\n",
       "      <td>00:00</td>\n",
       "    </tr>\n",
       "    <tr>\n",
       "      <td>4</td>\n",
       "      <td>0.040348</td>\n",
       "      <td>0.061204</td>\n",
       "      <td>0.955348</td>\n",
       "      <td>00:00</td>\n",
       "    </tr>\n",
       "    <tr>\n",
       "      <td>5</td>\n",
       "      <td>0.033741</td>\n",
       "      <td>0.051631</td>\n",
       "      <td>0.962709</td>\n",
       "      <td>00:00</td>\n",
       "    </tr>\n",
       "    <tr>\n",
       "      <td>6</td>\n",
       "      <td>0.029955</td>\n",
       "      <td>0.045566</td>\n",
       "      <td>0.965162</td>\n",
       "      <td>00:00</td>\n",
       "    </tr>\n",
       "    <tr>\n",
       "      <td>7</td>\n",
       "      <td>0.027500</td>\n",
       "      <td>0.041402</td>\n",
       "      <td>0.967615</td>\n",
       "      <td>00:00</td>\n",
       "    </tr>\n",
       "    <tr>\n",
       "      <td>8</td>\n",
       "      <td>0.025736</td>\n",
       "      <td>0.038362</td>\n",
       "      <td>0.969578</td>\n",
       "      <td>00:00</td>\n",
       "    </tr>\n",
       "    <tr>\n",
       "      <td>9</td>\n",
       "      <td>0.024372</td>\n",
       "      <td>0.036041</td>\n",
       "      <td>0.970559</td>\n",
       "      <td>00:00</td>\n",
       "    </tr>\n",
       "    <tr>\n",
       "      <td>10</td>\n",
       "      <td>0.023267</td>\n",
       "      <td>0.034199</td>\n",
       "      <td>0.970559</td>\n",
       "      <td>00:00</td>\n",
       "    </tr>\n",
       "    <tr>\n",
       "      <td>11</td>\n",
       "      <td>0.022346</td>\n",
       "      <td>0.032697</td>\n",
       "      <td>0.972031</td>\n",
       "      <td>00:00</td>\n",
       "    </tr>\n",
       "    <tr>\n",
       "      <td>12</td>\n",
       "      <td>0.021560</td>\n",
       "      <td>0.031438</td>\n",
       "      <td>0.973503</td>\n",
       "      <td>00:00</td>\n",
       "    </tr>\n",
       "    <tr>\n",
       "      <td>13</td>\n",
       "      <td>0.020879</td>\n",
       "      <td>0.030361</td>\n",
       "      <td>0.974975</td>\n",
       "      <td>00:00</td>\n",
       "    </tr>\n",
       "    <tr>\n",
       "      <td>14</td>\n",
       "      <td>0.020281</td>\n",
       "      <td>0.029422</td>\n",
       "      <td>0.974485</td>\n",
       "      <td>00:00</td>\n",
       "    </tr>\n",
       "    <tr>\n",
       "      <td>15</td>\n",
       "      <td>0.019751</td>\n",
       "      <td>0.028590</td>\n",
       "      <td>0.974975</td>\n",
       "      <td>00:00</td>\n",
       "    </tr>\n",
       "    <tr>\n",
       "      <td>16</td>\n",
       "      <td>0.019276</td>\n",
       "      <td>0.027848</td>\n",
       "      <td>0.976448</td>\n",
       "      <td>00:00</td>\n",
       "    </tr>\n",
       "    <tr>\n",
       "      <td>17</td>\n",
       "      <td>0.018848</td>\n",
       "      <td>0.027178</td>\n",
       "      <td>0.976448</td>\n",
       "      <td>00:00</td>\n",
       "    </tr>\n",
       "    <tr>\n",
       "      <td>18</td>\n",
       "      <td>0.018459</td>\n",
       "      <td>0.026571</td>\n",
       "      <td>0.978410</td>\n",
       "      <td>00:00</td>\n",
       "    </tr>\n",
       "    <tr>\n",
       "      <td>19</td>\n",
       "      <td>0.018103</td>\n",
       "      <td>0.026019</td>\n",
       "      <td>0.978901</td>\n",
       "      <td>00:00</td>\n",
       "    </tr>\n",
       "    <tr>\n",
       "      <td>20</td>\n",
       "      <td>0.017777</td>\n",
       "      <td>0.025513</td>\n",
       "      <td>0.979882</td>\n",
       "      <td>00:00</td>\n",
       "    </tr>\n",
       "    <tr>\n",
       "      <td>21</td>\n",
       "      <td>0.017476</td>\n",
       "      <td>0.025049</td>\n",
       "      <td>0.979882</td>\n",
       "      <td>00:00</td>\n",
       "    </tr>\n",
       "    <tr>\n",
       "      <td>22</td>\n",
       "      <td>0.017196</td>\n",
       "      <td>0.024623</td>\n",
       "      <td>0.980373</td>\n",
       "      <td>00:00</td>\n",
       "    </tr>\n",
       "    <tr>\n",
       "      <td>23</td>\n",
       "      <td>0.016934</td>\n",
       "      <td>0.024230</td>\n",
       "      <td>0.980373</td>\n",
       "      <td>00:00</td>\n",
       "    </tr>\n",
       "    <tr>\n",
       "      <td>24</td>\n",
       "      <td>0.016689</td>\n",
       "      <td>0.023867</td>\n",
       "      <td>0.980864</td>\n",
       "      <td>00:00</td>\n",
       "    </tr>\n",
       "    <tr>\n",
       "      <td>25</td>\n",
       "      <td>0.016459</td>\n",
       "      <td>0.023530</td>\n",
       "      <td>0.980864</td>\n",
       "      <td>00:00</td>\n",
       "    </tr>\n",
       "    <tr>\n",
       "      <td>26</td>\n",
       "      <td>0.016241</td>\n",
       "      <td>0.023218</td>\n",
       "      <td>0.980864</td>\n",
       "      <td>00:00</td>\n",
       "    </tr>\n",
       "    <tr>\n",
       "      <td>27</td>\n",
       "      <td>0.016036</td>\n",
       "      <td>0.022928</td>\n",
       "      <td>0.980864</td>\n",
       "      <td>00:00</td>\n",
       "    </tr>\n",
       "    <tr>\n",
       "      <td>28</td>\n",
       "      <td>0.015841</td>\n",
       "      <td>0.022658</td>\n",
       "      <td>0.980864</td>\n",
       "      <td>00:00</td>\n",
       "    </tr>\n",
       "    <tr>\n",
       "      <td>29</td>\n",
       "      <td>0.015656</td>\n",
       "      <td>0.022405</td>\n",
       "      <td>0.981354</td>\n",
       "      <td>00:00</td>\n",
       "    </tr>\n",
       "    <tr>\n",
       "      <td>30</td>\n",
       "      <td>0.015479</td>\n",
       "      <td>0.022169</td>\n",
       "      <td>0.981845</td>\n",
       "      <td>00:00</td>\n",
       "    </tr>\n",
       "    <tr>\n",
       "      <td>31</td>\n",
       "      <td>0.015310</td>\n",
       "      <td>0.021948</td>\n",
       "      <td>0.981845</td>\n",
       "      <td>00:00</td>\n",
       "    </tr>\n",
       "    <tr>\n",
       "      <td>32</td>\n",
       "      <td>0.015149</td>\n",
       "      <td>0.021740</td>\n",
       "      <td>0.981845</td>\n",
       "      <td>00:00</td>\n",
       "    </tr>\n",
       "    <tr>\n",
       "      <td>33</td>\n",
       "      <td>0.014995</td>\n",
       "      <td>0.021545</td>\n",
       "      <td>0.981845</td>\n",
       "      <td>00:00</td>\n",
       "    </tr>\n",
       "    <tr>\n",
       "      <td>34</td>\n",
       "      <td>0.014848</td>\n",
       "      <td>0.021361</td>\n",
       "      <td>0.982336</td>\n",
       "      <td>00:00</td>\n",
       "    </tr>\n",
       "    <tr>\n",
       "      <td>35</td>\n",
       "      <td>0.014706</td>\n",
       "      <td>0.021187</td>\n",
       "      <td>0.982336</td>\n",
       "      <td>00:00</td>\n",
       "    </tr>\n",
       "    <tr>\n",
       "      <td>36</td>\n",
       "      <td>0.014570</td>\n",
       "      <td>0.021022</td>\n",
       "      <td>0.982336</td>\n",
       "      <td>00:00</td>\n",
       "    </tr>\n",
       "    <tr>\n",
       "      <td>37</td>\n",
       "      <td>0.014439</td>\n",
       "      <td>0.020866</td>\n",
       "      <td>0.982336</td>\n",
       "      <td>00:00</td>\n",
       "    </tr>\n",
       "    <tr>\n",
       "      <td>38</td>\n",
       "      <td>0.014313</td>\n",
       "      <td>0.020718</td>\n",
       "      <td>0.982336</td>\n",
       "      <td>00:00</td>\n",
       "    </tr>\n",
       "    <tr>\n",
       "      <td>39</td>\n",
       "      <td>0.014191</td>\n",
       "      <td>0.020577</td>\n",
       "      <td>0.982336</td>\n",
       "      <td>00:00</td>\n",
       "    </tr>\n",
       "  </tbody>\n",
       "</table>"
      ],
      "text/plain": [
       "<IPython.core.display.HTML object>"
      ]
     },
     "metadata": {},
     "output_type": "display_data"
    }
   ],
   "source": [
    "learn = Learner(dls, simple_net, opt_func=SGD,\n",
    "                loss_func=mnist_loss, metrics=batch_acc)\n",
    "#hide_output\n",
    "learn.fit(40, 0.1)"
   ]
  },
  {
   "cell_type": "code",
   "execution_count": 100,
   "id": "1377524b-da3a-41bd-8c6d-156ef073601f",
   "metadata": {},
   "outputs": [
    {
     "data": {
      "image/png": "[encoded data removed]",
      "text/plain": [
       "<Figure size 640x480 with 1 Axes>"
      ]
     },
     "metadata": {},
     "output_type": "display_data"
    }
   ],
   "source": [
    "plt.plot(L(learn.recorder.values).itemgot(2));"
   ]
  },
  {
   "cell_type": "code",
   "execution_count": 103,
   "id": "55c3ca00-630c-4c66-a1fa-44ad189ac61a",
   "metadata": {
    "tags": []
   },
   "outputs": [
    {
     "data": {
      "text/plain": [
       "0.98233562707901"
      ]
     },
     "execution_count": 103,
     "metadata": {},
     "output_type": "execute_result"
    }
   ],
   "source": [
    "learn.recorder.values[-1][2]"
   ]
  },
  {
   "cell_type": "markdown",
   "id": "a1254e0d-1186-4246-8fea-cb96cfe8b7eb",
   "metadata": {},
   "source": [
    "1. Create a function that, if passed two arguments `[1,2,3,4]` and `'abcd'`, returns `[(1, 'a'), (2, 'b'), (3, 'c'), (4, 'd')]`. What is special about that output data structure?"
   ]
  },
  {
   "cell_type": "code",
   "execution_count": 109,
   "id": "44d75fbf-b1c8-4e61-b61d-ec1a6c1af2d4",
   "metadata": {
    "tags": []
   },
   "outputs": [
    {
     "data": {
      "text/plain": [
       "[(1, 'a'), (2, 'b'), (3, 'c'), (4, 'd')]"
      ]
     },
     "execution_count": 109,
     "metadata": {},
     "output_type": "execute_result"
    }
   ],
   "source": [
    "x = [1,2,3,4]\n",
    "y = 'abcd'\n",
    "l = list(zip(x,y))\n",
    "l"
   ]
  },
  {
   "cell_type": "markdown",
   "id": "c5ef90d4-6298-4ca5-bbba-92b7a0dcd36d",
   "metadata": {},
   "source": [
    "## Answers to questions"
   ]
  },
  {
   "cell_type": "code",
   "execution_count": null,
   "id": "b3a1b082-35c3-485d-9a71-949b2e62cca7",
   "metadata": {},
   "outputs": [],
   "source": []
  },
  {
   "cell_type": "markdown",
   "id": "345e3abf-1a72-42ba-bdf1-3d1fb68a1567",
   "metadata": {},
   "source": [
    "1. How is a grayscale image represented on a computer? How about a color image?\n",
    "- Represented as [0,256] indicating the \"darkness\" of a pixel?  Value of 0 represents white and 255 black.\n",
    "- Colour images are three-tuples of RGB values\n"
   ]
  },
  {
   "cell_type": "markdown",
   "id": "0e6eba3a-46bd-4d56-84a1-e3a83802ac7e",
   "metadata": {},
   "source": [
    "2. How are the files and folders in the `MNIST_SAMPLE` dataset structured? Why?\n",
    "\n",
    "- They are stored in train and validation folders, divided into image files for each number. This is because data is often divided into train and validation datasets anyways for use in ML\n",
    "\n"
   ]
  },
  {
   "cell_type": "markdown",
   "id": "8aa390cd-7b72-4979-9375-0ae3c0accc22",
   "metadata": {},
   "source": [
    "3. Explain how the \"pixel similarity\" approach to classifying digits works.\n",
    "\n",
    "- Calculate the \"mean\" pixel, and determine which of the mean numbers the image is closest to\n",
    "\n",
    "4. What is a list comprehension? Create one now that selects odd numbers from a list and doubles them.\n",
    "\n",
    "- Loops through items in list for some condition and applies a func to them?\n",
    "\n",
    "[2*x for x in numbers if x % 2 == 1]\n",
    "\n",
    "5. What is a \"rank-3 tensor\"?\n",
    "\n",
    "- A tensor with 3 dimensions. (list of matrices)\n",
    "\n",
    "6. What is the difference between tensor rank and shape? How do you get the rank from the shape?\n",
    "\n",
    "- Rank is the number of dimensions or axes, and shape is the size of dimensions. The number of entries or length of shape is the rank\n",
    "\n",
    "7. What are RMSE and L1 norm?\n",
    "\n",
    "- RMSE is the root mean squared error\n",
    "- L1 norm is the absolute mean error\n",
    "\n",
    "\n",
    "8. How can you apply a calculation on thousands of numbers at once, many thousands of times faster than a Python loop?\n",
    "\n",
    "- USE matrix multiplication?\n"
   ]
  },
  {
   "cell_type": "markdown",
   "id": "a4228718-dad3-44a3-b969-40e26fb8bbfb",
   "metadata": {},
   "source": [
    "9. Create a 3×3 tensor or array containing the numbers from 1 to 9. Double it. Select the bottom-right four numbers.\n",
    "\n",
    "```python\n",
    "t = tensor(range(1,10)).reshape(3,3)\n",
    "t = 2*t\n",
    "t\n",
    "\n",
    "select = t[1:4,1:4]\n",
    "select\n",
    "```\n",
    "\n",
    "\n",
    "10. What is broadcasting?\n",
    "\n",
    "- Where PyTorch automatically fills in the missing values to ensure that matrix multiplication ? and addition make sense\n",
    "\n",
    "11. Are metrics generally calculated using the training set, or the validation set? Why?\n",
    "\n",
    "- Generally the validation set to prevent overfitting\n",
    "\n",
    "12. What is SGD?\n",
    "\n",
    "- Essentially, changing the gradient of the weights a little bit to improve the loss function\n",
    "\n",
    "13. Why does SGD use mini-batches?\n",
    "- speeds up processing\n",
    "\n",
    "14. What are the seven steps in SGD for machine learning?\n",
    "\n",
    "- Initialise the weights\n",
    "- Make prediction using weights\n",
    "- Calculate loss of prediction\n",
    "- calculate gradients for weights\n",
    "- step weights\n",
    "- return to step 2 and repeat\n",
    "- iterate until you want to stop training\n",
    "\n",
    "15. How do we initialize the weights in a model?\n",
    "- randomly\n",
    "16. What is \"loss\"?\n",
    "- diff between predicted and actual\n",
    "17. Why can't we always use a high learning rate?\n",
    "- stuck or slow\n",
    "18. What is a \"gradient\"?\n",
    "19. Do you need to know how to calculate gradients yourself?\n",
    "- no\n",
    "20. Why can't we use accuracy as a loss function?\n",
    "- Not smooth\n",
    "\n",
    "21. Draw the sigmoid function. What is special about its shape?\n",
    "22. What is the difference between a loss function and a metric?\n",
    "- loss func needs to be smooth, metrics can be not smooth\n",
    "\n",
    "23. What is the function to calculate new weights using a learning rate?\n",
    "- params.data -= params*lr\n",
    "\n",
    "24. What does the `DataLoader` class do?\n",
    "- Turns a python collection into a list of batches to iterate over\n",
    "\n",
    "25. Write pseudocode showing the basic steps taken in each epoch for SGD.\n",
    "\n",
    "```def train_epoch(model, params, lr):\n",
    "        for xb,yb in dl:\n",
    "            calc_grad(xb, yb, model):\n",
    "            for p in params:\n",
    "                p.data -= p.grad*lr\n",
    "                p.grad.zero_()\n",
    "    for i in range(20):\n",
    "        train_epoch(model, lr, params)\n",
    "```\n",
    "\n",
    "26. Create a function that, if passed two arguments `[1,2,3,4]` and `'abcd'`, returns `[(1, 'a'), (2, 'b'), (3, 'c'), (4, 'd')]`. What is special about that output data structure?\n",
    "\n",
    "- It is a tuple that contains the inputs and outputs zipped\n",
    "\n",
    "27. What does `view` do in PyTorch?\n",
    "\n",
    "- can change the shape of a tensor without changing the contents (similar to reshape)\n",
    "\n",
    "28. What are the \"bias\" parameters in a neural network? Why do we need them?\n",
    "\n",
    "- prevents 0 weights \n",
    "29. What does the `@` operator do in Python?\n",
    "\n",
    "- matrix multiplication\n",
    "30. What does the `backward` method do?\n",
    "- tells them to make a backwards pass, e.g. calculate gradients for weights\n",
    "31. Why do we have to zero the gradients?\n",
    "- .backward will add the current gradients to memory?\n",
    "\n",
    "32. What information do we have to pass to `Learner`?\n",
    "\n",
    "- data, model, optimisation, loss, metric\n",
    "\n",
    "33. Show Python or pseudocode for the basic steps of a training loop.\n",
    "\n",
    "- Init random variables\n",
    "- preds = model (var)\n",
    "- loss = loss_func(var)\n",
    "- loss.backward\n",
    "\n",
    "\n",
    "\n",
    "1. What is \"ReLU\"? Draw a plot of it for values from `-2` to `+2`.\n",
    "1. What is an \"activation function\"?\n",
    "1. What's the difference between `F.relu` and `nn.ReLU`?\n",
    "1. The universal approximation theorem shows that any function can be approximated as closely as needed using just one nonlinearity. So why do we normally use more?"
   ]
  }
 ],
 "metadata": {
  "kernelspec": {
   "display_name": "Python 3 (ipykernel)",
   "language": "python",
   "name": "python3"
  },
  "language_info": {
   "codemirror_mode": {
    "name": "ipython",
    "version": 3
   },
   "file_extension": ".py",
   "mimetype": "text/x-python",
   "name": "python",
   "nbconvert_exporter": "python",
   "pygments_lexer": "ipython3",
   "version": "3.10.10"
  }
 },
 "nbformat": 4,
 "nbformat_minor": 5
}
