{
 "cells": [
  {
   "cell_type": "markdown",
   "id": "6ff7dd29-f8d7-4b85-88cf-679db0a54581",
   "metadata": {},
   "source": [
    "## Creating a classifier that can distinguish between 3s and 7s"
   ]
  },
  {
   "cell_type": "markdown",
   "id": "76e27ade-b06e-49e3-8fd7-e96d934f6531",
   "metadata": {},
   "source": [
    "Skills covered in these notes:\n",
    "- PIL and working with tensors"
   ]
  },
  {
   "cell_type": "markdown",
   "id": "1e2536dc-d48a-42b2-80bc-bd780d327a63",
   "metadata": {
    "jp-MarkdownHeadingCollapsed": true,
    "tags": []
   },
   "source": [
    "## Creating Tensors from MNIST Data"
   ]
  },
  {
   "cell_type": "code",
   "execution_count": 1,
   "id": "e69c3d4e-0954-43b6-863b-79dee4e464f4",
   "metadata": {
    "tags": []
   },
   "outputs": [],
   "source": [
    "import fastbook\n",
    "from fastai.vision.all import *\n",
    "from fastbook import *\n",
    "\n",
    "matplotlib.rc('image', cmap='Greys')"
   ]
  },
  {
   "cell_type": "code",
   "execution_count": 2,
   "id": "1d574e76-b00b-4718-99b6-594a6d203cc4",
   "metadata": {
    "tags": []
   },
   "outputs": [],
   "source": [
    "path = untar_data(URLs.MNIST_SAMPLE)"
   ]
  },
  {
   "cell_type": "code",
   "execution_count": 3,
   "id": "3d2d3c6f-3a7e-4e06-9089-b1921ee96a03",
   "metadata": {
    "tags": []
   },
   "outputs": [],
   "source": [
    "Path.BASE_PATH = path"
   ]
  },
  {
   "cell_type": "markdown",
   "id": "b292e707-b74e-424c-b813-70a81bae8dd6",
   "metadata": {},
   "source": [
    "Ideas for recognising 3s and 7s\n",
    "1. Recognising linear and curved strokes and how they mesh together\n",
    "\n",
    "Identifying a basline - comparing to the average 3 and the average 7\n",
    "- find a simple, easy to implement model to see if your approach is any good"
   ]
  },
  {
   "cell_type": "code",
   "execution_count": 4,
   "id": "5286c42a-cfc6-4a5e-bba4-d885a7ccc174",
   "metadata": {
    "tags": []
   },
   "outputs": [
    {
     "data": {
      "text/plain": [
       "(#3) [Path('valid'),Path('train'),Path('labels.csv')]"
      ]
     },
     "execution_count": 4,
     "metadata": {},
     "output_type": "execute_result"
    }
   ],
   "source": [
    "path.ls()"
   ]
  },
  {
   "cell_type": "code",
   "execution_count": 5,
   "id": "ced74dbe-aa11-437f-9154-f57993b3bd17",
   "metadata": {
    "tags": []
   },
   "outputs": [
    {
     "data": {
      "text/plain": [
       "(#2) [Path('train/3'),Path('train/7')]"
      ]
     },
     "execution_count": 5,
     "metadata": {},
     "output_type": "execute_result"
    }
   ],
   "source": [
    "(path/'train').ls()"
   ]
  },
  {
   "cell_type": "code",
   "execution_count": 6,
   "id": "77e5e7ca-6080-449f-9416-38b97bb8c82a",
   "metadata": {},
   "outputs": [],
   "source": [
    "threes = (path/'train'/'3').ls().sorted()\n",
    "sevens = (path/'train'/'7').ls().sorted()"
   ]
  },
  {
   "cell_type": "code",
   "execution_count": 7,
   "id": "51042c49-8819-4e13-ac32-516ae397baab",
   "metadata": {
    "tags": []
   },
   "outputs": [
    {
     "data": {
      "image/png": "[encoded data removed]",
      "text/plain": [
       "<PIL.PngImagePlugin.PngImageFile image mode=L size=28x28>"
      ]
     },
     "execution_count": 7,
     "metadata": {},
     "output_type": "execute_result"
    }
   ],
   "source": [
    "im3_path = threes[1]\n",
    "im3 = Image.open(im3_path)\n",
    "im3"
   ]
  },
  {
   "cell_type": "code",
   "execution_count": 8,
   "id": "9e890001-628c-4c05-8640-78d0d9a39d3b",
   "metadata": {
    "tags": []
   },
   "outputs": [
    {
     "data": {
      "text/plain": [
       "array([[  0,   0,   0,   0,   0,   0],\n",
       "       [  0,   0,   0,   0,   0,  29],\n",
       "       [  0,   0,   0,  48, 166, 224],\n",
       "       [  0,  93, 244, 249, 253, 187],\n",
       "       [  0, 107, 253, 253, 230,  48],\n",
       "       [  0,   3,  20,  20,  15,   0]], dtype=uint8)"
      ]
     },
     "execution_count": 8,
     "metadata": {},
     "output_type": "execute_result"
    }
   ],
   "source": [
    "array(im3)[4:10,4:10]"
   ]
  },
  {
   "cell_type": "code",
   "execution_count": 9,
   "id": "2c6eb099-5f7c-4afd-a608-d6a129029882",
   "metadata": {
    "tags": []
   },
   "outputs": [
    {
     "data": {
      "text/plain": [
       "tensor([[  0,   0,   0,   0,   0,   0],\n",
       "        [  0,   0,   0,   0,   0,  29],\n",
       "        [  0,   0,   0,  48, 166, 224],\n",
       "        [  0,  93, 244, 249, 253, 187],\n",
       "        [  0, 107, 253, 253, 230,  48],\n",
       "        [  0,   3,  20,  20,  15,   0]], dtype=torch.uint8)"
      ]
     },
     "execution_count": 9,
     "metadata": {},
     "output_type": "execute_result"
    }
   ],
   "source": [
    "tensor(im3)[4:10,4:10]"
   ]
  },
  {
   "cell_type": "code",
   "execution_count": 10,
   "id": "a0a02ee1-596a-4de2-b45e-f98c885c2c05",
   "metadata": {
    "tags": []
   },
   "outputs": [
    {
     "data": {
      "text/html": [
       "<style type=\"text/css\">\n",
       "#T_71301_row0_col0, #T_71301_row0_col1, #T_71301_row0_col2, #T_71301_row0_col3, #T_71301_row0_col4, #T_71301_row0_col5, #T_71301_row0_col6, #T_71301_row0_col7, #T_71301_row0_col8, #T_71301_row0_col9, #T_71301_row0_col10, #T_71301_row0_col11, #T_71301_row0_col12, #T_71301_row0_col13, #T_71301_row0_col14, #T_71301_row0_col15, #T_71301_row0_col16, #T_71301_row0_col17, #T_71301_row1_col0, #T_71301_row1_col1, #T_71301_row1_col2, #T_71301_row1_col3, #T_71301_row1_col4, #T_71301_row1_col15, #T_71301_row1_col16, #T_71301_row1_col17, #T_71301_row2_col0, #T_71301_row2_col1, #T_71301_row2_col2, #T_71301_row2_col15, #T_71301_row2_col16, #T_71301_row2_col17, #T_71301_row3_col0, #T_71301_row3_col15, #T_71301_row3_col16, #T_71301_row3_col17, #T_71301_row4_col0, #T_71301_row4_col6, #T_71301_row4_col7, #T_71301_row4_col8, #T_71301_row4_col9, #T_71301_row4_col10, #T_71301_row4_col15, #T_71301_row4_col16, #T_71301_row4_col17, #T_71301_row5_col0, #T_71301_row5_col5, #T_71301_row5_col6, #T_71301_row5_col7, #T_71301_row5_col8, #T_71301_row5_col9, #T_71301_row5_col15, #T_71301_row5_col16, #T_71301_row5_col17, #T_71301_row6_col0, #T_71301_row6_col1, #T_71301_row6_col2, #T_71301_row6_col3, #T_71301_row6_col4, #T_71301_row6_col5, #T_71301_row6_col6, #T_71301_row6_col7, #T_71301_row6_col8, #T_71301_row6_col9, #T_71301_row6_col14, #T_71301_row6_col15, #T_71301_row6_col16, #T_71301_row6_col17, #T_71301_row7_col0, #T_71301_row7_col1, #T_71301_row7_col2, #T_71301_row7_col3, #T_71301_row7_col4, #T_71301_row7_col5, #T_71301_row7_col6, #T_71301_row7_col13, #T_71301_row7_col14, #T_71301_row7_col15, #T_71301_row7_col16, #T_71301_row7_col17, #T_71301_row8_col0, #T_71301_row8_col1, #T_71301_row8_col2, #T_71301_row8_col3, #T_71301_row8_col4, #T_71301_row8_col13, #T_71301_row8_col14, #T_71301_row8_col15, #T_71301_row8_col16, #T_71301_row8_col17, #T_71301_row9_col0, #T_71301_row9_col1, #T_71301_row9_col2, #T_71301_row9_col3, #T_71301_row9_col4, #T_71301_row9_col16, #T_71301_row9_col17, #T_71301_row10_col0, #T_71301_row10_col1, #T_71301_row10_col2, #T_71301_row10_col3, #T_71301_row10_col4, #T_71301_row10_col5, #T_71301_row10_col6, #T_71301_row10_col17 {\n",
       "  font-size: 6pt;\n",
       "  background-color: #ffffff;\n",
       "  color: #000000;\n",
       "}\n",
       "#T_71301_row1_col5 {\n",
       "  font-size: 6pt;\n",
       "  background-color: #efefef;\n",
       "  color: #000000;\n",
       "}\n",
       "#T_71301_row1_col6, #T_71301_row1_col13 {\n",
       "  font-size: 6pt;\n",
       "  background-color: #7c7c7c;\n",
       "  color: #f1f1f1;\n",
       "}\n",
       "#T_71301_row1_col7 {\n",
       "  font-size: 6pt;\n",
       "  background-color: #4a4a4a;\n",
       "  color: #f1f1f1;\n",
       "}\n",
       "#T_71301_row1_col8, #T_71301_row1_col9, #T_71301_row1_col10, #T_71301_row2_col5, #T_71301_row2_col6, #T_71301_row2_col7, #T_71301_row2_col11, #T_71301_row2_col12, #T_71301_row2_col13, #T_71301_row3_col4, #T_71301_row3_col12, #T_71301_row3_col13, #T_71301_row4_col1, #T_71301_row4_col2, #T_71301_row4_col3, #T_71301_row4_col12, #T_71301_row4_col13, #T_71301_row5_col12, #T_71301_row6_col11, #T_71301_row9_col11, #T_71301_row10_col11, #T_71301_row10_col12, #T_71301_row10_col13, #T_71301_row10_col14, #T_71301_row10_col15, #T_71301_row10_col16 {\n",
       "  font-size: 6pt;\n",
       "  background-color: #000000;\n",
       "  color: #f1f1f1;\n",
       "}\n",
       "#T_71301_row1_col11 {\n",
       "  font-size: 6pt;\n",
       "  background-color: #606060;\n",
       "  color: #f1f1f1;\n",
       "}\n",
       "#T_71301_row1_col12 {\n",
       "  font-size: 6pt;\n",
       "  background-color: #4d4d4d;\n",
       "  color: #f1f1f1;\n",
       "}\n",
       "#T_71301_row1_col14 {\n",
       "  font-size: 6pt;\n",
       "  background-color: #bbbbbb;\n",
       "  color: #000000;\n",
       "}\n",
       "#T_71301_row2_col3 {\n",
       "  font-size: 6pt;\n",
       "  background-color: #e4e4e4;\n",
       "  color: #000000;\n",
       "}\n",
       "#T_71301_row2_col4, #T_71301_row8_col6 {\n",
       "  font-size: 6pt;\n",
       "  background-color: #6b6b6b;\n",
       "  color: #f1f1f1;\n",
       "}\n",
       "#T_71301_row2_col8, #T_71301_row2_col14, #T_71301_row3_col14 {\n",
       "  font-size: 6pt;\n",
       "  background-color: #171717;\n",
       "  color: #f1f1f1;\n",
       "}\n",
       "#T_71301_row2_col9, #T_71301_row3_col11 {\n",
       "  font-size: 6pt;\n",
       "  background-color: #4b4b4b;\n",
       "  color: #f1f1f1;\n",
       "}\n",
       "#T_71301_row2_col10, #T_71301_row7_col10, #T_71301_row8_col8, #T_71301_row8_col10, #T_71301_row9_col8, #T_71301_row9_col10 {\n",
       "  font-size: 6pt;\n",
       "  background-color: #010101;\n",
       "  color: #f1f1f1;\n",
       "}\n",
       "#T_71301_row3_col1 {\n",
       "  font-size: 6pt;\n",
       "  background-color: #272727;\n",
       "  color: #f1f1f1;\n",
       "}\n",
       "#T_71301_row3_col2 {\n",
       "  font-size: 6pt;\n",
       "  background-color: #0a0a0a;\n",
       "  color: #f1f1f1;\n",
       "}\n",
       "#T_71301_row3_col3 {\n",
       "  font-size: 6pt;\n",
       "  background-color: #050505;\n",
       "  color: #f1f1f1;\n",
       "}\n",
       "#T_71301_row3_col5 {\n",
       "  font-size: 6pt;\n",
       "  background-color: #333333;\n",
       "  color: #f1f1f1;\n",
       "}\n",
       "#T_71301_row3_col6 {\n",
       "  font-size: 6pt;\n",
       "  background-color: #e6e6e6;\n",
       "  color: #000000;\n",
       "}\n",
       "#T_71301_row3_col7, #T_71301_row3_col10 {\n",
       "  font-size: 6pt;\n",
       "  background-color: #fafafa;\n",
       "  color: #000000;\n",
       "}\n",
       "#T_71301_row3_col8 {\n",
       "  font-size: 6pt;\n",
       "  background-color: #fbfbfb;\n",
       "  color: #000000;\n",
       "}\n",
       "#T_71301_row3_col9 {\n",
       "  font-size: 6pt;\n",
       "  background-color: #fdfdfd;\n",
       "  color: #000000;\n",
       "}\n",
       "#T_71301_row4_col4 {\n",
       "  font-size: 6pt;\n",
       "  background-color: #1b1b1b;\n",
       "  color: #f1f1f1;\n",
       "}\n",
       "#T_71301_row4_col5 {\n",
       "  font-size: 6pt;\n",
       "  background-color: #e0e0e0;\n",
       "  color: #000000;\n",
       "}\n",
       "#T_71301_row4_col11 {\n",
       "  font-size: 6pt;\n",
       "  background-color: #4e4e4e;\n",
       "  color: #f1f1f1;\n",
       "}\n",
       "#T_71301_row4_col14 {\n",
       "  font-size: 6pt;\n",
       "  background-color: #767676;\n",
       "  color: #f1f1f1;\n",
       "}\n",
       "#T_71301_row5_col1 {\n",
       "  font-size: 6pt;\n",
       "  background-color: #fcfcfc;\n",
       "  color: #000000;\n",
       "}\n",
       "#T_71301_row5_col2, #T_71301_row5_col3 {\n",
       "  font-size: 6pt;\n",
       "  background-color: #f6f6f6;\n",
       "  color: #000000;\n",
       "}\n",
       "#T_71301_row5_col4, #T_71301_row7_col7 {\n",
       "  font-size: 6pt;\n",
       "  background-color: #f8f8f8;\n",
       "  color: #000000;\n",
       "}\n",
       "#T_71301_row5_col10, #T_71301_row10_col7 {\n",
       "  font-size: 6pt;\n",
       "  background-color: #e8e8e8;\n",
       "  color: #000000;\n",
       "}\n",
       "#T_71301_row5_col11 {\n",
       "  font-size: 6pt;\n",
       "  background-color: #222222;\n",
       "  color: #f1f1f1;\n",
       "}\n",
       "#T_71301_row5_col13, #T_71301_row6_col12 {\n",
       "  font-size: 6pt;\n",
       "  background-color: #090909;\n",
       "  color: #f1f1f1;\n",
       "}\n",
       "#T_71301_row5_col14 {\n",
       "  font-size: 6pt;\n",
       "  background-color: #d0d0d0;\n",
       "  color: #000000;\n",
       "}\n",
       "#T_71301_row6_col10, #T_71301_row7_col11, #T_71301_row9_col6 {\n",
       "  font-size: 6pt;\n",
       "  background-color: #060606;\n",
       "  color: #f1f1f1;\n",
       "}\n",
       "#T_71301_row6_col13 {\n",
       "  font-size: 6pt;\n",
       "  background-color: #979797;\n",
       "  color: #f1f1f1;\n",
       "}\n",
       "#T_71301_row7_col8 {\n",
       "  font-size: 6pt;\n",
       "  background-color: #b6b6b6;\n",
       "  color: #000000;\n",
       "}\n",
       "#T_71301_row7_col9 {\n",
       "  font-size: 6pt;\n",
       "  background-color: #252525;\n",
       "  color: #f1f1f1;\n",
       "}\n",
       "#T_71301_row7_col12 {\n",
       "  font-size: 6pt;\n",
       "  background-color: #999999;\n",
       "  color: #f1f1f1;\n",
       "}\n",
       "#T_71301_row8_col5 {\n",
       "  font-size: 6pt;\n",
       "  background-color: #f9f9f9;\n",
       "  color: #000000;\n",
       "}\n",
       "#T_71301_row8_col7 {\n",
       "  font-size: 6pt;\n",
       "  background-color: #101010;\n",
       "  color: #f1f1f1;\n",
       "}\n",
       "#T_71301_row8_col9, #T_71301_row9_col9 {\n",
       "  font-size: 6pt;\n",
       "  background-color: #020202;\n",
       "  color: #f1f1f1;\n",
       "}\n",
       "#T_71301_row8_col11 {\n",
       "  font-size: 6pt;\n",
       "  background-color: #545454;\n",
       "  color: #f1f1f1;\n",
       "}\n",
       "#T_71301_row8_col12 {\n",
       "  font-size: 6pt;\n",
       "  background-color: #f1f1f1;\n",
       "  color: #000000;\n",
       "}\n",
       "#T_71301_row9_col5 {\n",
       "  font-size: 6pt;\n",
       "  background-color: #f7f7f7;\n",
       "  color: #000000;\n",
       "}\n",
       "#T_71301_row9_col7 {\n",
       "  font-size: 6pt;\n",
       "  background-color: #030303;\n",
       "  color: #f1f1f1;\n",
       "}\n",
       "#T_71301_row9_col12 {\n",
       "  font-size: 6pt;\n",
       "  background-color: #181818;\n",
       "  color: #f1f1f1;\n",
       "}\n",
       "#T_71301_row9_col13 {\n",
       "  font-size: 6pt;\n",
       "  background-color: #303030;\n",
       "  color: #f1f1f1;\n",
       "}\n",
       "#T_71301_row9_col14 {\n",
       "  font-size: 6pt;\n",
       "  background-color: #a9a9a9;\n",
       "  color: #f1f1f1;\n",
       "}\n",
       "#T_71301_row9_col15 {\n",
       "  font-size: 6pt;\n",
       "  background-color: #fefefe;\n",
       "  color: #000000;\n",
       "}\n",
       "#T_71301_row10_col8, #T_71301_row10_col9 {\n",
       "  font-size: 6pt;\n",
       "  background-color: #bababa;\n",
       "  color: #000000;\n",
       "}\n",
       "#T_71301_row10_col10 {\n",
       "  font-size: 6pt;\n",
       "  background-color: #393939;\n",
       "  color: #f1f1f1;\n",
       "}\n",
       "</style>\n",
       "<table id=\"T_71301\">\n",
       "  <thead>\n",
       "    <tr>\n",
       "      <th class=\"blank level0\" >&nbsp;</th>\n",
       "      <th id=\"T_71301_level0_col0\" class=\"col_heading level0 col0\" >0</th>\n",
       "      <th id=\"T_71301_level0_col1\" class=\"col_heading level0 col1\" >1</th>\n",
       "      <th id=\"T_71301_level0_col2\" class=\"col_heading level0 col2\" >2</th>\n",
       "      <th id=\"T_71301_level0_col3\" class=\"col_heading level0 col3\" >3</th>\n",
       "      <th id=\"T_71301_level0_col4\" class=\"col_heading level0 col4\" >4</th>\n",
       "      <th id=\"T_71301_level0_col5\" class=\"col_heading level0 col5\" >5</th>\n",
       "      <th id=\"T_71301_level0_col6\" class=\"col_heading level0 col6\" >6</th>\n",
       "      <th id=\"T_71301_level0_col7\" class=\"col_heading level0 col7\" >7</th>\n",
       "      <th id=\"T_71301_level0_col8\" class=\"col_heading level0 col8\" >8</th>\n",
       "      <th id=\"T_71301_level0_col9\" class=\"col_heading level0 col9\" >9</th>\n",
       "      <th id=\"T_71301_level0_col10\" class=\"col_heading level0 col10\" >10</th>\n",
       "      <th id=\"T_71301_level0_col11\" class=\"col_heading level0 col11\" >11</th>\n",
       "      <th id=\"T_71301_level0_col12\" class=\"col_heading level0 col12\" >12</th>\n",
       "      <th id=\"T_71301_level0_col13\" class=\"col_heading level0 col13\" >13</th>\n",
       "      <th id=\"T_71301_level0_col14\" class=\"col_heading level0 col14\" >14</th>\n",
       "      <th id=\"T_71301_level0_col15\" class=\"col_heading level0 col15\" >15</th>\n",
       "      <th id=\"T_71301_level0_col16\" class=\"col_heading level0 col16\" >16</th>\n",
       "      <th id=\"T_71301_level0_col17\" class=\"col_heading level0 col17\" >17</th>\n",
       "    </tr>\n",
       "  </thead>\n",
       "  <tbody>\n",
       "    <tr>\n",
       "      <th id=\"T_71301_level0_row0\" class=\"row_heading level0 row0\" >0</th>\n",
       "      <td id=\"T_71301_row0_col0\" class=\"data row0 col0\" >0</td>\n",
       "      <td id=\"T_71301_row0_col1\" class=\"data row0 col1\" >0</td>\n",
       "      <td id=\"T_71301_row0_col2\" class=\"data row0 col2\" >0</td>\n",
       "      <td id=\"T_71301_row0_col3\" class=\"data row0 col3\" >0</td>\n",
       "      <td id=\"T_71301_row0_col4\" class=\"data row0 col4\" >0</td>\n",
       "      <td id=\"T_71301_row0_col5\" class=\"data row0 col5\" >0</td>\n",
       "      <td id=\"T_71301_row0_col6\" class=\"data row0 col6\" >0</td>\n",
       "      <td id=\"T_71301_row0_col7\" class=\"data row0 col7\" >0</td>\n",
       "      <td id=\"T_71301_row0_col8\" class=\"data row0 col8\" >0</td>\n",
       "      <td id=\"T_71301_row0_col9\" class=\"data row0 col9\" >0</td>\n",
       "      <td id=\"T_71301_row0_col10\" class=\"data row0 col10\" >0</td>\n",
       "      <td id=\"T_71301_row0_col11\" class=\"data row0 col11\" >0</td>\n",
       "      <td id=\"T_71301_row0_col12\" class=\"data row0 col12\" >0</td>\n",
       "      <td id=\"T_71301_row0_col13\" class=\"data row0 col13\" >0</td>\n",
       "      <td id=\"T_71301_row0_col14\" class=\"data row0 col14\" >0</td>\n",
       "      <td id=\"T_71301_row0_col15\" class=\"data row0 col15\" >0</td>\n",
       "      <td id=\"T_71301_row0_col16\" class=\"data row0 col16\" >0</td>\n",
       "      <td id=\"T_71301_row0_col17\" class=\"data row0 col17\" >0</td>\n",
       "    </tr>\n",
       "    <tr>\n",
       "      <th id=\"T_71301_level0_row1\" class=\"row_heading level0 row1\" >1</th>\n",
       "      <td id=\"T_71301_row1_col0\" class=\"data row1 col0\" >0</td>\n",
       "      <td id=\"T_71301_row1_col1\" class=\"data row1 col1\" >0</td>\n",
       "      <td id=\"T_71301_row1_col2\" class=\"data row1 col2\" >0</td>\n",
       "      <td id=\"T_71301_row1_col3\" class=\"data row1 col3\" >0</td>\n",
       "      <td id=\"T_71301_row1_col4\" class=\"data row1 col4\" >0</td>\n",
       "      <td id=\"T_71301_row1_col5\" class=\"data row1 col5\" >29</td>\n",
       "      <td id=\"T_71301_row1_col6\" class=\"data row1 col6\" >150</td>\n",
       "      <td id=\"T_71301_row1_col7\" class=\"data row1 col7\" >195</td>\n",
       "      <td id=\"T_71301_row1_col8\" class=\"data row1 col8\" >254</td>\n",
       "      <td id=\"T_71301_row1_col9\" class=\"data row1 col9\" >255</td>\n",
       "      <td id=\"T_71301_row1_col10\" class=\"data row1 col10\" >254</td>\n",
       "      <td id=\"T_71301_row1_col11\" class=\"data row1 col11\" >176</td>\n",
       "      <td id=\"T_71301_row1_col12\" class=\"data row1 col12\" >193</td>\n",
       "      <td id=\"T_71301_row1_col13\" class=\"data row1 col13\" >150</td>\n",
       "      <td id=\"T_71301_row1_col14\" class=\"data row1 col14\" >96</td>\n",
       "      <td id=\"T_71301_row1_col15\" class=\"data row1 col15\" >0</td>\n",
       "      <td id=\"T_71301_row1_col16\" class=\"data row1 col16\" >0</td>\n",
       "      <td id=\"T_71301_row1_col17\" class=\"data row1 col17\" >0</td>\n",
       "    </tr>\n",
       "    <tr>\n",
       "      <th id=\"T_71301_level0_row2\" class=\"row_heading level0 row2\" >2</th>\n",
       "      <td id=\"T_71301_row2_col0\" class=\"data row2 col0\" >0</td>\n",
       "      <td id=\"T_71301_row2_col1\" class=\"data row2 col1\" >0</td>\n",
       "      <td id=\"T_71301_row2_col2\" class=\"data row2 col2\" >0</td>\n",
       "      <td id=\"T_71301_row2_col3\" class=\"data row2 col3\" >48</td>\n",
       "      <td id=\"T_71301_row2_col4\" class=\"data row2 col4\" >166</td>\n",
       "      <td id=\"T_71301_row2_col5\" class=\"data row2 col5\" >224</td>\n",
       "      <td id=\"T_71301_row2_col6\" class=\"data row2 col6\" >253</td>\n",
       "      <td id=\"T_71301_row2_col7\" class=\"data row2 col7\" >253</td>\n",
       "      <td id=\"T_71301_row2_col8\" class=\"data row2 col8\" >234</td>\n",
       "      <td id=\"T_71301_row2_col9\" class=\"data row2 col9\" >196</td>\n",
       "      <td id=\"T_71301_row2_col10\" class=\"data row2 col10\" >253</td>\n",
       "      <td id=\"T_71301_row2_col11\" class=\"data row2 col11\" >253</td>\n",
       "      <td id=\"T_71301_row2_col12\" class=\"data row2 col12\" >253</td>\n",
       "      <td id=\"T_71301_row2_col13\" class=\"data row2 col13\" >253</td>\n",
       "      <td id=\"T_71301_row2_col14\" class=\"data row2 col14\" >233</td>\n",
       "      <td id=\"T_71301_row2_col15\" class=\"data row2 col15\" >0</td>\n",
       "      <td id=\"T_71301_row2_col16\" class=\"data row2 col16\" >0</td>\n",
       "      <td id=\"T_71301_row2_col17\" class=\"data row2 col17\" >0</td>\n",
       "    </tr>\n",
       "    <tr>\n",
       "      <th id=\"T_71301_level0_row3\" class=\"row_heading level0 row3\" >3</th>\n",
       "      <td id=\"T_71301_row3_col0\" class=\"data row3 col0\" >0</td>\n",
       "      <td id=\"T_71301_row3_col1\" class=\"data row3 col1\" >93</td>\n",
       "      <td id=\"T_71301_row3_col2\" class=\"data row3 col2\" >244</td>\n",
       "      <td id=\"T_71301_row3_col3\" class=\"data row3 col3\" >249</td>\n",
       "      <td id=\"T_71301_row3_col4\" class=\"data row3 col4\" >253</td>\n",
       "      <td id=\"T_71301_row3_col5\" class=\"data row3 col5\" >187</td>\n",
       "      <td id=\"T_71301_row3_col6\" class=\"data row3 col6\" >46</td>\n",
       "      <td id=\"T_71301_row3_col7\" class=\"data row3 col7\" >10</td>\n",
       "      <td id=\"T_71301_row3_col8\" class=\"data row3 col8\" >8</td>\n",
       "      <td id=\"T_71301_row3_col9\" class=\"data row3 col9\" >4</td>\n",
       "      <td id=\"T_71301_row3_col10\" class=\"data row3 col10\" >10</td>\n",
       "      <td id=\"T_71301_row3_col11\" class=\"data row3 col11\" >194</td>\n",
       "      <td id=\"T_71301_row3_col12\" class=\"data row3 col12\" >253</td>\n",
       "      <td id=\"T_71301_row3_col13\" class=\"data row3 col13\" >253</td>\n",
       "      <td id=\"T_71301_row3_col14\" class=\"data row3 col14\" >233</td>\n",
       "      <td id=\"T_71301_row3_col15\" class=\"data row3 col15\" >0</td>\n",
       "      <td id=\"T_71301_row3_col16\" class=\"data row3 col16\" >0</td>\n",
       "      <td id=\"T_71301_row3_col17\" class=\"data row3 col17\" >0</td>\n",
       "    </tr>\n",
       "    <tr>\n",
       "      <th id=\"T_71301_level0_row4\" class=\"row_heading level0 row4\" >4</th>\n",
       "      <td id=\"T_71301_row4_col0\" class=\"data row4 col0\" >0</td>\n",
       "      <td id=\"T_71301_row4_col1\" class=\"data row4 col1\" >107</td>\n",
       "      <td id=\"T_71301_row4_col2\" class=\"data row4 col2\" >253</td>\n",
       "      <td id=\"T_71301_row4_col3\" class=\"data row4 col3\" >253</td>\n",
       "      <td id=\"T_71301_row4_col4\" class=\"data row4 col4\" >230</td>\n",
       "      <td id=\"T_71301_row4_col5\" class=\"data row4 col5\" >48</td>\n",
       "      <td id=\"T_71301_row4_col6\" class=\"data row4 col6\" >0</td>\n",
       "      <td id=\"T_71301_row4_col7\" class=\"data row4 col7\" >0</td>\n",
       "      <td id=\"T_71301_row4_col8\" class=\"data row4 col8\" >0</td>\n",
       "      <td id=\"T_71301_row4_col9\" class=\"data row4 col9\" >0</td>\n",
       "      <td id=\"T_71301_row4_col10\" class=\"data row4 col10\" >0</td>\n",
       "      <td id=\"T_71301_row4_col11\" class=\"data row4 col11\" >192</td>\n",
       "      <td id=\"T_71301_row4_col12\" class=\"data row4 col12\" >253</td>\n",
       "      <td id=\"T_71301_row4_col13\" class=\"data row4 col13\" >253</td>\n",
       "      <td id=\"T_71301_row4_col14\" class=\"data row4 col14\" >156</td>\n",
       "      <td id=\"T_71301_row4_col15\" class=\"data row4 col15\" >0</td>\n",
       "      <td id=\"T_71301_row4_col16\" class=\"data row4 col16\" >0</td>\n",
       "      <td id=\"T_71301_row4_col17\" class=\"data row4 col17\" >0</td>\n",
       "    </tr>\n",
       "    <tr>\n",
       "      <th id=\"T_71301_level0_row5\" class=\"row_heading level0 row5\" >5</th>\n",
       "      <td id=\"T_71301_row5_col0\" class=\"data row5 col0\" >0</td>\n",
       "      <td id=\"T_71301_row5_col1\" class=\"data row5 col1\" >3</td>\n",
       "      <td id=\"T_71301_row5_col2\" class=\"data row5 col2\" >20</td>\n",
       "      <td id=\"T_71301_row5_col3\" class=\"data row5 col3\" >20</td>\n",
       "      <td id=\"T_71301_row5_col4\" class=\"data row5 col4\" >15</td>\n",
       "      <td id=\"T_71301_row5_col5\" class=\"data row5 col5\" >0</td>\n",
       "      <td id=\"T_71301_row5_col6\" class=\"data row5 col6\" >0</td>\n",
       "      <td id=\"T_71301_row5_col7\" class=\"data row5 col7\" >0</td>\n",
       "      <td id=\"T_71301_row5_col8\" class=\"data row5 col8\" >0</td>\n",
       "      <td id=\"T_71301_row5_col9\" class=\"data row5 col9\" >0</td>\n",
       "      <td id=\"T_71301_row5_col10\" class=\"data row5 col10\" >43</td>\n",
       "      <td id=\"T_71301_row5_col11\" class=\"data row5 col11\" >224</td>\n",
       "      <td id=\"T_71301_row5_col12\" class=\"data row5 col12\" >253</td>\n",
       "      <td id=\"T_71301_row5_col13\" class=\"data row5 col13\" >245</td>\n",
       "      <td id=\"T_71301_row5_col14\" class=\"data row5 col14\" >74</td>\n",
       "      <td id=\"T_71301_row5_col15\" class=\"data row5 col15\" >0</td>\n",
       "      <td id=\"T_71301_row5_col16\" class=\"data row5 col16\" >0</td>\n",
       "      <td id=\"T_71301_row5_col17\" class=\"data row5 col17\" >0</td>\n",
       "    </tr>\n",
       "    <tr>\n",
       "      <th id=\"T_71301_level0_row6\" class=\"row_heading level0 row6\" >6</th>\n",
       "      <td id=\"T_71301_row6_col0\" class=\"data row6 col0\" >0</td>\n",
       "      <td id=\"T_71301_row6_col1\" class=\"data row6 col1\" >0</td>\n",
       "      <td id=\"T_71301_row6_col2\" class=\"data row6 col2\" >0</td>\n",
       "      <td id=\"T_71301_row6_col3\" class=\"data row6 col3\" >0</td>\n",
       "      <td id=\"T_71301_row6_col4\" class=\"data row6 col4\" >0</td>\n",
       "      <td id=\"T_71301_row6_col5\" class=\"data row6 col5\" >0</td>\n",
       "      <td id=\"T_71301_row6_col6\" class=\"data row6 col6\" >0</td>\n",
       "      <td id=\"T_71301_row6_col7\" class=\"data row6 col7\" >0</td>\n",
       "      <td id=\"T_71301_row6_col8\" class=\"data row6 col8\" >0</td>\n",
       "      <td id=\"T_71301_row6_col9\" class=\"data row6 col9\" >0</td>\n",
       "      <td id=\"T_71301_row6_col10\" class=\"data row6 col10\" >249</td>\n",
       "      <td id=\"T_71301_row6_col11\" class=\"data row6 col11\" >253</td>\n",
       "      <td id=\"T_71301_row6_col12\" class=\"data row6 col12\" >245</td>\n",
       "      <td id=\"T_71301_row6_col13\" class=\"data row6 col13\" >126</td>\n",
       "      <td id=\"T_71301_row6_col14\" class=\"data row6 col14\" >0</td>\n",
       "      <td id=\"T_71301_row6_col15\" class=\"data row6 col15\" >0</td>\n",
       "      <td id=\"T_71301_row6_col16\" class=\"data row6 col16\" >0</td>\n",
       "      <td id=\"T_71301_row6_col17\" class=\"data row6 col17\" >0</td>\n",
       "    </tr>\n",
       "    <tr>\n",
       "      <th id=\"T_71301_level0_row7\" class=\"row_heading level0 row7\" >7</th>\n",
       "      <td id=\"T_71301_row7_col0\" class=\"data row7 col0\" >0</td>\n",
       "      <td id=\"T_71301_row7_col1\" class=\"data row7 col1\" >0</td>\n",
       "      <td id=\"T_71301_row7_col2\" class=\"data row7 col2\" >0</td>\n",
       "      <td id=\"T_71301_row7_col3\" class=\"data row7 col3\" >0</td>\n",
       "      <td id=\"T_71301_row7_col4\" class=\"data row7 col4\" >0</td>\n",
       "      <td id=\"T_71301_row7_col5\" class=\"data row7 col5\" >0</td>\n",
       "      <td id=\"T_71301_row7_col6\" class=\"data row7 col6\" >0</td>\n",
       "      <td id=\"T_71301_row7_col7\" class=\"data row7 col7\" >14</td>\n",
       "      <td id=\"T_71301_row7_col8\" class=\"data row7 col8\" >101</td>\n",
       "      <td id=\"T_71301_row7_col9\" class=\"data row7 col9\" >223</td>\n",
       "      <td id=\"T_71301_row7_col10\" class=\"data row7 col10\" >253</td>\n",
       "      <td id=\"T_71301_row7_col11\" class=\"data row7 col11\" >248</td>\n",
       "      <td id=\"T_71301_row7_col12\" class=\"data row7 col12\" >124</td>\n",
       "      <td id=\"T_71301_row7_col13\" class=\"data row7 col13\" >0</td>\n",
       "      <td id=\"T_71301_row7_col14\" class=\"data row7 col14\" >0</td>\n",
       "      <td id=\"T_71301_row7_col15\" class=\"data row7 col15\" >0</td>\n",
       "      <td id=\"T_71301_row7_col16\" class=\"data row7 col16\" >0</td>\n",
       "      <td id=\"T_71301_row7_col17\" class=\"data row7 col17\" >0</td>\n",
       "    </tr>\n",
       "    <tr>\n",
       "      <th id=\"T_71301_level0_row8\" class=\"row_heading level0 row8\" >8</th>\n",
       "      <td id=\"T_71301_row8_col0\" class=\"data row8 col0\" >0</td>\n",
       "      <td id=\"T_71301_row8_col1\" class=\"data row8 col1\" >0</td>\n",
       "      <td id=\"T_71301_row8_col2\" class=\"data row8 col2\" >0</td>\n",
       "      <td id=\"T_71301_row8_col3\" class=\"data row8 col3\" >0</td>\n",
       "      <td id=\"T_71301_row8_col4\" class=\"data row8 col4\" >0</td>\n",
       "      <td id=\"T_71301_row8_col5\" class=\"data row8 col5\" >11</td>\n",
       "      <td id=\"T_71301_row8_col6\" class=\"data row8 col6\" >166</td>\n",
       "      <td id=\"T_71301_row8_col7\" class=\"data row8 col7\" >239</td>\n",
       "      <td id=\"T_71301_row8_col8\" class=\"data row8 col8\" >253</td>\n",
       "      <td id=\"T_71301_row8_col9\" class=\"data row8 col9\" >253</td>\n",
       "      <td id=\"T_71301_row8_col10\" class=\"data row8 col10\" >253</td>\n",
       "      <td id=\"T_71301_row8_col11\" class=\"data row8 col11\" >187</td>\n",
       "      <td id=\"T_71301_row8_col12\" class=\"data row8 col12\" >30</td>\n",
       "      <td id=\"T_71301_row8_col13\" class=\"data row8 col13\" >0</td>\n",
       "      <td id=\"T_71301_row8_col14\" class=\"data row8 col14\" >0</td>\n",
       "      <td id=\"T_71301_row8_col15\" class=\"data row8 col15\" >0</td>\n",
       "      <td id=\"T_71301_row8_col16\" class=\"data row8 col16\" >0</td>\n",
       "      <td id=\"T_71301_row8_col17\" class=\"data row8 col17\" >0</td>\n",
       "    </tr>\n",
       "    <tr>\n",
       "      <th id=\"T_71301_level0_row9\" class=\"row_heading level0 row9\" >9</th>\n",
       "      <td id=\"T_71301_row9_col0\" class=\"data row9 col0\" >0</td>\n",
       "      <td id=\"T_71301_row9_col1\" class=\"data row9 col1\" >0</td>\n",
       "      <td id=\"T_71301_row9_col2\" class=\"data row9 col2\" >0</td>\n",
       "      <td id=\"T_71301_row9_col3\" class=\"data row9 col3\" >0</td>\n",
       "      <td id=\"T_71301_row9_col4\" class=\"data row9 col4\" >0</td>\n",
       "      <td id=\"T_71301_row9_col5\" class=\"data row9 col5\" >16</td>\n",
       "      <td id=\"T_71301_row9_col6\" class=\"data row9 col6\" >248</td>\n",
       "      <td id=\"T_71301_row9_col7\" class=\"data row9 col7\" >250</td>\n",
       "      <td id=\"T_71301_row9_col8\" class=\"data row9 col8\" >253</td>\n",
       "      <td id=\"T_71301_row9_col9\" class=\"data row9 col9\" >253</td>\n",
       "      <td id=\"T_71301_row9_col10\" class=\"data row9 col10\" >253</td>\n",
       "      <td id=\"T_71301_row9_col11\" class=\"data row9 col11\" >253</td>\n",
       "      <td id=\"T_71301_row9_col12\" class=\"data row9 col12\" >232</td>\n",
       "      <td id=\"T_71301_row9_col13\" class=\"data row9 col13\" >213</td>\n",
       "      <td id=\"T_71301_row9_col14\" class=\"data row9 col14\" >111</td>\n",
       "      <td id=\"T_71301_row9_col15\" class=\"data row9 col15\" >2</td>\n",
       "      <td id=\"T_71301_row9_col16\" class=\"data row9 col16\" >0</td>\n",
       "      <td id=\"T_71301_row9_col17\" class=\"data row9 col17\" >0</td>\n",
       "    </tr>\n",
       "    <tr>\n",
       "      <th id=\"T_71301_level0_row10\" class=\"row_heading level0 row10\" >10</th>\n",
       "      <td id=\"T_71301_row10_col0\" class=\"data row10 col0\" >0</td>\n",
       "      <td id=\"T_71301_row10_col1\" class=\"data row10 col1\" >0</td>\n",
       "      <td id=\"T_71301_row10_col2\" class=\"data row10 col2\" >0</td>\n",
       "      <td id=\"T_71301_row10_col3\" class=\"data row10 col3\" >0</td>\n",
       "      <td id=\"T_71301_row10_col4\" class=\"data row10 col4\" >0</td>\n",
       "      <td id=\"T_71301_row10_col5\" class=\"data row10 col5\" >0</td>\n",
       "      <td id=\"T_71301_row10_col6\" class=\"data row10 col6\" >0</td>\n",
       "      <td id=\"T_71301_row10_col7\" class=\"data row10 col7\" >43</td>\n",
       "      <td id=\"T_71301_row10_col8\" class=\"data row10 col8\" >98</td>\n",
       "      <td id=\"T_71301_row10_col9\" class=\"data row10 col9\" >98</td>\n",
       "      <td id=\"T_71301_row10_col10\" class=\"data row10 col10\" >208</td>\n",
       "      <td id=\"T_71301_row10_col11\" class=\"data row10 col11\" >253</td>\n",
       "      <td id=\"T_71301_row10_col12\" class=\"data row10 col12\" >253</td>\n",
       "      <td id=\"T_71301_row10_col13\" class=\"data row10 col13\" >253</td>\n",
       "      <td id=\"T_71301_row10_col14\" class=\"data row10 col14\" >253</td>\n",
       "      <td id=\"T_71301_row10_col15\" class=\"data row10 col15\" >187</td>\n",
       "      <td id=\"T_71301_row10_col16\" class=\"data row10 col16\" >22</td>\n",
       "      <td id=\"T_71301_row10_col17\" class=\"data row10 col17\" >0</td>\n",
       "    </tr>\n",
       "  </tbody>\n",
       "</table>\n"
      ],
      "text/plain": [
       "<pandas.io.formats.style.Styler at 0x7f3fc3e9ba30>"
      ]
     },
     "execution_count": 10,
     "metadata": {},
     "output_type": "execute_result"
    }
   ],
   "source": [
    "im3_t = tensor(im3)\n",
    "df = pd.DataFrame(im3_t[4:15,4:22])\n",
    "df.style.set_properties(**{'font-size':'6pt'}).background_gradient('Greys')"
   ]
  },
  {
   "cell_type": "markdown",
   "id": "24555d36-ac1a-4f83-832b-973e31cb65d1",
   "metadata": {},
   "source": [
    "\n",
    "A tensor's length is its rank:\n",
    "len(stacked_threes.shape) = 3 = tensor.ndim\n",
    "shape = size of each axis of a tensor\n",
    "\n",
    "Calculate the mean of all images by taking the mean along dimension 0 of a stacked, rank 3 tensor.\n",
    "- Stacking over all the images "
   ]
  },
  {
   "cell_type": "markdown",
   "id": "39a908c7-dd7e-4374-8b72-8d2f0fe52d1f",
   "metadata": {
    "jp-MarkdownHeadingCollapsed": true,
    "tags": []
   },
   "source": [
    "## Computing Similarity"
   ]
  },
  {
   "cell_type": "markdown",
   "id": "0126c79f-9001-4063-a2d9-5e317ad71f59",
   "metadata": {},
   "source": [
    "Idea is that we find the average pixel value for each of the 3s and the 7s, and then classify which of the two averages the image is closest to."
   ]
  },
  {
   "cell_type": "code",
   "execution_count": 11,
   "id": "ff99eff2-0f70-4493-9eef-608a143d18a8",
   "metadata": {
    "tags": []
   },
   "outputs": [
    {
     "data": {
      "text/plain": [
       "(6131, 6265)"
      ]
     },
     "execution_count": 11,
     "metadata": {},
     "output_type": "execute_result"
    }
   ],
   "source": [
    "seven_tensors = [tensor(Image.open(o)) for o in sevens]\n",
    "#Using python list comprehension\n",
    "three_tensors = [tensor(Image.open(o)) for o in threes]\n",
    "len(three_tensors),len(seven_tensors)"
   ]
  },
  {
   "cell_type": "code",
   "execution_count": 28,
   "id": "b751a87a-7adf-474b-ad0f-1ae6310b411f",
   "metadata": {
    "tags": []
   },
   "outputs": [
    {
     "data": {
      "text/plain": [
       "torch.Size([28, 28])"
      ]
     },
     "execution_count": 28,
     "metadata": {},
     "output_type": "execute_result"
    }
   ],
   "source": [
    "three_tensors[1].shape\n",
    "#We have 6131 entries of a 28x28 in an array"
   ]
  },
  {
   "cell_type": "code",
   "execution_count": 30,
   "id": "497366e7-0fab-4490-bf93-77d68c1add41",
   "metadata": {
    "tags": []
   },
   "outputs": [
    {
     "data": {
      "text/plain": [
       "torch.Size([6265, 28, 28])"
      ]
     },
     "execution_count": 30,
     "metadata": {},
     "output_type": "execute_result"
    }
   ],
   "source": [
    "stacked_sevens = torch.stack(seven_tensors).float()/255\n",
    "#To typecast in PyTorch, type name of type as method\n",
    "stacked_sevens.shape"
   ]
  },
  {
   "cell_type": "code",
   "execution_count": 13,
   "id": "3e8b6663-0b56-4e6b-a49f-ebd597ade4ab",
   "metadata": {
    "tags": []
   },
   "outputs": [
    {
     "data": {
      "text/plain": [
       "<Axes: >"
      ]
     },
     "execution_count": 13,
     "metadata": {},
     "output_type": "execute_result"
    },
    {
     "data": {
      "image/png": "[encoded data removed]",
      "text/plain": [
       "<Figure size 100x100 with 1 Axes>"
      ]
     },
     "metadata": {},
     "output_type": "display_data"
    }
   ],
   "source": [
    "show_image(seven_tensors[2])"
   ]
  },
  {
   "cell_type": "code",
   "execution_count": 14,
   "id": "b52bc247-b185-45aa-8355-e3c21db9d6f7",
   "metadata": {
    "tags": []
   },
   "outputs": [
    {
     "data": {
      "text/plain": [
       "torch.Size([6131, 28, 28])"
      ]
     },
     "execution_count": 14,
     "metadata": {},
     "output_type": "execute_result"
    }
   ],
   "source": [
    "stacked_threes = torch.stack(three_tensors).float()/255\n",
    "stacked_threes.shape"
   ]
  },
  {
   "cell_type": "markdown",
   "id": "efda0ab1-e52f-43af-839c-c38a509d20c2",
   "metadata": {},
   "source": [
    "This has a rank of 3, consisting of 6131 , 28x28 pixels "
   ]
  },
  {
   "cell_type": "markdown",
   "id": "bde1b981-0247-485a-96d3-9bec80c8c857",
   "metadata": {},
   "source": [
    "*Rank* is the number of axes or dimensions in the tensor. *shape* is the size of each axis in a tensor. Rank can be found by doing ```len(tensor.shape)``` or ```tensor.ndim```"
   ]
  },
  {
   "cell_type": "code",
   "execution_count": 31,
   "id": "f8168644-19c0-4b90-8eab-437c87dafd31",
   "metadata": {
    "tags": []
   },
   "outputs": [
    {
     "data": {
      "text/plain": [
       "2"
      ]
     },
     "execution_count": 31,
     "metadata": {},
     "output_type": "execute_result"
    }
   ],
   "source": [
    "mean3.ndim"
   ]
  },
  {
   "cell_type": "code",
   "execution_count": 32,
   "id": "532280eb-4d60-42fd-a5d6-953746956fa2",
   "metadata": {
    "tags": []
   },
   "outputs": [
    {
     "data": {
      "text/plain": [
       "<Axes: >"
      ]
     },
     "execution_count": 32,
     "metadata": {},
     "output_type": "execute_result"
    },
    {
     "data": {
      "image/png": "[encoded data removed]",
      "text/plain": [
       "<Figure size 100x100 with 1 Axes>"
      ]
     },
     "metadata": {},
     "output_type": "display_data"
    }
   ],
   "source": [
    "mean3 = stacked_threes.mean(0)\n",
    "# this computes the mean along the 0th dimension of the tensor\n",
    "show_image(mean3)"
   ]
  },
  {
   "cell_type": "code",
   "execution_count": 16,
   "id": "bf20dca1-3c3c-4784-a879-b780c39b01e9",
   "metadata": {
    "tags": []
   },
   "outputs": [
    {
     "data": {
      "text/plain": [
       "<Axes: >"
      ]
     },
     "execution_count": 16,
     "metadata": {},
     "output_type": "execute_result"
    },
    {
     "data": {
      "image/png": "[encoded data removed]",
      "text/plain": [
       "<Figure size 100x100 with 1 Axes>"
      ]
     },
     "metadata": {},
     "output_type": "display_data"
    }
   ],
   "source": [
    "mean7 = stacked_sevens.mean(0)\n",
    "show_image(mean7)"
   ]
  },
  {
   "cell_type": "markdown",
   "id": "43598066-9284-4608-9d15-462ad00f232f",
   "metadata": {},
   "source": [
    "How to measure how a particlular image is different \n",
    "- compute the MSE values of every pixel?\n",
    "\n",
    "\n",
    "**Mean absolute difference or L1 norm**\n",
    "is the mean of the absolute value of differences\n",
    "(a-b).abs().mean()\n",
    "**MSE**\n",
    "- mean of the squared error, \n",
    "- will punish larger differences more\n",
    "\n",
    "\n",
    "**.backward**\n",
    "- the same as calculate_grad"
   ]
  },
  {
   "cell_type": "markdown",
   "id": "3e6ed993-170e-4aab-b7a4-51a9de486f2f",
   "metadata": {
    "jp-MarkdownHeadingCollapsed": true,
    "tags": []
   },
   "source": [
    "## Using gradient calcs"
   ]
  },
  {
   "cell_type": "code",
   "execution_count": 17,
   "id": "33d30911-5011-49e3-b282-396e7e334ec5",
   "metadata": {
    "tags": []
   },
   "outputs": [],
   "source": [
    "def f(x): return x**2"
   ]
  },
  {
   "cell_type": "code",
   "execution_count": 18,
   "id": "e33c3794-3f5f-4124-852f-54131e2c1380",
   "metadata": {
    "tags": []
   },
   "outputs": [
    {
     "data": {
      "text/plain": [
       "<matplotlib.collections.PathCollection at 0x7f3fc3706fb0>"
      ]
     },
     "execution_count": 18,
     "metadata": {},
     "output_type": "execute_result"
    },
    {
     "data": {
      "image/png": "[encoded data removed]",
      "text/plain": [
       "<Figure size 600x400 with 1 Axes>"
      ]
     },
     "metadata": {},
     "output_type": "display_data"
    }
   ],
   "source": [
    "plot_function(f, 'x', 'x**2')\n",
    "plt.scatter(-1.5, f(-1.5), color='red')"
   ]
  },
  {
   "cell_type": "code",
   "execution_count": 19,
   "id": "e8f76a8a-f853-44f3-9f09-ff894e99991f",
   "metadata": {
    "tags": []
   },
   "outputs": [],
   "source": [
    "xt = tensor(3.).requires_grad_()"
   ]
  },
  {
   "cell_type": "code",
   "execution_count": 20,
   "id": "5ce46b97-5414-4d97-9085-bfde04625c8b",
   "metadata": {
    "tags": []
   },
   "outputs": [
    {
     "data": {
      "text/plain": [
       "tensor(9., grad_fn=<PowBackward0>)"
      ]
     },
     "execution_count": 20,
     "metadata": {},
     "output_type": "execute_result"
    }
   ],
   "source": [
    "yt = f(xt)\n",
    "yt"
   ]
  },
  {
   "cell_type": "code",
   "execution_count": 21,
   "id": "f99295cf-f130-49d8-9fa2-1b5141860b90",
   "metadata": {
    "tags": []
   },
   "outputs": [],
   "source": [
    "yt.backward()"
   ]
  },
  {
   "cell_type": "code",
   "execution_count": 22,
   "id": "c1b4ee8f-3eff-440c-a42a-b27235b7b342",
   "metadata": {
    "tags": []
   },
   "outputs": [
    {
     "data": {
      "text/plain": [
       "tensor(6.)"
      ]
     },
     "execution_count": 22,
     "metadata": {},
     "output_type": "execute_result"
    }
   ],
   "source": [
    "xt.grad "
   ]
  },
  {
   "cell_type": "code",
   "execution_count": 23,
   "id": "a80c53db-55c2-4192-829e-2e699f82c4f2",
   "metadata": {
    "tags": []
   },
   "outputs": [],
   "source": [
    "xt = tensor(3.,4.,10.).requires_grad_()"
   ]
  },
  {
   "cell_type": "code",
   "execution_count": 24,
   "id": "867a8e81-ec6b-412b-a6c4-31e1f798c0f4",
   "metadata": {
    "tags": []
   },
   "outputs": [
    {
     "data": {
      "text/plain": [
       "tensor(125., grad_fn=<SumBackward0>)"
      ]
     },
     "execution_count": 24,
     "metadata": {},
     "output_type": "execute_result"
    }
   ],
   "source": [
    "def f(x): return (x**2).sum()\n",
    "\n",
    "yt = f(xt)\n",
    "yt"
   ]
  },
  {
   "cell_type": "code",
   "execution_count": 25,
   "id": "d2f0cf4c-fa1b-411c-affe-9ef1e41a7781",
   "metadata": {
    "tags": []
   },
   "outputs": [
    {
     "data": {
      "text/plain": [
       "tensor([ 6.,  8., 20.])"
      ]
     },
     "execution_count": 25,
     "metadata": {},
     "output_type": "execute_result"
    }
   ],
   "source": [
    "yt.backward()\n",
    "xt.grad"
   ]
  },
  {
   "cell_type": "markdown",
   "id": "af90f1a6-0af0-4005-ae78-86a1959e2a24",
   "metadata": {},
   "source": [
    "Small notes about tensors:\n",
    "- Tensors will automatically change type when needed\n",
    "- functionally identical to numpy arrays."
   ]
  },
  {
   "cell_type": "markdown",
   "id": "6fc6f107-4a4a-4ebf-925d-6278e691012a",
   "metadata": {
    "jp-MarkdownHeadingCollapsed": true,
    "tags": []
   },
   "source": [
    "## Computing metrics using broadcasting"
   ]
  },
  {
   "cell_type": "code",
   "execution_count": 39,
   "id": "88d87c7c-38a2-4549-923f-a23d58dec670",
   "metadata": {},
   "outputs": [
    {
     "data": {
      "text/plain": [
       "torch.Size([1010, 28, 28])"
      ]
     },
     "execution_count": 39,
     "metadata": {},
     "output_type": "execute_result"
    }
   ],
   "source": [
    "valid_3_t = torch.stack([tensor(Image.open(o)) for o in (path/'valid'/'3').ls()])\n",
    "valid_3_t = valid_3_t.float()/255\n",
    "valid_3_t.shape"
   ]
  },
  {
   "cell_type": "code",
   "execution_count": 42,
   "id": "e2d310c1-9c97-4fcc-859e-2862f113339e",
   "metadata": {
    "tags": []
   },
   "outputs": [
    {
     "data": {
      "text/plain": [
       "torch.Size([1028, 28, 28])"
      ]
     },
     "execution_count": 42,
     "metadata": {},
     "output_type": "execute_result"
    }
   ],
   "source": [
    "valid_7_t = torch.stack([tensor(Image.open(o)) for o in (path/'valid'/'7').ls()])\n",
    "valid_7_t = valid_7_t.float()/255\n",
    "valid_7_t.shape"
   ]
  },
  {
   "cell_type": "markdown",
   "id": "5634def8-fe84-4480-95ed-78aa6ec96672",
   "metadata": {},
   "source": [
    "Now begins the magic of broadcasting.\n",
    "PyTorch treats the ideal image tensor, as 1010 copies of the same tensor and allows us to apply the mse function on it. We now get a rank 1 tensor of length 1010."
   ]
  },
  {
   "cell_type": "code",
   "execution_count": 52,
   "id": "b27a6580-d9a1-4fd6-aeb1-aaad3bf8cc6a",
   "metadata": {
    "tags": []
   },
   "outputs": [],
   "source": [
    "def new_mae(a,b): return (a-b).abs().mean((-1,-2))\n",
    "#mean((-1,-2)) indicates that the mean should be taken over the last two axes of the tensor"
   ]
  },
  {
   "cell_type": "code",
   "execution_count": 49,
   "id": "e035a09f-975f-4fe2-a2bc-3712c0be2146",
   "metadata": {
    "tags": []
   },
   "outputs": [
    {
     "data": {
      "text/plain": [
       "tensor(0.1114)"
      ]
     },
     "execution_count": 49,
     "metadata": {},
     "output_type": "execute_result"
    }
   ],
   "source": [
    "new_mae(valid_3_t[1], mean3)"
   ]
  },
  {
   "cell_type": "code",
   "execution_count": 50,
   "id": "31db37d6-9cf4-4113-8042-d0080e9528a6",
   "metadata": {
    "tags": []
   },
   "outputs": [
    {
     "data": {
      "text/plain": [
       "tensor([0.1288, 0.1114, 0.1183,  ..., 0.1406, 0.1047, 0.1095])"
      ]
     },
     "execution_count": 50,
     "metadata": {},
     "output_type": "execute_result"
    }
   ],
   "source": [
    "new_mae(valid_3_t, mean3)"
   ]
  },
  {
   "cell_type": "code",
   "execution_count": 51,
   "id": "cc61d542-85bf-45af-a2bf-0d36ec8cf96c",
   "metadata": {
    "tags": []
   },
   "outputs": [
    {
     "data": {
      "text/plain": [
       "torch.Size([1010])"
      ]
     },
     "execution_count": 51,
     "metadata": {},
     "output_type": "execute_result"
    }
   ],
   "source": [
    "new_mae(valid_3_t, mean3).shape"
   ]
  },
  {
   "cell_type": "code",
   "execution_count": 53,
   "id": "df05165b-4d32-482f-a4e3-091646e23cd8",
   "metadata": {
    "tags": []
   },
   "outputs": [],
   "source": [
    "def is_3(x): return new_mae(x, mean3) < new_mae(x, mean7)"
   ]
  },
  {
   "cell_type": "code",
   "execution_count": 55,
   "id": "ea30e347-d981-48ef-b9a4-e797a85c07eb",
   "metadata": {
    "tags": []
   },
   "outputs": [
    {
     "data": {
      "text/plain": [
       "tensor([ True,  True,  True,  ..., False,  True,  True])"
      ]
     },
     "execution_count": 55,
     "metadata": {},
     "output_type": "execute_result"
    }
   ],
   "source": [
    "is_3(valid_3_t)"
   ]
  },
  {
   "cell_type": "code",
   "execution_count": 59,
   "id": "5deee2b5-1a39-4dcd-aab6-9927b078e517",
   "metadata": {
    "tags": []
   },
   "outputs": [
    {
     "data": {
      "text/plain": [
       "tensor(0.9168)"
      ]
     },
     "execution_count": 59,
     "metadata": {},
     "output_type": "execute_result"
    }
   ],
   "source": [
    "#Checking accuracy for 3s\n",
    "acc_3 = is_3(valid_3_t).float().mean()\n",
    "acc_3"
   ]
  },
  {
   "cell_type": "markdown",
   "id": "019a26ef-3eca-46e0-ac1a-a39ac9c7315a",
   "metadata": {},
   "source": [
    "## Stochastic Gradient Descent (SGD)"
   ]
  },
  {
   "cell_type": "markdown",
   "id": "675b7a61-c863-4ab3-8f5d-f158255b8440",
   "metadata": {},
   "source": [
    "Main idea behind how it works:\n",
    "\n",
    "We want a function:\n",
    "\n",
    "```python\n",
    "def pr_eight(x,w): return (x*w).sum()\n",
    "```\n",
    "\n",
    "Where:\n",
    "- x is the image, represented as a vector\n",
    "- w are the weights, and correspond to how likely a pixel is to be activated in 8\n",
    "\n",
    "Our plan:\n",
    "1. Initialise the weights\n",
    "2. For each image, use the weights to predict whether its a 3 or 7\n",
    "3. For each prediction, calculate the loss\n",
    "4. calculate the gradients for the weights\n",
    "5. *step* the weights\n",
    "6. return to step 2 and repeat the process\n",
    "7. iterate until you want to stop the training process"
   ]
  },
  {
   "cell_type": "code",
   "execution_count": 1,
   "id": "b1060e99-8552-4436-b7f5-d8cd59c48b49",
   "metadata": {
    "tags": []
   },
   "outputs": [
    {
     "ename": "NameError",
     "evalue": "name 'gv' is not defined",
     "output_type": "error",
     "traceback": [
      "\u001b[0;31m---------------------------------------------------------------------------\u001b[0m",
      "\u001b[0;31mNameError\u001b[0m                                 Traceback (most recent call last)",
      "Cell \u001b[0;32mIn[1], line 1\u001b[0m\n\u001b[0;32m----> 1\u001b[0m \u001b[43mgv\u001b[49m(\u001b[38;5;124m'''\u001b[39m\n\u001b[1;32m      2\u001b[0m \u001b[38;5;124minit->predict->loss->gradient->step->stop\u001b[39m\n\u001b[1;32m      3\u001b[0m \u001b[38;5;124mstep->predict[label=repeat]\u001b[39m\n\u001b[1;32m      4\u001b[0m \u001b[38;5;124m'''\u001b[39m)\n",
      "\u001b[0;31mNameError\u001b[0m: name 'gv' is not defined"
     ]
    }
   ],
   "source": []
  }
 ],
 "metadata": {
  "kernelspec": {
   "display_name": "Python 3 (ipykernel)",
   "language": "python",
   "name": "python3"
  },
  "language_info": {
   "codemirror_mode": {
    "name": "ipython",
    "version": 3
   },
   "file_extension": ".py",
   "mimetype": "text/x-python",
   "name": "python",
   "nbconvert_exporter": "python",
   "pygments_lexer": "ipython3",
   "version": "3.10.10"
  }
 },
 "nbformat": 4,
 "nbformat_minor": 5
}
