{
 "cells": [
  {
   "cell_type": "markdown",
   "id": "b6311802-b1cb-4aff-80d2-3781b893277f",
   "metadata": {},
   "source": [
    "# Natural Language Processing "
   ]
  },
  {
   "cell_type": "raw",
   "id": "587da4cb-a7bd-41d7-9f75-3dbc7ded535c",
   "metadata": {},
   "source": [
    "RNN: \n",
    "- Predict the next word\n",
    "Transformer: \n",
    "- Randomly delete words and then fill in the gap"
   ]
  },
  {
   "cell_type": "markdown",
   "id": "0ad7550b-377c-4fdb-828c-2c1f1e19c757",
   "metadata": {},
   "source": [
    "For now:\n",
    "- removing the last layer on a NN (that gives us an output).\n",
    "- replacing that with a matrix that converts the activations into our specific task.\n",
    "Recall:\n",
    "- each layer gets more specific at the task that it is trying to do"
   ]
  },
  {
   "cell_type": "markdown",
   "id": "52d005af-9bc9-43bf-b268-fd7ea7362317",
   "metadata": {},
   "source": [
    "# Classification of Documents"
   ]
  },
  {
   "cell_type": "code",
   "execution_count": null,
   "id": "ceea7408-f8ae-4f81-9820-a95d99831115",
   "metadata": {},
   "outputs": [],
   "source": []
  }
 ],
 "metadata": {
  "kernelspec": {
   "display_name": "Python 3 (ipykernel)",
   "language": "python",
   "name": "python3"
  },
  "language_info": {
   "codemirror_mode": {
    "name": "ipython",
    "version": 3
   },
   "file_extension": ".py",
   "mimetype": "text/x-python",
   "name": "python",
   "nbconvert_exporter": "python",
   "pygments_lexer": "ipython3",
   "version": "3.10.10"
  }
 },
 "nbformat": 4,
 "nbformat_minor": 5
}
